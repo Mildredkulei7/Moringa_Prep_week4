{
  "nbformat": 4,
  "nbformat_minor": 0,
  "metadata": {
    "colab": {
      "name": "Copy of Data Investigation with Pandas",
      "provenance": [],
      "collapsed_sections": [
        "VSnOCZ5-IPCi",
        "HToJZ2gBPawZ",
        "IICLGbvBRYHq",
        "RAVzK5O6IR8v",
        "NicC8P9LMjvO"
      ],
      "toc_visible": true,
      "include_colab_link": true
    },
    "kernelspec": {
      "name": "python3",
      "display_name": "Python 3"
    }
  },
  "cells": [
    {
      "cell_type": "markdown",
      "metadata": {
        "id": "view-in-github",
        "colab_type": "text"
      },
      "source": [
        "<a href=\"https://colab.research.google.com/github/Mildredkulei7/Moringa_Prep_week4/blob/main/Copy_of_Data_Investigation_with_Pandas.ipynb\" target=\"_parent\"><img src=\"https://colab.research.google.com/assets/colab-badge.svg\" alt=\"Open In Colab\"/></a>"
      ]
    },
    {
      "cell_type": "markdown",
      "metadata": {
        "id": "B-ZF3yPCWGPf"
      },
      "source": [
        "<font color=\"green\">*To start working on this notebook, or any other notebook that we will use in the Moringa Data Science Course, we will need to save our own copy of it. We can do this by clicking File > Save a Copy in Drive. We will then be able to make edits to our own copy of this notebook.*</font>"
      ]
    },
    {
      "cell_type": "markdown",
      "metadata": {
        "id": "m0tgCkvzPLEa"
      },
      "source": [
        "# Data Investigation with Pandas"
      ]
    },
    {
      "cell_type": "markdown",
      "metadata": {
        "id": "VSnOCZ5-IPCi"
      },
      "source": [
        "## 1.0 Importing our Libraries"
      ]
    },
    {
      "cell_type": "code",
      "metadata": {
        "id": "3r-KDLvrO44a"
      },
      "source": [
        "# Importing the libraries we will need \n",
        "\n",
        "# Importing the pandas library\n",
        "# \n",
        "import pandas as pd\n",
        "\n",
        "# Importing the numpy library\n",
        "#\n",
        "import numpy as np"
      ],
      "execution_count": null,
      "outputs": []
    },
    {
      "cell_type": "markdown",
      "metadata": {
        "id": "HToJZ2gBPawZ"
      },
      "source": [
        "## 1.1 Reading the Dataset from our CSV file\n",
        "\n"
      ]
    },
    {
      "cell_type": "markdown",
      "metadata": {
        "id": "LBUr8VUXQX-K"
      },
      "source": [
        "\n",
        "\n",
        "The dataset we will use contains information about the 2009 Census - The Rural Urban Population by Age, Sex and District.\n",
        "\n",
        "\n",
        "*   Dataset link for download or access: [Link](https://drive.google.com/open?id=1pc9ZLFGsosdWBk1lI29ADIqRtCvD_FBe)\n",
        "\n",
        "\n",
        "\n"
      ]
    },
    {
      "cell_type": "code",
      "metadata": {
        "id": "1acwmZanRNHs",
        "colab": {
          "base_uri": "https://localhost:8080/",
          "height": 402
        },
        "outputId": "340f9c45-8dc8-4dc0-e9dc-4031fc72c8ba"
      },
      "source": [
        "# Let's read the data from the CSV file and create the dataframe to be used\n",
        "# \n",
        "df = pd.read_csv(\"Rural_Urban_Population_By_Age_Sex_and_by_District__2009.csv\")\n",
        "df"
      ],
      "execution_count": null,
      "outputs": [
        {
          "output_type": "execute_result",
          "data": {
            "text/html": [
              "<div>\n",
              "<style scoped>\n",
              "    .dataframe tbody tr th:only-of-type {\n",
              "        vertical-align: middle;\n",
              "    }\n",
              "\n",
              "    .dataframe tbody tr th {\n",
              "        vertical-align: top;\n",
              "    }\n",
              "\n",
              "    .dataframe thead th {\n",
              "        text-align: right;\n",
              "    }\n",
              "</style>\n",
              "<table border=\"1\" class=\"dataframe\">\n",
              "  <thead>\n",
              "    <tr style=\"text-align: right;\">\n",
              "      <th></th>\n",
              "      <th>District</th>\n",
              "      <th>Urban/Rural</th>\n",
              "      <th>Age_years</th>\n",
              "      <th>Male</th>\n",
              "      <th>Female</th>\n",
              "      <th>Total</th>\n",
              "      <th>County</th>\n",
              "      <th>Province</th>\n",
              "      <th>OBJECTID</th>\n",
              "    </tr>\n",
              "  </thead>\n",
              "  <tbody>\n",
              "    <tr>\n",
              "      <th>0</th>\n",
              "      <td>NAIROBI WEST</td>\n",
              "      <td>Urban</td>\n",
              "      <td>0</td>\n",
              "      <td>10126</td>\n",
              "      <td>10116</td>\n",
              "      <td>20242</td>\n",
              "      <td>Nairobi</td>\n",
              "      <td>NAIROBI</td>\n",
              "      <td>0</td>\n",
              "    </tr>\n",
              "    <tr>\n",
              "      <th>1</th>\n",
              "      <td>NAIROBI WEST</td>\n",
              "      <td>Urban</td>\n",
              "      <td>1</td>\n",
              "      <td>8124</td>\n",
              "      <td>7989</td>\n",
              "      <td>16113</td>\n",
              "      <td>Nairobi</td>\n",
              "      <td>NAIROBI</td>\n",
              "      <td>1</td>\n",
              "    </tr>\n",
              "    <tr>\n",
              "      <th>2</th>\n",
              "      <td>NAIROBI WEST</td>\n",
              "      <td>Urban</td>\n",
              "      <td>2</td>\n",
              "      <td>8462</td>\n",
              "      <td>8627</td>\n",
              "      <td>17089</td>\n",
              "      <td>Nairobi</td>\n",
              "      <td>NAIROBI</td>\n",
              "      <td>2</td>\n",
              "    </tr>\n",
              "    <tr>\n",
              "      <th>3</th>\n",
              "      <td>NAIROBI WEST</td>\n",
              "      <td>Urban</td>\n",
              "      <td>3</td>\n",
              "      <td>8334</td>\n",
              "      <td>8420</td>\n",
              "      <td>16754</td>\n",
              "      <td>Nairobi</td>\n",
              "      <td>NAIROBI</td>\n",
              "      <td>3</td>\n",
              "    </tr>\n",
              "    <tr>\n",
              "      <th>4</th>\n",
              "      <td>NAIROBI WEST</td>\n",
              "      <td>Urban</td>\n",
              "      <td>4</td>\n",
              "      <td>7948</td>\n",
              "      <td>7820</td>\n",
              "      <td>15768</td>\n",
              "      <td>Nairobi</td>\n",
              "      <td>NAIROBI</td>\n",
              "      <td>4</td>\n",
              "    </tr>\n",
              "    <tr>\n",
              "      <th>...</th>\n",
              "      <td>...</td>\n",
              "      <td>...</td>\n",
              "      <td>...</td>\n",
              "      <td>...</td>\n",
              "      <td>...</td>\n",
              "      <td>...</td>\n",
              "      <td>...</td>\n",
              "      <td>...</td>\n",
              "      <td>...</td>\n",
              "    </tr>\n",
              "    <tr>\n",
              "      <th>25415</th>\n",
              "      <td>TESO SOUTH</td>\n",
              "      <td>Rural</td>\n",
              "      <td>77</td>\n",
              "      <td>99</td>\n",
              "      <td>86</td>\n",
              "      <td>185</td>\n",
              "      <td>Busia</td>\n",
              "      <td>WESTERN</td>\n",
              "      <td>25415</td>\n",
              "    </tr>\n",
              "    <tr>\n",
              "      <th>25416</th>\n",
              "      <td>TESO SOUTH</td>\n",
              "      <td>Rural</td>\n",
              "      <td>78</td>\n",
              "      <td>63</td>\n",
              "      <td>47</td>\n",
              "      <td>110</td>\n",
              "      <td>Busia</td>\n",
              "      <td>WESTERN</td>\n",
              "      <td>25416</td>\n",
              "    </tr>\n",
              "    <tr>\n",
              "      <th>25417</th>\n",
              "      <td>TESO SOUTH</td>\n",
              "      <td>Rural</td>\n",
              "      <td>79</td>\n",
              "      <td>90</td>\n",
              "      <td>121</td>\n",
              "      <td>211</td>\n",
              "      <td>Busia</td>\n",
              "      <td>WESTERN</td>\n",
              "      <td>25417</td>\n",
              "    </tr>\n",
              "    <tr>\n",
              "      <th>25418</th>\n",
              "      <td>TESO SOUTH</td>\n",
              "      <td>Rural</td>\n",
              "      <td>80+</td>\n",
              "      <td>384</td>\n",
              "      <td>391</td>\n",
              "      <td>775</td>\n",
              "      <td>Busia</td>\n",
              "      <td>WESTERN</td>\n",
              "      <td>25418</td>\n",
              "    </tr>\n",
              "    <tr>\n",
              "      <th>25419</th>\n",
              "      <td>TESO SOUTH</td>\n",
              "      <td>Rural</td>\n",
              "      <td>Age NS</td>\n",
              "      <td>25</td>\n",
              "      <td>23</td>\n",
              "      <td>48</td>\n",
              "      <td>Busia</td>\n",
              "      <td>WESTERN</td>\n",
              "      <td>25419</td>\n",
              "    </tr>\n",
              "  </tbody>\n",
              "</table>\n",
              "<p>25420 rows × 9 columns</p>\n",
              "</div>"
            ],
            "text/plain": [
              "           District Urban/Rural Age_years  ...   County  Province  OBJECTID\n",
              "0      NAIROBI WEST       Urban         0  ...  Nairobi   NAIROBI         0\n",
              "1      NAIROBI WEST       Urban         1  ...  Nairobi   NAIROBI         1\n",
              "2      NAIROBI WEST       Urban         2  ...  Nairobi   NAIROBI         2\n",
              "3      NAIROBI WEST       Urban         3  ...  Nairobi   NAIROBI         3\n",
              "4      NAIROBI WEST       Urban         4  ...  Nairobi   NAIROBI         4\n",
              "...             ...         ...       ...  ...      ...       ...       ...\n",
              "25415    TESO SOUTH       Rural        77  ...    Busia   WESTERN     25415\n",
              "25416    TESO SOUTH       Rural        78  ...    Busia   WESTERN     25416\n",
              "25417    TESO SOUTH       Rural        79  ...    Busia   WESTERN     25417\n",
              "25418    TESO SOUTH       Rural       80+  ...    Busia   WESTERN     25418\n",
              "25419    TESO SOUTH       Rural    Age NS  ...    Busia   WESTERN     25419\n",
              "\n",
              "[25420 rows x 9 columns]"
            ]
          },
          "metadata": {
            "tags": []
          },
          "execution_count": 186
        }
      ]
    },
    {
      "cell_type": "markdown",
      "metadata": {
        "id": "IICLGbvBRYHq"
      },
      "source": [
        "## 1.2 Previewing our Dataset\n"
      ]
    },
    {
      "cell_type": "code",
      "metadata": {
        "id": "WrwHg-hzR5BY",
        "colab": {
          "base_uri": "https://localhost:8080/",
          "height": 343
        },
        "outputId": "8f372f7b-953a-48d8-d50e-6b69c06985a8"
      },
      "source": [
        "# Let's preview the first 10 rows of our data\n",
        "# \n",
        "df.head(10)"
      ],
      "execution_count": null,
      "outputs": [
        {
          "output_type": "execute_result",
          "data": {
            "text/html": [
              "<div>\n",
              "<style scoped>\n",
              "    .dataframe tbody tr th:only-of-type {\n",
              "        vertical-align: middle;\n",
              "    }\n",
              "\n",
              "    .dataframe tbody tr th {\n",
              "        vertical-align: top;\n",
              "    }\n",
              "\n",
              "    .dataframe thead th {\n",
              "        text-align: right;\n",
              "    }\n",
              "</style>\n",
              "<table border=\"1\" class=\"dataframe\">\n",
              "  <thead>\n",
              "    <tr style=\"text-align: right;\">\n",
              "      <th></th>\n",
              "      <th>District</th>\n",
              "      <th>Urban/Rural</th>\n",
              "      <th>Age_years</th>\n",
              "      <th>Male</th>\n",
              "      <th>Female</th>\n",
              "      <th>Total</th>\n",
              "      <th>County</th>\n",
              "      <th>Province</th>\n",
              "      <th>OBJECTID</th>\n",
              "    </tr>\n",
              "  </thead>\n",
              "  <tbody>\n",
              "    <tr>\n",
              "      <th>0</th>\n",
              "      <td>NAIROBI WEST</td>\n",
              "      <td>Urban</td>\n",
              "      <td>0</td>\n",
              "      <td>10126</td>\n",
              "      <td>10116</td>\n",
              "      <td>20242</td>\n",
              "      <td>Nairobi</td>\n",
              "      <td>NAIROBI</td>\n",
              "      <td>0</td>\n",
              "    </tr>\n",
              "    <tr>\n",
              "      <th>1</th>\n",
              "      <td>NAIROBI WEST</td>\n",
              "      <td>Urban</td>\n",
              "      <td>1</td>\n",
              "      <td>8124</td>\n",
              "      <td>7989</td>\n",
              "      <td>16113</td>\n",
              "      <td>Nairobi</td>\n",
              "      <td>NAIROBI</td>\n",
              "      <td>1</td>\n",
              "    </tr>\n",
              "    <tr>\n",
              "      <th>2</th>\n",
              "      <td>NAIROBI WEST</td>\n",
              "      <td>Urban</td>\n",
              "      <td>2</td>\n",
              "      <td>8462</td>\n",
              "      <td>8627</td>\n",
              "      <td>17089</td>\n",
              "      <td>Nairobi</td>\n",
              "      <td>NAIROBI</td>\n",
              "      <td>2</td>\n",
              "    </tr>\n",
              "    <tr>\n",
              "      <th>3</th>\n",
              "      <td>NAIROBI WEST</td>\n",
              "      <td>Urban</td>\n",
              "      <td>3</td>\n",
              "      <td>8334</td>\n",
              "      <td>8420</td>\n",
              "      <td>16754</td>\n",
              "      <td>Nairobi</td>\n",
              "      <td>NAIROBI</td>\n",
              "      <td>3</td>\n",
              "    </tr>\n",
              "    <tr>\n",
              "      <th>4</th>\n",
              "      <td>NAIROBI WEST</td>\n",
              "      <td>Urban</td>\n",
              "      <td>4</td>\n",
              "      <td>7948</td>\n",
              "      <td>7820</td>\n",
              "      <td>15768</td>\n",
              "      <td>Nairobi</td>\n",
              "      <td>NAIROBI</td>\n",
              "      <td>4</td>\n",
              "    </tr>\n",
              "    <tr>\n",
              "      <th>5</th>\n",
              "      <td>NAIROBI WEST</td>\n",
              "      <td>Urban</td>\n",
              "      <td>5</td>\n",
              "      <td>7547</td>\n",
              "      <td>7660</td>\n",
              "      <td>15207</td>\n",
              "      <td>Nairobi</td>\n",
              "      <td>NAIROBI</td>\n",
              "      <td>5</td>\n",
              "    </tr>\n",
              "    <tr>\n",
              "      <th>6</th>\n",
              "      <td>NAIROBI WEST</td>\n",
              "      <td>Urban</td>\n",
              "      <td>6</td>\n",
              "      <td>6966</td>\n",
              "      <td>7082</td>\n",
              "      <td>14048</td>\n",
              "      <td>Nairobi</td>\n",
              "      <td>NAIROBI</td>\n",
              "      <td>6</td>\n",
              "    </tr>\n",
              "    <tr>\n",
              "      <th>7</th>\n",
              "      <td>NAIROBI WEST</td>\n",
              "      <td>Urban</td>\n",
              "      <td>7</td>\n",
              "      <td>6511</td>\n",
              "      <td>6674</td>\n",
              "      <td>13185</td>\n",
              "      <td>Nairobi</td>\n",
              "      <td>NAIROBI</td>\n",
              "      <td>7</td>\n",
              "    </tr>\n",
              "    <tr>\n",
              "      <th>8</th>\n",
              "      <td>NAIROBI WEST</td>\n",
              "      <td>Urban</td>\n",
              "      <td>8</td>\n",
              "      <td>6171</td>\n",
              "      <td>6489</td>\n",
              "      <td>12660</td>\n",
              "      <td>Nairobi</td>\n",
              "      <td>NAIROBI</td>\n",
              "      <td>8</td>\n",
              "    </tr>\n",
              "    <tr>\n",
              "      <th>9</th>\n",
              "      <td>NAIROBI WEST</td>\n",
              "      <td>Urban</td>\n",
              "      <td>9</td>\n",
              "      <td>6361</td>\n",
              "      <td>6662</td>\n",
              "      <td>13023</td>\n",
              "      <td>Nairobi</td>\n",
              "      <td>NAIROBI</td>\n",
              "      <td>9</td>\n",
              "    </tr>\n",
              "  </tbody>\n",
              "</table>\n",
              "</div>"
            ],
            "text/plain": [
              "       District Urban/Rural Age_years   Male  ...  Total   County Province OBJECTID\n",
              "0  NAIROBI WEST       Urban         0  10126  ...  20242  Nairobi  NAIROBI        0\n",
              "1  NAIROBI WEST       Urban         1   8124  ...  16113  Nairobi  NAIROBI        1\n",
              "2  NAIROBI WEST       Urban         2   8462  ...  17089  Nairobi  NAIROBI        2\n",
              "3  NAIROBI WEST       Urban         3   8334  ...  16754  Nairobi  NAIROBI        3\n",
              "4  NAIROBI WEST       Urban         4   7948  ...  15768  Nairobi  NAIROBI        4\n",
              "5  NAIROBI WEST       Urban         5   7547  ...  15207  Nairobi  NAIROBI        5\n",
              "6  NAIROBI WEST       Urban         6   6966  ...  14048  Nairobi  NAIROBI        6\n",
              "7  NAIROBI WEST       Urban         7   6511  ...  13185  Nairobi  NAIROBI        7\n",
              "8  NAIROBI WEST       Urban         8   6171  ...  12660  Nairobi  NAIROBI        8\n",
              "9  NAIROBI WEST       Urban         9   6361  ...  13023  Nairobi  NAIROBI        9\n",
              "\n",
              "[10 rows x 9 columns]"
            ]
          },
          "metadata": {
            "tags": []
          },
          "execution_count": 4
        }
      ]
    },
    {
      "cell_type": "markdown",
      "metadata": {
        "id": "RAVzK5O6IR8v"
      },
      "source": [
        "## 1.3 Accessing Information about our Dataset"
      ]
    },
    {
      "cell_type": "code",
      "metadata": {
        "id": "0d2kfemDIYWI",
        "colab": {
          "base_uri": "https://localhost:8080/"
        },
        "outputId": "88573f72-293b-46bf-b9a8-e61579f03411"
      },
      "source": [
        "# We can getting to know more about the dataset by accessing its information \n",
        "#\n",
        "df.info()"
      ],
      "execution_count": null,
      "outputs": [
        {
          "output_type": "stream",
          "text": [
            "<class 'pandas.core.frame.DataFrame'>\n",
            "RangeIndex: 25420 entries, 0 to 25419\n",
            "Data columns (total 9 columns):\n",
            " #   Column       Non-Null Count  Dtype \n",
            "---  ------       --------------  ----- \n",
            " 0   District     25420 non-null  object\n",
            " 1   Urban/Rural  25420 non-null  object\n",
            " 2   Age_years    25420 non-null  object\n",
            " 3   Male         25420 non-null  int64 \n",
            " 4   Female       25420 non-null  int64 \n",
            " 5   Total        25420 non-null  int64 \n",
            " 6   County       25420 non-null  object\n",
            " 7   Province     25420 non-null  object\n",
            " 8   OBJECTID     25420 non-null  int64 \n",
            "dtypes: int64(4), object(5)\n",
            "memory usage: 1.7+ MB\n"
          ],
          "name": "stdout"
        }
      ]
    },
    {
      "cell_type": "markdown",
      "metadata": {
        "id": "NicC8P9LMjvO"
      },
      "source": [
        "## 1.4 Answering Questions"
      ]
    },
    {
      "cell_type": "markdown",
      "metadata": {
        "id": "8izhaW7UNYGJ"
      },
      "source": [
        "Let's answer the following questions with our dataset"
      ]
    },
    {
      "cell_type": "code",
      "metadata": {
        "id": "tTOgnXvuMxcn",
        "colab": {
          "base_uri": "https://localhost:8080/"
        },
        "outputId": "8ba6930a-7484-4385-c37a-9741a7d384b3"
      },
      "source": [
        "# Challenge 1\n",
        "# What was the average age of a person of Kenya?\n",
        "#\n",
        "from sklearn.preprocessing import LabelEncoder\n",
        "label_encoder = LabelEncoder()\n",
        "\n",
        "label_encoder.fit(df['Age_years'])"
      ],
      "execution_count": null,
      "outputs": [
        {
          "output_type": "execute_result",
          "data": {
            "text/plain": [
              "LabelEncoder()"
            ]
          },
          "metadata": {
            "tags": []
          },
          "execution_count": 10
        }
      ]
    },
    {
      "cell_type": "code",
      "metadata": {
        "colab": {
          "base_uri": "https://localhost:8080/"
        },
        "id": "uJPP76sPfcN_",
        "outputId": "c33d46e1-3e34-4a62-93d8-4febbfdf904a"
      },
      "source": [
        "list(label_encoder.classes_)"
      ],
      "execution_count": null,
      "outputs": [
        {
          "output_type": "execute_result",
          "data": {
            "text/plain": [
              "['0',\n",
              " '1',\n",
              " '10',\n",
              " '11',\n",
              " '12',\n",
              " '13',\n",
              " '14',\n",
              " '15',\n",
              " '16',\n",
              " '17',\n",
              " '18',\n",
              " '19',\n",
              " '2',\n",
              " '20',\n",
              " '21',\n",
              " '22',\n",
              " '23',\n",
              " '24',\n",
              " '25',\n",
              " '26',\n",
              " '27',\n",
              " '28',\n",
              " '29',\n",
              " '3',\n",
              " '30',\n",
              " '31',\n",
              " '32',\n",
              " '33',\n",
              " '34',\n",
              " '35',\n",
              " '36',\n",
              " '37',\n",
              " '38',\n",
              " '39',\n",
              " '4',\n",
              " '40',\n",
              " '41',\n",
              " '42',\n",
              " '43',\n",
              " '44',\n",
              " '45',\n",
              " '46',\n",
              " '47',\n",
              " '48',\n",
              " '49',\n",
              " '5',\n",
              " '50',\n",
              " '51',\n",
              " '52',\n",
              " '53',\n",
              " '54',\n",
              " '55',\n",
              " '56',\n",
              " '57',\n",
              " '58',\n",
              " '59',\n",
              " '6',\n",
              " '60',\n",
              " '61',\n",
              " '62',\n",
              " '63',\n",
              " '64',\n",
              " '65',\n",
              " '66',\n",
              " '67',\n",
              " '68',\n",
              " '69',\n",
              " '7',\n",
              " '70',\n",
              " '71',\n",
              " '72',\n",
              " '73',\n",
              " '74',\n",
              " '75',\n",
              " '76',\n",
              " '77',\n",
              " '78',\n",
              " '79',\n",
              " '8',\n",
              " '80+',\n",
              " '9',\n",
              " 'Age NS']"
            ]
          },
          "metadata": {
            "tags": []
          },
          "execution_count": 11
        }
      ]
    },
    {
      "cell_type": "code",
      "metadata": {
        "colab": {
          "base_uri": "https://localhost:8080/",
          "height": 441
        },
        "id": "-2bDX5IRgHbX",
        "outputId": "6facea71-f82e-4727-8242-d46f36a512bb"
      },
      "source": [
        "df['Age_years'] = label_encoder.transform(df['Age_years'])\n",
        "df"
      ],
      "execution_count": null,
      "outputs": [
        {
          "output_type": "stream",
          "text": [
            "/usr/local/lib/python3.7/dist-packages/numpy/lib/arraysetops.py:576: FutureWarning: elementwise comparison failed; returning scalar instead, but in the future will perform elementwise comparison\n",
            "  mask &= (ar1 != a)\n"
          ],
          "name": "stderr"
        },
        {
          "output_type": "error",
          "ename": "ValueError",
          "evalue": "ignored",
          "traceback": [
            "\u001b[0;31m---------------------------------------------------------------------------\u001b[0m",
            "\u001b[0;31mValueError\u001b[0m                                Traceback (most recent call last)",
            "\u001b[0;32m<ipython-input-22-6d64a8c5030c>\u001b[0m in \u001b[0;36m<module>\u001b[0;34m()\u001b[0m\n\u001b[0;32m----> 1\u001b[0;31m \u001b[0mdf\u001b[0m\u001b[0;34m[\u001b[0m\u001b[0;34m'Age_years'\u001b[0m\u001b[0;34m]\u001b[0m \u001b[0;34m=\u001b[0m \u001b[0mlabel_encoder\u001b[0m\u001b[0;34m.\u001b[0m\u001b[0mtransform\u001b[0m\u001b[0;34m(\u001b[0m\u001b[0mdf\u001b[0m\u001b[0;34m[\u001b[0m\u001b[0;34m'Age_years'\u001b[0m\u001b[0;34m]\u001b[0m\u001b[0;34m)\u001b[0m\u001b[0;34m\u001b[0m\u001b[0;34m\u001b[0m\u001b[0m\n\u001b[0m\u001b[1;32m      2\u001b[0m \u001b[0mdf\u001b[0m\u001b[0;34m\u001b[0m\u001b[0;34m\u001b[0m\u001b[0m\n",
            "\u001b[0;32m/usr/local/lib/python3.7/dist-packages/sklearn/preprocessing/_label.py\u001b[0m in \u001b[0;36mtransform\u001b[0;34m(self, y)\u001b[0m\n\u001b[1;32m    271\u001b[0m             \u001b[0;32mreturn\u001b[0m \u001b[0mnp\u001b[0m\u001b[0;34m.\u001b[0m\u001b[0marray\u001b[0m\u001b[0;34m(\u001b[0m\u001b[0;34m[\u001b[0m\u001b[0;34m]\u001b[0m\u001b[0;34m)\u001b[0m\u001b[0;34m\u001b[0m\u001b[0;34m\u001b[0m\u001b[0m\n\u001b[1;32m    272\u001b[0m \u001b[0;34m\u001b[0m\u001b[0m\n\u001b[0;32m--> 273\u001b[0;31m         \u001b[0m_\u001b[0m\u001b[0;34m,\u001b[0m \u001b[0my\u001b[0m \u001b[0;34m=\u001b[0m \u001b[0m_encode\u001b[0m\u001b[0;34m(\u001b[0m\u001b[0my\u001b[0m\u001b[0;34m,\u001b[0m \u001b[0muniques\u001b[0m\u001b[0;34m=\u001b[0m\u001b[0mself\u001b[0m\u001b[0;34m.\u001b[0m\u001b[0mclasses_\u001b[0m\u001b[0;34m,\u001b[0m \u001b[0mencode\u001b[0m\u001b[0;34m=\u001b[0m\u001b[0;32mTrue\u001b[0m\u001b[0;34m)\u001b[0m\u001b[0;34m\u001b[0m\u001b[0;34m\u001b[0m\u001b[0m\n\u001b[0m\u001b[1;32m    274\u001b[0m         \u001b[0;32mreturn\u001b[0m \u001b[0my\u001b[0m\u001b[0;34m\u001b[0m\u001b[0;34m\u001b[0m\u001b[0m\n\u001b[1;32m    275\u001b[0m \u001b[0;34m\u001b[0m\u001b[0m\n",
            "\u001b[0;32m/usr/local/lib/python3.7/dist-packages/sklearn/preprocessing/_label.py\u001b[0m in \u001b[0;36m_encode\u001b[0;34m(values, uniques, encode, check_unknown)\u001b[0m\n\u001b[1;32m    116\u001b[0m     \u001b[0;32melse\u001b[0m\u001b[0;34m:\u001b[0m\u001b[0;34m\u001b[0m\u001b[0;34m\u001b[0m\u001b[0m\n\u001b[1;32m    117\u001b[0m         return _encode_numpy(values, uniques, encode,\n\u001b[0;32m--> 118\u001b[0;31m                              check_unknown=check_unknown)\n\u001b[0m\u001b[1;32m    119\u001b[0m \u001b[0;34m\u001b[0m\u001b[0m\n\u001b[1;32m    120\u001b[0m \u001b[0;34m\u001b[0m\u001b[0m\n",
            "\u001b[0;32m/usr/local/lib/python3.7/dist-packages/sklearn/preprocessing/_label.py\u001b[0m in \u001b[0;36m_encode_numpy\u001b[0;34m(values, uniques, encode, check_unknown)\u001b[0m\n\u001b[1;32m     48\u001b[0m             \u001b[0;32mif\u001b[0m \u001b[0mdiff\u001b[0m\u001b[0;34m:\u001b[0m\u001b[0;34m\u001b[0m\u001b[0;34m\u001b[0m\u001b[0m\n\u001b[1;32m     49\u001b[0m                 raise ValueError(\"y contains previously unseen labels: %s\"\n\u001b[0;32m---> 50\u001b[0;31m                                  % str(diff))\n\u001b[0m\u001b[1;32m     51\u001b[0m         \u001b[0mencoded\u001b[0m \u001b[0;34m=\u001b[0m \u001b[0mnp\u001b[0m\u001b[0;34m.\u001b[0m\u001b[0msearchsorted\u001b[0m\u001b[0;34m(\u001b[0m\u001b[0muniques\u001b[0m\u001b[0;34m,\u001b[0m \u001b[0mvalues\u001b[0m\u001b[0;34m)\u001b[0m\u001b[0;34m\u001b[0m\u001b[0;34m\u001b[0m\u001b[0m\n\u001b[1;32m     52\u001b[0m         \u001b[0;32mreturn\u001b[0m \u001b[0muniques\u001b[0m\u001b[0;34m,\u001b[0m \u001b[0mencoded\u001b[0m\u001b[0;34m\u001b[0m\u001b[0;34m\u001b[0m\u001b[0m\n",
            "\u001b[0;31mValueError\u001b[0m: y contains previously unseen labels: [0, 1, 2, 3, 4, 5, 6, 7, 8, 9, 10, 11, 12, 13, 14, 15, 16, 17, 18, 19, 20, 21, 22, 23, 24, 25, 26, 27, 28, 29, 30, 31, 32, 33, 34, 35, 36, 37, 38, 39, 40, 41, 42, 43, 44, 45, 46, 47, 48, 49, 50, 51, 52, 53, 54, 55, 56, 57, 58, 59, 60, 61, 62, 63, 64, 65, 66, 67, 68, 69, 70, 71, 72, 73, 74, 75, 76, 77, 78, 79, 80, 81]"
          ]
        }
      ]
    },
    {
      "cell_type": "code",
      "metadata": {
        "colab": {
          "base_uri": "https://localhost:8080/"
        },
        "id": "k_ErtUSjhgJU",
        "outputId": "07060c8d-8c74-4327-9df6-e38609c3ca8e"
      },
      "source": [
        "df.info()"
      ],
      "execution_count": null,
      "outputs": [
        {
          "output_type": "stream",
          "text": [
            "<class 'pandas.core.frame.DataFrame'>\n",
            "RangeIndex: 25420 entries, 0 to 25419\n",
            "Data columns (total 9 columns):\n",
            " #   Column       Non-Null Count  Dtype \n",
            "---  ------       --------------  ----- \n",
            " 0   District     25420 non-null  object\n",
            " 1   Urban/Rural  25420 non-null  object\n",
            " 2   Age_years    25420 non-null  int64 \n",
            " 3   Male         25420 non-null  int64 \n",
            " 4   Female       25420 non-null  int64 \n",
            " 5   Total        25420 non-null  int64 \n",
            " 6   County       25420 non-null  object\n",
            " 7   Province     25420 non-null  object\n",
            " 8   OBJECTID     25420 non-null  int64 \n",
            "dtypes: int64(5), object(4)\n",
            "memory usage: 1.7+ MB\n"
          ],
          "name": "stdout"
        }
      ]
    },
    {
      "cell_type": "markdown",
      "metadata": {
        "id": "CZwzcISIhrP4"
      },
      "source": [
        "The column \"Age_years\" has changed its data type from \"object\" to \"integer\" which will allow us tocalcullate its avarage"
      ]
    },
    {
      "cell_type": "code",
      "metadata": {
        "colab": {
          "base_uri": "https://localhost:8080/"
        },
        "id": "pwg6SXVzhlQZ",
        "outputId": "311e6972-031a-461b-8fdf-70083126ef2a"
      },
      "source": [
        "df.Age_years.mean()"
      ],
      "execution_count": null,
      "outputs": [
        {
          "output_type": "execute_result",
          "data": {
            "text/plain": [
              "40.5"
            ]
          },
          "metadata": {
            "tags": []
          },
          "execution_count": 24
        }
      ]
    },
    {
      "cell_type": "code",
      "metadata": {
        "id": "BNegesaWNvQs",
        "colab": {
          "base_uri": "https://localhost:8080/"
        },
        "outputId": "e87a4830-09ff-4483-e48e-1e656d3c4320"
      },
      "source": [
        "# Challenge 2\n",
        "# What was the average female population in Kenya?\n",
        "#\n",
        "df.Female.mean()"
      ],
      "execution_count": null,
      "outputs": [
        {
          "output_type": "execute_result",
          "data": {
            "text/plain": [
              "763.8725019669552"
            ]
          },
          "metadata": {
            "tags": []
          },
          "execution_count": 25
        }
      ]
    },
    {
      "cell_type": "code",
      "metadata": {
        "id": "7tilTerhNyiP",
        "colab": {
          "base_uri": "https://localhost:8080/"
        },
        "outputId": "78bcb85d-0b67-40e4-c5e3-5a0d7164e236"
      },
      "source": [
        "# Challenge 3\n",
        "# What was the average male population in Kenya?\n",
        "#\n",
        "df.Male.mean()"
      ],
      "execution_count": null,
      "outputs": [
        {
          "output_type": "execute_result",
          "data": {
            "text/plain": [
              "755.0140833988985"
            ]
          },
          "metadata": {
            "tags": []
          },
          "execution_count": 26
        }
      ]
    },
    {
      "cell_type": "code",
      "metadata": {
        "colab": {
          "base_uri": "https://localhost:8080/",
          "height": 431
        },
        "id": "vrhYc5p9sIzX",
        "outputId": "d07cc73b-9137-486c-9902-2cde9ca5e3c3"
      },
      "source": [
        "# Challenge 4\n",
        "# Which 5 districts were the most densely populated Kenya in descending order?\n",
        "#\n",
        "df_d=df.groupby(['District']).sum().sort_values('Total', ascending=False)\n",
        "df_d"
      ],
      "execution_count": null,
      "outputs": [
        {
          "output_type": "execute_result",
          "data": {
            "text/html": [
              "<div>\n",
              "<style scoped>\n",
              "    .dataframe tbody tr th:only-of-type {\n",
              "        vertical-align: middle;\n",
              "    }\n",
              "\n",
              "    .dataframe tbody tr th {\n",
              "        vertical-align: top;\n",
              "    }\n",
              "\n",
              "    .dataframe thead th {\n",
              "        text-align: right;\n",
              "    }\n",
              "</style>\n",
              "<table border=\"1\" class=\"dataframe\">\n",
              "  <thead>\n",
              "    <tr style=\"text-align: right;\">\n",
              "      <th></th>\n",
              "      <th>Age_years</th>\n",
              "      <th>Male</th>\n",
              "      <th>Female</th>\n",
              "      <th>Total</th>\n",
              "      <th>OBJECTID</th>\n",
              "      <th>distriect</th>\n",
              "    </tr>\n",
              "    <tr>\n",
              "      <th>District</th>\n",
              "      <th></th>\n",
              "      <th></th>\n",
              "      <th></th>\n",
              "      <th></th>\n",
              "      <th></th>\n",
              "      <th></th>\n",
              "    </tr>\n",
              "  </thead>\n",
              "  <tbody>\n",
              "    <tr>\n",
              "      <th>NAIROBI EAST</th>\n",
              "      <td>3321</td>\n",
              "      <td>582554</td>\n",
              "      <td>561862</td>\n",
              "      <td>1144416</td>\n",
              "      <td>10045</td>\n",
              "      <td>1747434.5</td>\n",
              "    </tr>\n",
              "    <tr>\n",
              "      <th>NAIROBI NORTH</th>\n",
              "      <td>3321</td>\n",
              "      <td>545701</td>\n",
              "      <td>516385</td>\n",
              "      <td>1062086</td>\n",
              "      <td>16769</td>\n",
              "      <td>1774297.0</td>\n",
              "    </tr>\n",
              "    <tr>\n",
              "      <th>NAIROBI WEST</th>\n",
              "      <td>3321</td>\n",
              "      <td>352227</td>\n",
              "      <td>332538</td>\n",
              "      <td>684765</td>\n",
              "      <td>3321</td>\n",
              "      <td>1726610.5</td>\n",
              "    </tr>\n",
              "    <tr>\n",
              "      <th>SIAYA</th>\n",
              "      <td>6642</td>\n",
              "      <td>257711</td>\n",
              "      <td>292513</td>\n",
              "      <td>550224</td>\n",
              "      <td>2009943</td>\n",
              "      <td>2659673.0</td>\n",
              "    </tr>\n",
              "    <tr>\n",
              "      <th>MOLO</th>\n",
              "      <td>6642</td>\n",
              "      <td>271954</td>\n",
              "      <td>270149</td>\n",
              "      <td>542103</td>\n",
              "      <td>2723138</td>\n",
              "      <td>2887278.0</td>\n",
              "    </tr>\n",
              "    <tr>\n",
              "      <th>...</th>\n",
              "      <td>...</td>\n",
              "      <td>...</td>\n",
              "      <td>...</td>\n",
              "      <td>...</td>\n",
              "      <td>...</td>\n",
              "      <td>...</td>\n",
              "    </tr>\n",
              "    <tr>\n",
              "      <th>SAMBURU NORTH</th>\n",
              "      <td>6642</td>\n",
              "      <td>31471</td>\n",
              "      <td>28330</td>\n",
              "      <td>59801</td>\n",
              "      <td>2400386</td>\n",
              "      <td>1336660.5</td>\n",
              "    </tr>\n",
              "    <tr>\n",
              "      <th>SAMBURU EAST</th>\n",
              "      <td>6642</td>\n",
              "      <td>29011</td>\n",
              "      <td>30083</td>\n",
              "      <td>59094</td>\n",
              "      <td>2386938</td>\n",
              "      <td>1412174.0</td>\n",
              "    </tr>\n",
              "    <tr>\n",
              "      <th>MARSABIT</th>\n",
              "      <td>6642</td>\n",
              "      <td>23305</td>\n",
              "      <td>23197</td>\n",
              "      <td>46502</td>\n",
              "      <td>1485922</td>\n",
              "      <td>1344228.5</td>\n",
              "    </tr>\n",
              "    <tr>\n",
              "      <th>GARBATULLA</th>\n",
              "      <td>6642</td>\n",
              "      <td>23314</td>\n",
              "      <td>19804</td>\n",
              "      <td>43118</td>\n",
              "      <td>1553162</td>\n",
              "      <td>1251345.0</td>\n",
              "    </tr>\n",
              "    <tr>\n",
              "      <th>LAIKIPIA NORTH</th>\n",
              "      <td>6642</td>\n",
              "      <td>16928</td>\n",
              "      <td>15834</td>\n",
              "      <td>32762</td>\n",
              "      <td>2642450</td>\n",
              "      <td>967776.0</td>\n",
              "    </tr>\n",
              "  </tbody>\n",
              "</table>\n",
              "<p>158 rows × 6 columns</p>\n",
              "</div>"
            ],
            "text/plain": [
              "                Age_years    Male  Female    Total  OBJECTID  distriect\n",
              "District                                                               \n",
              "NAIROBI EAST         3321  582554  561862  1144416     10045  1747434.5\n",
              "NAIROBI NORTH        3321  545701  516385  1062086     16769  1774297.0\n",
              "NAIROBI WEST         3321  352227  332538   684765      3321  1726610.5\n",
              "SIAYA                6642  257711  292513   550224   2009943  2659673.0\n",
              "MOLO                 6642  271954  270149   542103   2723138  2887278.0\n",
              "...                   ...     ...     ...      ...       ...        ...\n",
              "SAMBURU NORTH        6642   31471   28330    59801   2400386  1336660.5\n",
              "SAMBURU EAST         6642   29011   30083    59094   2386938  1412174.0\n",
              "MARSABIT             6642   23305   23197    46502   1485922  1344228.5\n",
              "GARBATULLA           6642   23314   19804    43118   1553162  1251345.0\n",
              "LAIKIPIA NORTH       6642   16928   15834    32762   2642450   967776.0\n",
              "\n",
              "[158 rows x 6 columns]"
            ]
          },
          "metadata": {
            "tags": []
          },
          "execution_count": 92
        }
      ]
    },
    {
      "cell_type": "markdown",
      "metadata": {
        "id": "6ur4WJgM0I7w"
      },
      "source": [
        "The 5 most densely poulated District in kenya in descending order is\n",
        "\n",
        "*   NAIROBI EAST\n",
        "\n",
        "*   NAIROBI NORTH\n",
        "\n",
        "*   NAIROBI WEST\n",
        "*   SIAYA\n",
        "\n",
        "\n",
        "*   MOLO\n",
        "\n"
      ]
    },
    {
      "cell_type": "code",
      "metadata": {
        "id": "CIxC5arSOLak",
        "colab": {
          "base_uri": "https://localhost:8080/",
          "height": 373
        },
        "outputId": "60062068-f4fc-408d-eeab-06d588eaae12"
      },
      "source": [
        "# Challenge 5\n",
        "# Which 5 counties were the most densely populated Counties in descending order?\n",
        "# \n",
        "df_d=df.groupby(['County']).sum().sort_values('Total', ascending=False)\n",
        "df_d.head(10)"
      ],
      "execution_count": null,
      "outputs": [
        {
          "output_type": "execute_result",
          "data": {
            "text/html": [
              "<div>\n",
              "<style scoped>\n",
              "    .dataframe tbody tr th:only-of-type {\n",
              "        vertical-align: middle;\n",
              "    }\n",
              "\n",
              "    .dataframe tbody tr th {\n",
              "        vertical-align: top;\n",
              "    }\n",
              "\n",
              "    .dataframe thead th {\n",
              "        text-align: right;\n",
              "    }\n",
              "</style>\n",
              "<table border=\"1\" class=\"dataframe\">\n",
              "  <thead>\n",
              "    <tr style=\"text-align: right;\">\n",
              "      <th></th>\n",
              "      <th>Age_years</th>\n",
              "      <th>Male</th>\n",
              "      <th>Female</th>\n",
              "      <th>Total</th>\n",
              "      <th>OBJECTID</th>\n",
              "      <th>distriect</th>\n",
              "    </tr>\n",
              "    <tr>\n",
              "      <th>County</th>\n",
              "      <th></th>\n",
              "      <th></th>\n",
              "      <th></th>\n",
              "      <th></th>\n",
              "      <th></th>\n",
              "      <th></th>\n",
              "    </tr>\n",
              "  </thead>\n",
              "  <tbody>\n",
              "    <tr>\n",
              "      <th>Nairobi</th>\n",
              "      <td>13284</td>\n",
              "      <td>1605230</td>\n",
              "      <td>1533139</td>\n",
              "      <td>3138369</td>\n",
              "      <td>53628</td>\n",
              "      <td>6830218.0</td>\n",
              "    </tr>\n",
              "    <tr>\n",
              "      <th>Kiambu</th>\n",
              "      <td>59778</td>\n",
              "      <td>827800</td>\n",
              "      <td>845985</td>\n",
              "      <td>1673785</td>\n",
              "      <td>11208021</td>\n",
              "      <td>16733365.5</td>\n",
              "    </tr>\n",
              "    <tr>\n",
              "      <th>Kakamega</th>\n",
              "      <td>46494</td>\n",
              "      <td>800989</td>\n",
              "      <td>859662</td>\n",
              "      <td>1660651</td>\n",
              "      <td>20554694</td>\n",
              "      <td>14436079.5</td>\n",
              "    </tr>\n",
              "    <tr>\n",
              "      <th>Nakuru</th>\n",
              "      <td>26568</td>\n",
              "      <td>804582</td>\n",
              "      <td>798743</td>\n",
              "      <td>1603325</td>\n",
              "      <td>10811864</td>\n",
              "      <td>11006435.0</td>\n",
              "    </tr>\n",
              "    <tr>\n",
              "      <th>Meru</th>\n",
              "      <td>46494</td>\n",
              "      <td>786220</td>\n",
              "      <td>805313</td>\n",
              "      <td>1591533</td>\n",
              "      <td>11248678</td>\n",
              "      <td>14461298.0</td>\n",
              "    </tr>\n",
              "    <tr>\n",
              "      <th>Bungoma</th>\n",
              "      <td>33210</td>\n",
              "      <td>671548</td>\n",
              "      <td>703515</td>\n",
              "      <td>1375063</td>\n",
              "      <td>15229450</td>\n",
              "      <td>11845949.5</td>\n",
              "    </tr>\n",
              "    <tr>\n",
              "      <th>Kisii</th>\n",
              "      <td>33210</td>\n",
              "      <td>602947</td>\n",
              "      <td>660612</td>\n",
              "      <td>1263559</td>\n",
              "      <td>11060570</td>\n",
              "      <td>11295001.0</td>\n",
              "    </tr>\n",
              "    <tr>\n",
              "      <th>Kilifi</th>\n",
              "      <td>19926</td>\n",
              "      <td>535526</td>\n",
              "      <td>574209</td>\n",
              "      <td>1109735</td>\n",
              "      <td>4175358</td>\n",
              "      <td>7946748.0</td>\n",
              "    </tr>\n",
              "    <tr>\n",
              "      <th>Machakos</th>\n",
              "      <td>26568</td>\n",
              "      <td>543139</td>\n",
              "      <td>555445</td>\n",
              "      <td>1098584</td>\n",
              "      <td>7100216</td>\n",
              "      <td>8939910.0</td>\n",
              "    </tr>\n",
              "    <tr>\n",
              "      <th>Mandera</th>\n",
              "      <td>19926</td>\n",
              "      <td>559943</td>\n",
              "      <td>465813</td>\n",
              "      <td>1025756</td>\n",
              "      <td>5950943</td>\n",
              "      <td>6824928.0</td>\n",
              "    </tr>\n",
              "  </tbody>\n",
              "</table>\n",
              "</div>"
            ],
            "text/plain": [
              "          Age_years     Male   Female    Total  OBJECTID   distriect\n",
              "County                                                              \n",
              "Nairobi       13284  1605230  1533139  3138369     53628   6830218.0\n",
              "Kiambu        59778   827800   845985  1673785  11208021  16733365.5\n",
              "Kakamega      46494   800989   859662  1660651  20554694  14436079.5\n",
              "Nakuru        26568   804582   798743  1603325  10811864  11006435.0\n",
              "Meru          46494   786220   805313  1591533  11248678  14461298.0\n",
              "Bungoma       33210   671548   703515  1375063  15229450  11845949.5\n",
              "Kisii         33210   602947   660612  1263559  11060570  11295001.0\n",
              "Kilifi        19926   535526   574209  1109735   4175358   7946748.0\n",
              "Machakos      26568   543139   555445  1098584   7100216   8939910.0\n",
              "Mandera       19926   559943   465813  1025756   5950943   6824928.0"
            ]
          },
          "metadata": {
            "tags": []
          },
          "execution_count": 96
        }
      ]
    },
    {
      "cell_type": "markdown",
      "metadata": {
        "id": "f9LrFyWh1bFR"
      },
      "source": [
        "The 5 counties that were the most densely populated Counties in descending order\n",
        "\n",
        "\n",
        "*   Nairobi\n",
        "\n",
        "*   Kiambu\n",
        "\n",
        "*   Kakamega\n",
        "*   Nakuru\n",
        "\n",
        "\n",
        "*   Meru\n",
        "\n",
        "\n"
      ]
    },
    {
      "cell_type": "code",
      "metadata": {
        "id": "gSjjnw56OP8O",
        "colab": {
          "base_uri": "https://localhost:8080/",
          "height": 373
        },
        "outputId": "98038098-d317-4c35-c947-83c4b6dbcb18"
      },
      "source": [
        "# Challenge 6\n",
        "# Which 5 districts were the most sparsely populated in descending order?\n",
        "# \n",
        "df_d=df.groupby(['District']).sum().sort_values('Total',ascending=True)\n",
        "df_d.head(10)"
      ],
      "execution_count": null,
      "outputs": [
        {
          "output_type": "execute_result",
          "data": {
            "text/html": [
              "<div>\n",
              "<style scoped>\n",
              "    .dataframe tbody tr th:only-of-type {\n",
              "        vertical-align: middle;\n",
              "    }\n",
              "\n",
              "    .dataframe tbody tr th {\n",
              "        vertical-align: top;\n",
              "    }\n",
              "\n",
              "    .dataframe thead th {\n",
              "        text-align: right;\n",
              "    }\n",
              "</style>\n",
              "<table border=\"1\" class=\"dataframe\">\n",
              "  <thead>\n",
              "    <tr style=\"text-align: right;\">\n",
              "      <th></th>\n",
              "      <th>Age_years</th>\n",
              "      <th>Male</th>\n",
              "      <th>Female</th>\n",
              "      <th>Total</th>\n",
              "      <th>OBJECTID</th>\n",
              "      <th>distriect</th>\n",
              "    </tr>\n",
              "    <tr>\n",
              "      <th>District</th>\n",
              "      <th></th>\n",
              "      <th></th>\n",
              "      <th></th>\n",
              "      <th></th>\n",
              "      <th></th>\n",
              "      <th></th>\n",
              "    </tr>\n",
              "  </thead>\n",
              "  <tbody>\n",
              "    <tr>\n",
              "      <th>LAIKIPIA NORTH</th>\n",
              "      <td>6642</td>\n",
              "      <td>16928</td>\n",
              "      <td>15834</td>\n",
              "      <td>32762</td>\n",
              "      <td>2642450</td>\n",
              "      <td>967776.0</td>\n",
              "    </tr>\n",
              "    <tr>\n",
              "      <th>GARBATULLA</th>\n",
              "      <td>6642</td>\n",
              "      <td>23314</td>\n",
              "      <td>19804</td>\n",
              "      <td>43118</td>\n",
              "      <td>1553162</td>\n",
              "      <td>1251345.0</td>\n",
              "    </tr>\n",
              "    <tr>\n",
              "      <th>MARSABIT</th>\n",
              "      <td>6642</td>\n",
              "      <td>23305</td>\n",
              "      <td>23197</td>\n",
              "      <td>46502</td>\n",
              "      <td>1485922</td>\n",
              "      <td>1344228.5</td>\n",
              "    </tr>\n",
              "    <tr>\n",
              "      <th>SAMBURU EAST</th>\n",
              "      <td>6642</td>\n",
              "      <td>29011</td>\n",
              "      <td>30083</td>\n",
              "      <td>59094</td>\n",
              "      <td>2386938</td>\n",
              "      <td>1412174.0</td>\n",
              "    </tr>\n",
              "    <tr>\n",
              "      <th>SAMBURU NORTH</th>\n",
              "      <td>6642</td>\n",
              "      <td>31471</td>\n",
              "      <td>28330</td>\n",
              "      <td>59801</td>\n",
              "      <td>2400386</td>\n",
              "      <td>1336660.5</td>\n",
              "    </tr>\n",
              "    <tr>\n",
              "      <th>LAISAMIS</th>\n",
              "      <td>6642</td>\n",
              "      <td>32198</td>\n",
              "      <td>33471</td>\n",
              "      <td>65669</td>\n",
              "      <td>1512818</td>\n",
              "      <td>1382573.0</td>\n",
              "    </tr>\n",
              "    <tr>\n",
              "      <th>BUNYALA</th>\n",
              "      <td>6642</td>\n",
              "      <td>31718</td>\n",
              "      <td>35005</td>\n",
              "      <td>66723</td>\n",
              "      <td>3126578</td>\n",
              "      <td>1418602.5</td>\n",
              "    </tr>\n",
              "    <tr>\n",
              "      <th>TAVETA</th>\n",
              "      <td>6642</td>\n",
              "      <td>35019</td>\n",
              "      <td>32646</td>\n",
              "      <td>67665</td>\n",
              "      <td>1472474</td>\n",
              "      <td>1601934.0</td>\n",
              "    </tr>\n",
              "    <tr>\n",
              "      <th>BORABU</th>\n",
              "      <td>6642</td>\n",
              "      <td>37079</td>\n",
              "      <td>36347</td>\n",
              "      <td>73426</td>\n",
              "      <td>2279354</td>\n",
              "      <td>1430843.0</td>\n",
              "    </tr>\n",
              "    <tr>\n",
              "      <th>CHALBI</th>\n",
              "      <td>6642</td>\n",
              "      <td>41318</td>\n",
              "      <td>33878</td>\n",
              "      <td>75196</td>\n",
              "      <td>1499370</td>\n",
              "      <td>1148281.0</td>\n",
              "    </tr>\n",
              "  </tbody>\n",
              "</table>\n",
              "</div>"
            ],
            "text/plain": [
              "                Age_years   Male  Female  Total  OBJECTID  distriect\n",
              "District                                                            \n",
              "LAIKIPIA NORTH       6642  16928   15834  32762   2642450   967776.0\n",
              "GARBATULLA           6642  23314   19804  43118   1553162  1251345.0\n",
              "MARSABIT             6642  23305   23197  46502   1485922  1344228.5\n",
              "SAMBURU EAST         6642  29011   30083  59094   2386938  1412174.0\n",
              "SAMBURU NORTH        6642  31471   28330  59801   2400386  1336660.5\n",
              "LAISAMIS             6642  32198   33471  65669   1512818  1382573.0\n",
              "BUNYALA              6642  31718   35005  66723   3126578  1418602.5\n",
              "TAVETA               6642  35019   32646  67665   1472474  1601934.0\n",
              "BORABU               6642  37079   36347  73426   2279354  1430843.0\n",
              "CHALBI               6642  41318   33878  75196   1499370  1148281.0"
            ]
          },
          "metadata": {
            "tags": []
          },
          "execution_count": 112
        }
      ]
    },
    {
      "cell_type": "markdown",
      "metadata": {
        "id": "npfmROFz6Iyu"
      },
      "source": [
        "The 5 districts that were the most sparsely populated \n",
        "in descending order\n",
        "\n",
        "\n",
        "\n",
        "*   LAIKIPIA NORTH\n",
        "\n",
        "*   GARBATULLA\n",
        "\n",
        "*   MARSABIT\t\n",
        "*   SAMBURU EAST\n",
        "\n",
        "\n",
        "*   SAMBURU NORTH\n"
      ]
    },
    {
      "cell_type": "code",
      "metadata": {
        "id": "UZLYqF7UOTtu",
        "colab": {
          "base_uri": "https://localhost:8080/"
        },
        "outputId": "62a3164b-09d0-4a93-b67e-d5819ed54d37"
      },
      "source": [
        "# Challenge 7\n",
        "# What was the average population of the the most densely populated county in Kenya?\n",
        "# \n",
        "df=df[df['County'] == 'Nairobi']\n",
        "df.Total.mean()"
      ],
      "execution_count": null,
      "outputs": [
        {
          "output_type": "execute_result",
          "data": {
            "text/plain": [
              "9568.198170731708"
            ]
          },
          "metadata": {
            "tags": []
          },
          "execution_count": 188
        }
      ]
    },
    {
      "cell_type": "markdown",
      "metadata": {
        "id": "Vr7Hs4a87iBS"
      },
      "source": [
        "Nairobi            9568.198171"
      ]
    },
    {
      "cell_type": "code",
      "metadata": {
        "id": "1qk8wF3MOXDu",
        "colab": {
          "base_uri": "https://localhost:8080/"
        },
        "outputId": "260f0218-75cc-43f4-cda4-43b9ab29ad41"
      },
      "source": [
        "# Challenge 8\n",
        "# What was the average population of the the most sparsely populated county in Kenya?\n",
        "# \n",
        "df=df[df['County'] == 'Laikipia']\n",
        "df.Total.mean()"
      ],
      "execution_count": null,
      "outputs": [
        {
          "output_type": "execute_result",
          "data": {
            "text/plain": [
              "811.4369918699186"
            ]
          },
          "metadata": {
            "tags": []
          },
          "execution_count": 168
        }
      ]
    },
    {
      "cell_type": "markdown",
      "metadata": {
        "id": "OK7fvELcE8aA"
      },
      "source": [
        "Laikipia            811.436992"
      ]
    },
    {
      "cell_type": "code",
      "metadata": {
        "id": "1V21Beok3Rdc",
        "colab": {
          "base_uri": "https://localhost:8080/",
          "height": 106
        },
        "outputId": "09c4c67d-3c84-4b8f-987b-ce42f6bf908f"
      },
      "source": [
        "# Challenge 9\n",
        "# What was the total population of Busia County? \n",
        "# \n",
        "df_bus = df[df['County'] == 'Busia']\n",
        "df_bus.groupby(['County']).sum()"
      ],
      "execution_count": null,
      "outputs": [
        {
          "output_type": "execute_result",
          "data": {
            "text/html": [
              "<div>\n",
              "<style scoped>\n",
              "    .dataframe tbody tr th:only-of-type {\n",
              "        vertical-align: middle;\n",
              "    }\n",
              "\n",
              "    .dataframe tbody tr th {\n",
              "        vertical-align: top;\n",
              "    }\n",
              "\n",
              "    .dataframe thead th {\n",
              "        text-align: right;\n",
              "    }\n",
              "</style>\n",
              "<table border=\"1\" class=\"dataframe\">\n",
              "  <thead>\n",
              "    <tr style=\"text-align: right;\">\n",
              "      <th></th>\n",
              "      <th>Age_years</th>\n",
              "      <th>Male</th>\n",
              "      <th>Female</th>\n",
              "      <th>Total</th>\n",
              "      <th>OBJECTID</th>\n",
              "      <th>distriect</th>\n",
              "    </tr>\n",
              "    <tr>\n",
              "      <th>County</th>\n",
              "      <th></th>\n",
              "      <th></th>\n",
              "      <th></th>\n",
              "      <th></th>\n",
              "      <th></th>\n",
              "      <th></th>\n",
              "    </tr>\n",
              "  </thead>\n",
              "  <tbody>\n",
              "    <tr>\n",
              "      <th>Busia</th>\n",
              "      <td>33210</td>\n",
              "      <td>356122</td>\n",
              "      <td>387824</td>\n",
              "      <td>743946</td>\n",
              "      <td>15565650</td>\n",
              "      <td>9003438.5</td>\n",
              "    </tr>\n",
              "  </tbody>\n",
              "</table>\n",
              "</div>"
            ],
            "text/plain": [
              "        Age_years    Male  Female   Total  OBJECTID  distriect\n",
              "County                                                        \n",
              "Busia       33210  356122  387824  743946  15565650  9003438.5"
            ]
          },
          "metadata": {
            "tags": []
          },
          "execution_count": 115
        }
      ]
    },
    {
      "cell_type": "code",
      "metadata": {
        "id": "Vtq7pAI73RTZ",
        "colab": {
          "base_uri": "https://localhost:8080/",
          "height": 106
        },
        "outputId": "1aaddecc-f126-4c3f-fdfe-d364fe389188"
      },
      "source": [
        "# Challenge 10\n",
        "# What was the average age of person in Busia County? How many people of this age were in Busia County?\n",
        "# \n",
        "df_bus = df[df['County'] == 'Busia']\n",
        "df_bus.groupby(['County']).mean()"
      ],
      "execution_count": null,
      "outputs": [
        {
          "output_type": "execute_result",
          "data": {
            "text/html": [
              "<div>\n",
              "<style scoped>\n",
              "    .dataframe tbody tr th:only-of-type {\n",
              "        vertical-align: middle;\n",
              "    }\n",
              "\n",
              "    .dataframe tbody tr th {\n",
              "        vertical-align: top;\n",
              "    }\n",
              "\n",
              "    .dataframe thead th {\n",
              "        text-align: right;\n",
              "    }\n",
              "</style>\n",
              "<table border=\"1\" class=\"dataframe\">\n",
              "  <thead>\n",
              "    <tr style=\"text-align: right;\">\n",
              "      <th></th>\n",
              "      <th>Age_years</th>\n",
              "      <th>Male</th>\n",
              "      <th>Female</th>\n",
              "      <th>Total</th>\n",
              "      <th>OBJECTID</th>\n",
              "      <th>distriect</th>\n",
              "    </tr>\n",
              "    <tr>\n",
              "      <th>County</th>\n",
              "      <th></th>\n",
              "      <th></th>\n",
              "      <th></th>\n",
              "      <th></th>\n",
              "      <th></th>\n",
              "      <th></th>\n",
              "    </tr>\n",
              "  </thead>\n",
              "  <tbody>\n",
              "    <tr>\n",
              "      <th>Busia</th>\n",
              "      <td>40.5</td>\n",
              "      <td>434.295122</td>\n",
              "      <td>472.956098</td>\n",
              "      <td>907.25122</td>\n",
              "      <td>18982.5</td>\n",
              "      <td>10979.803049</td>\n",
              "    </tr>\n",
              "  </tbody>\n",
              "</table>\n",
              "</div>"
            ],
            "text/plain": [
              "        Age_years        Male      Female      Total  OBJECTID     distriect\n",
              "County                                                                      \n",
              "Busia        40.5  434.295122  472.956098  907.25122   18982.5  10979.803049"
            ]
          },
          "metadata": {
            "tags": []
          },
          "execution_count": 118
        }
      ]
    },
    {
      "cell_type": "code",
      "metadata": {
        "colab": {
          "base_uri": "https://localhost:8080/"
        },
        "id": "BvRmd2N1Heq5",
        "outputId": "180544d0-e8b7-4126-8f1f-d10e43e91fa9"
      },
      "source": [
        "#How many people of this age were in Busia County?\n",
        "df_bus2 = df[(df['County'] == 'Busia') & (df['Age_years'] == 40)]\n",
        "df_bus2.Total.sum()\n"
      ],
      "execution_count": null,
      "outputs": [
        {
          "output_type": "execute_result",
          "data": {
            "text/plain": [
              "5860"
            ]
          },
          "metadata": {
            "tags": []
          },
          "execution_count": 165
        }
      ]
    },
    {
      "cell_type": "code",
      "metadata": {
        "id": "8xkStdjdXS3w",
        "colab": {
          "base_uri": "https://localhost:8080/"
        },
        "outputId": "27c1724f-911d-42ba-b570-6cc654181b91"
      },
      "source": [
        "# Challenge 11\n",
        "# What was the Total population of Teso South District?\n",
        "# \n",
        "df_tes = df[df['District'] == 'TESO SOUTH']\n",
        "df_tes.Total.sum()"
      ],
      "execution_count": null,
      "outputs": [
        {
          "output_type": "execute_result",
          "data": {
            "text/plain": [
              "137924"
            ]
          },
          "metadata": {
            "tags": []
          },
          "execution_count": 164
        }
      ]
    },
    {
      "cell_type": "code",
      "metadata": {
        "id": "rgVsXH_5XVCh",
        "colab": {
          "base_uri": "https://localhost:8080/"
        },
        "outputId": "3d3d1a9f-d098-4b1c-d165-5574008e24f2"
      },
      "source": [
        "# Challenge 12\n",
        "# What was the urban population of Teso South District?\n",
        "# \n",
        "t_south = df[(df['District'] == 'TESO SOUTH') & (df['Urban/Rural'] == 'Urban')]\n",
        "t_south.Total.sum()"
      ],
      "execution_count": null,
      "outputs": [
        {
          "output_type": "execute_result",
          "data": {
            "text/plain": [
              "26162"
            ]
          },
          "metadata": {
            "tags": []
          },
          "execution_count": 137
        }
      ]
    },
    {
      "cell_type": "code",
      "metadata": {
        "id": "XvvFWhuDXXeP",
        "colab": {
          "base_uri": "https://localhost:8080/"
        },
        "outputId": "10b55939-1a64-4208-aaf8-e29c23bd306a"
      },
      "source": [
        "# Challenge 13\n",
        "# What was the rural population of Teso South District?\n",
        "# \n",
        "t_south2 = df[(df['District'] == 'TESO SOUTH') & (df['Urban/Rural'] == 'Rural')]\n",
        "t_south2.Total.sum()"
      ],
      "execution_count": null,
      "outputs": [
        {
          "output_type": "execute_result",
          "data": {
            "text/plain": [
              "111762"
            ]
          },
          "metadata": {
            "tags": []
          },
          "execution_count": 138
        }
      ]
    },
    {
      "cell_type": "code",
      "metadata": {
        "id": "q1iq02FuXc2R",
        "colab": {
          "base_uri": "https://localhost:8080/"
        },
        "outputId": "d0cb6175-a4b5-413a-c9d0-484cd79922a0"
      },
      "source": [
        "# Challenge 14\n",
        "# What was the population of people aged 60 and above in Kenya?\n",
        "#\n",
        "urban_pop = df[df['Age_years'] >= 60]\n",
        "urban_pop.Total.sum()"
      ],
      "execution_count": null,
      "outputs": [
        {
          "output_type": "execute_result",
          "data": {
            "text/plain": [
              "4770344"
            ]
          },
          "metadata": {
            "tags": []
          },
          "execution_count": 161
        }
      ]
    },
    {
      "cell_type": "code",
      "metadata": {
        "id": "drAWpxBZXhcF",
        "colab": {
          "base_uri": "https://localhost:8080/"
        },
        "outputId": "5486d675-b038-43b8-92cd-81089d361644"
      },
      "source": [
        "# Challenge 15 \n",
        "# What was the urban population in Kenya?\n",
        "#\n",
        "urban_pop = df[df['Urban/Rural'] == 'Urban']\n",
        "urban_pop.Total.sum()"
      ],
      "execution_count": null,
      "outputs": [
        {
          "output_type": "execute_result",
          "data": {
            "text/plain": [
              "12487375"
            ]
          },
          "metadata": {
            "tags": []
          },
          "execution_count": 160
        }
      ]
    }
  ]
}