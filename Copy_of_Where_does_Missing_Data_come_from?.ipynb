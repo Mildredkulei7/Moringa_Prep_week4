{
  "nbformat": 4,
  "nbformat_minor": 0,
  "metadata": {
    "colab": {
      "name": "Copy of Where does Missing Data come from?",
      "provenance": [],
      "collapsed_sections": [
        "WuROceEy3suc",
        "eVonhQHZ3v_B",
        "vc56PH0F3yQk",
        "ck7WHi5q30vR"
      ],
      "toc_visible": true,
      "include_colab_link": true
    },
    "kernelspec": {
      "name": "python3",
      "display_name": "Python 3"
    }
  },
  "cells": [
    {
      "cell_type": "markdown",
      "metadata": {
        "id": "view-in-github",
        "colab_type": "text"
      },
      "source": [
        "<a href=\"https://colab.research.google.com/github/Mildredkulei7/Moringa_Prep_week4/blob/main/Copy_of_Where_does_Missing_Data_come_from%3F.ipynb\" target=\"_parent\"><img src=\"https://colab.research.google.com/assets/colab-badge.svg\" alt=\"Open In Colab\"/></a>"
      ]
    },
    {
      "cell_type": "markdown",
      "metadata": {
        "id": "70yLYDMfBHa-"
      },
      "source": [
        "<font color=\"green\">*To start working on this notebook, or any other notebook that we will use in the Moringa Data Science Course, we will need to save our own copy of it. We can do this by clicking File > Save a Copy in Drive. We will then be able to make edits to our own copy of this notebook.*</font>"
      ]
    },
    {
      "cell_type": "markdown",
      "metadata": {
        "id": "UuDxrh9x1MFM"
      },
      "source": [
        "# Where does Missing Data come from?"
      ]
    },
    {
      "cell_type": "markdown",
      "metadata": {
        "id": "ierPEBwC16L9"
      },
      "source": [
        "In the course of your data science career,  it is rare that you will work with raw data that does not have missing values. \n",
        "\n",
        "Missing data can arise from the loading of data, when merging data, data entry or the reindexing process - the process of transforming data from one process to the other. We will see how this can happen in the sections below:"
      ]
    },
    {
      "cell_type": "markdown",
      "metadata": {
        "id": "WuROceEy3suc"
      },
      "source": [
        "## 1.0 Loading Data\n",
        "\n"
      ]
    },
    {
      "cell_type": "markdown",
      "metadata": {
        "id": "Pv3b_3Hf7_ea"
      },
      "source": [
        "When we load data with pandas, we get a dataframe with the NaN value in the cell that had missing data. This is as a result of the read_csv function, which can take the following parameters which relate to reading in missing values: na_values, keep_default_na and na_filter.\n",
        "\n",
        "We will now see how these parameters work."
      ]
    },
    {
      "cell_type": "code",
      "metadata": {
        "id": "OOpp4KBbDf6Z",
        "colab": {
          "base_uri": "https://localhost:8080/"
        },
        "outputId": "190412f2-d44c-4746-8a54-ed8aae9b9de2"
      },
      "source": [
        "# First lets import our dataset that we will use for the examples\n",
        "\n",
        "# Let's import our pandas library \n",
        "import pandas as pd\n",
        "\n",
        "# Let's set the location for our data\n",
        "url = 'http://bit.ly/UniversityDataSet'\n",
        "\n",
        "# We then store this dataset in a dataframe\n",
        "# We us the latin1 encoding because our dataset contains special characters. \n",
        "# An encoding is one specific way of interpreting bytes: It's a look-up table that says, \n",
        "# for example, that a byte with the value 97 stands for 'a'.\n",
        "#\n",
        "df = pd.read_csv(url, encoding = \"latin1\")\n",
        "\n",
        "# then view the columns of this dataframe, this will help us get familiar with the dataset before working on it\n",
        "df.columns.values.tolist()"
      ],
      "execution_count": 1,
      "outputs": [
        {
          "output_type": "execute_result",
          "data": {
            "text/plain": [
              "['Year',\n",
              " 'Org Name',\n",
              " 'Org Code',\n",
              " 'Spec Ed. Grad Rate - Grad Cohort #',\n",
              " 'Spec Ed. Grad Rate - Grad #',\n",
              " 'Spec Ed. Grad Rate - Grad %',\n",
              " 'Spec Ed. Dropout - Enr #',\n",
              " 'Spec Ed. Dropout - Drop #',\n",
              " 'Spec Ed. Dropout - Drop %',\n",
              " 'LRE Ages 6-21 - Students #',\n",
              " 'LRE Ages 6-21 - Full Incl #',\n",
              " 'LRE Ages 6-21 - Full Incl %',\n",
              " 'LRE Ages 3-5 - Students #',\n",
              " 'LRE Ages 3-5 - Full Incl #',\n",
              " 'LRE Ages 3-5 - Full Incl %',\n",
              " 'Cohort Completion Year',\n",
              " 'Substantial growth of knowledge & skills',\n",
              " 'Survey Period',\n",
              " 'Surv Meet Std #',\n",
              " 'Surv Meet Std %',\n",
              " 'Sch Yr Rev',\n",
              " '# of Students Engaged',\n",
              " 'Dist Rate']"
            ]
          },
          "metadata": {
            "tags": []
          },
          "execution_count": 1
        }
      ]
    },
    {
      "cell_type": "code",
      "metadata": {
        "id": "dui0YYmPDvs_",
        "colab": {
          "base_uri": "https://localhost:8080/",
          "height": 400
        },
        "outputId": "2666552d-57aa-4bc0-8aa2-f2143f40aead"
      },
      "source": [
        "# We will then load the first 5 rows of our data and try to understand it more, while noting the missing values in the records, \n",
        "# afterwards learn more about the parameters\n",
        "# \n",
        "df.head(5)"
      ],
      "execution_count": 2,
      "outputs": [
        {
          "output_type": "execute_result",
          "data": {
            "text/html": [
              "<div>\n",
              "<style scoped>\n",
              "    .dataframe tbody tr th:only-of-type {\n",
              "        vertical-align: middle;\n",
              "    }\n",
              "\n",
              "    .dataframe tbody tr th {\n",
              "        vertical-align: top;\n",
              "    }\n",
              "\n",
              "    .dataframe thead th {\n",
              "        text-align: right;\n",
              "    }\n",
              "</style>\n",
              "<table border=\"1\" class=\"dataframe\">\n",
              "  <thead>\n",
              "    <tr style=\"text-align: right;\">\n",
              "      <th></th>\n",
              "      <th>Year</th>\n",
              "      <th>Org Name</th>\n",
              "      <th>Org Code</th>\n",
              "      <th>Spec Ed. Grad Rate - Grad Cohort #</th>\n",
              "      <th>Spec Ed. Grad Rate - Grad #</th>\n",
              "      <th>Spec Ed. Grad Rate - Grad %</th>\n",
              "      <th>Spec Ed. Dropout - Enr #</th>\n",
              "      <th>Spec Ed. Dropout - Drop #</th>\n",
              "      <th>Spec Ed. Dropout - Drop %</th>\n",
              "      <th>LRE Ages 6-21 - Students #</th>\n",
              "      <th>LRE Ages 6-21 - Full Incl #</th>\n",
              "      <th>LRE Ages 6-21 - Full Incl %</th>\n",
              "      <th>LRE Ages 3-5 - Students #</th>\n",
              "      <th>LRE Ages 3-5 - Full Incl #</th>\n",
              "      <th>LRE Ages 3-5 - Full Incl %</th>\n",
              "      <th>Cohort Completion Year</th>\n",
              "      <th>Substantial growth of knowledge &amp; skills</th>\n",
              "      <th>Survey Period</th>\n",
              "      <th>Surv Meet Std #</th>\n",
              "      <th>Surv Meet Std %</th>\n",
              "      <th>Sch Yr Rev</th>\n",
              "      <th># of Students Engaged</th>\n",
              "      <th>Dist Rate</th>\n",
              "    </tr>\n",
              "  </thead>\n",
              "  <tbody>\n",
              "    <tr>\n",
              "      <th>0</th>\n",
              "      <td>2012</td>\n",
              "      <td>Abington</td>\n",
              "      <td>10000</td>\n",
              "      <td>27</td>\n",
              "      <td>17</td>\n",
              "      <td>63%</td>\n",
              "      <td>84</td>\n",
              "      <td>3</td>\n",
              "      <td>3.60%</td>\n",
              "      <td>295.0</td>\n",
              "      <td>205</td>\n",
              "      <td>69.50%</td>\n",
              "      <td>20</td>\n",
              "      <td>1</td>\n",
              "      <td>5%</td>\n",
              "      <td>2012-13</td>\n",
              "      <td>-</td>\n",
              "      <td>Spring 2013</td>\n",
              "      <td>NaN</td>\n",
              "      <td>NaN</td>\n",
              "      <td>2010-11</td>\n",
              "      <td>8</td>\n",
              "      <td>100%</td>\n",
              "    </tr>\n",
              "    <tr>\n",
              "      <th>1</th>\n",
              "      <td>2013</td>\n",
              "      <td>Abington</td>\n",
              "      <td>10000</td>\n",
              "      <td>20</td>\n",
              "      <td>16</td>\n",
              "      <td>80%</td>\n",
              "      <td>70</td>\n",
              "      <td>2</td>\n",
              "      <td>2.90%</td>\n",
              "      <td>272.0</td>\n",
              "      <td>174</td>\n",
              "      <td>64%</td>\n",
              "      <td>21</td>\n",
              "      <td>4</td>\n",
              "      <td>19%</td>\n",
              "      <td>2012-13</td>\n",
              "      <td>-</td>\n",
              "      <td>Spring 2013</td>\n",
              "      <td>11</td>\n",
              "      <td>73.20%</td>\n",
              "      <td>2010-11</td>\n",
              "      <td>8</td>\n",
              "      <td>100%</td>\n",
              "    </tr>\n",
              "    <tr>\n",
              "      <th>2</th>\n",
              "      <td>2012</td>\n",
              "      <td>Acton</td>\n",
              "      <td>20000</td>\n",
              "      <td>NaN</td>\n",
              "      <td>NaN</td>\n",
              "      <td>NaN</td>\n",
              "      <td>NaN</td>\n",
              "      <td>NaN</td>\n",
              "      <td>NaN</td>\n",
              "      <td>337.0</td>\n",
              "      <td>290</td>\n",
              "      <td>86.10%</td>\n",
              "      <td>58</td>\n",
              "      <td>6</td>\n",
              "      <td>10.30%</td>\n",
              "      <td>2010-11</td>\n",
              "      <td>86.7</td>\n",
              "      <td>Spring 2011</td>\n",
              "      <td>-</td>\n",
              "      <td>-</td>\n",
              "      <td>2012-13</td>\n",
              "      <td>NR</td>\n",
              "      <td>NR</td>\n",
              "    </tr>\n",
              "    <tr>\n",
              "      <th>3</th>\n",
              "      <td>2013</td>\n",
              "      <td>Acton</td>\n",
              "      <td>20000</td>\n",
              "      <td>NaN</td>\n",
              "      <td>NaN</td>\n",
              "      <td>NaN</td>\n",
              "      <td>0</td>\n",
              "      <td>-</td>\n",
              "      <td>-</td>\n",
              "      <td>335.0</td>\n",
              "      <td>286</td>\n",
              "      <td>85.40%</td>\n",
              "      <td>60</td>\n",
              "      <td>16</td>\n",
              "      <td>26.70%</td>\n",
              "      <td>2010-11</td>\n",
              "      <td>86.7</td>\n",
              "      <td>Spring 2011</td>\n",
              "      <td>-</td>\n",
              "      <td>-</td>\n",
              "      <td>2012-13</td>\n",
              "      <td>NR</td>\n",
              "      <td>NR</td>\n",
              "    </tr>\n",
              "    <tr>\n",
              "      <th>4</th>\n",
              "      <td>2012</td>\n",
              "      <td>Acushnet</td>\n",
              "      <td>30000</td>\n",
              "      <td>3</td>\n",
              "      <td>-</td>\n",
              "      <td>-</td>\n",
              "      <td>0</td>\n",
              "      <td>-</td>\n",
              "      <td>-</td>\n",
              "      <td>174.0</td>\n",
              "      <td>128</td>\n",
              "      <td>73.60%</td>\n",
              "      <td>28</td>\n",
              "      <td>7</td>\n",
              "      <td>25%</td>\n",
              "      <td>2013-14</td>\n",
              "      <td>-</td>\n",
              "      <td>Spring 2012</td>\n",
              "      <td>-</td>\n",
              "      <td>-</td>\n",
              "      <td>2011-12</td>\n",
              "      <td>NaN</td>\n",
              "      <td></td>\n",
              "    </tr>\n",
              "  </tbody>\n",
              "</table>\n",
              "</div>"
            ],
            "text/plain": [
              "   Year  Org Name  Org Code  ... Sch Yr Rev # of Students Engaged Dist Rate\n",
              "0  2012  Abington     10000  ...    2010-11                     8      100%\n",
              "1  2013  Abington     10000  ...    2010-11                     8      100%\n",
              "2  2012     Acton     20000  ...    2012-13                    NR        NR\n",
              "3  2013     Acton     20000  ...    2012-13                    NR        NR\n",
              "4  2012  Acushnet     30000  ...    2011-12                   NaN          \n",
              "\n",
              "[5 rows x 23 columns]"
            ]
          },
          "metadata": {
            "tags": []
          },
          "execution_count": 2
        }
      ]
    },
    {
      "cell_type": "markdown",
      "metadata": {
        "id": "KGNkP_ARIns6"
      },
      "source": [
        "**i) na_values**\n",
        "\n",
        "The na_values parameter will allow us to specify additional missing or NaN values. What are NaN values you ask?\n",
        "\n",
        "> *These NaN values are from the python numpy library - Missing values in python are displayed in a few ways - NaN, NAN or nan and are all equivalent.*\n",
        "\n",
        "By default, this parameter is usually never used when reading the file mainly because these default missing values - NaN or nan, are already available. "
      ]
    },
    {
      "cell_type": "code",
      "metadata": {
        "id": "eDIBrwJsEOnV",
        "colab": {
          "base_uri": "https://localhost:8080/"
        },
        "outputId": "23b91614-c54d-4d8a-f815-09a5fd5d6f9d"
      },
      "source": [
        "# now we load the data with the default values\n",
        "print(pd.read_csv(url, encoding = 'latin1').head())"
      ],
      "execution_count": 3,
      "outputs": [
        {
          "output_type": "stream",
          "text": [
            "   Year  Org Name  Org Code  ... Sch Yr Rev # of Students Engaged Dist Rate\n",
            "0  2012  Abington     10000  ...    2010-11                     8      100%\n",
            "1  2013  Abington     10000  ...    2010-11                     8      100%\n",
            "2  2012     Acton     20000  ...    2012-13                    NR        NR\n",
            "3  2013     Acton     20000  ...    2012-13                    NR        NR\n",
            "4  2012  Acushnet     30000  ...    2011-12                   NaN          \n",
            "\n",
            "[5 rows x 23 columns]\n"
          ],
          "name": "stdout"
        }
      ]
    },
    {
      "cell_type": "markdown",
      "metadata": {
        "id": "auvMdkUnJOkr"
      },
      "source": [
        "**ii) keep_default_na**\n",
        "\n",
        "The second parameter is the `keep_default_na` parameter, which is a bool (boolean). It allows us to specify whether any additional values need to be considered missing. By default this parameter is True, meaning any additional missing values specified with the na_values paramenter will be appended to list of missing values. \n",
        "\n",
        "We can also set `keep_default_na=False` which will mean that we will only use missing values specified in na_values. "
      ]
    },
    {
      "cell_type": "code",
      "metadata": {
        "id": "Tqq6E-loKUTf",
        "colab": {
          "base_uri": "https://localhost:8080/"
        },
        "outputId": "12c69822-65d4-481a-b049-f050aa9e2850"
      },
      "source": [
        "# Example 2\n",
        "# We then load the data without default missing values \n",
        "# \n",
        "print(pd.read_csv(url, encoding = 'latin1', keep_default_na = False).head())"
      ],
      "execution_count": 4,
      "outputs": [
        {
          "output_type": "stream",
          "text": [
            "   Year  Org Name  Org Code  ... Sch Yr Rev # of Students Engaged Dist Rate\n",
            "0  2012  Abington     10000  ...    2010-11                     8      100%\n",
            "1  2013  Abington     10000  ...    2010-11                     8      100%\n",
            "2  2012     Acton     20000  ...    2012-13                    NR        NR\n",
            "3  2013     Acton     20000  ...    2012-13                    NR        NR\n",
            "4  2012  Acushnet     30000  ...    2011-12                                \n",
            "\n",
            "[5 rows x 23 columns]\n"
          ],
          "name": "stdout"
        }
      ]
    },
    {
      "cell_type": "code",
      "metadata": {
        "id": "gVrB81wOCn1-"
      },
      "source": [
        "# Challenge 1: \n",
        "# Using the keep_default_na parameter, load the data with the default missing values below\n",
        "# \n",
        "OUR CODE GOES HERE"
      ],
      "execution_count": null,
      "outputs": []
    },
    {
      "cell_type": "markdown",
      "metadata": {
        "id": "42Sd8SSYJXjv"
      },
      "source": [
        "iii) **na_filter**\n",
        "\n",
        "Our third parameter is the *na_filter parameter,* which is a bool that specifies whether any values will be read as missing. By default the na_filter=True, meaning that missing values will be coded as NaN. If na_filter=False, then nothing will be recorded as missing. We normally use this parameter when we want to set false the na_values and keep_default_na parameter all at the same time as well as when we want to quickly load any data without missing values. \n",
        "\n"
      ]
    },
    {
      "cell_type": "code",
      "metadata": {
        "id": "RkJdBrJvCqx9",
        "colab": {
          "base_uri": "https://localhost:8080/"
        },
        "outputId": "a1863629-bc8e-48be-d973-3b6737bd3e95"
      },
      "source": [
        "# Example 3\n",
        "# Let's set the na_filter parameter to True\n",
        "# \n",
        "print(pd.read_csv(url, na_filter = True, encoding ='latin1').head())"
      ],
      "execution_count": 5,
      "outputs": [
        {
          "output_type": "stream",
          "text": [
            "   Year  Org Name  Org Code  ... Sch Yr Rev # of Students Engaged Dist Rate\n",
            "0  2012  Abington     10000  ...    2010-11                     8      100%\n",
            "1  2013  Abington     10000  ...    2010-11                     8      100%\n",
            "2  2012     Acton     20000  ...    2012-13                    NR        NR\n",
            "3  2013     Acton     20000  ...    2012-13                    NR        NR\n",
            "4  2012  Acushnet     30000  ...    2011-12                   NaN          \n",
            "\n",
            "[5 rows x 23 columns]\n"
          ],
          "name": "stdout"
        }
      ]
    },
    {
      "cell_type": "code",
      "metadata": {
        "id": "YC0qIxQuKVN8",
        "colab": {
          "base_uri": "https://localhost:8080/"
        },
        "outputId": "c607f37b-5a7f-4d7c-b349-68e34ff87665"
      },
      "source": [
        "# Challenge 2\n",
        "# Now let's see what happens when we set the na_filter parameter to False\n",
        "# \n",
        "print(pd.read_csv(url, na_filter = False, encoding ='latin1').head())"
      ],
      "execution_count": 6,
      "outputs": [
        {
          "output_type": "stream",
          "text": [
            "   Year  Org Name  Org Code  ... Sch Yr Rev # of Students Engaged Dist Rate\n",
            "0  2012  Abington     10000  ...    2010-11                     8      100%\n",
            "1  2013  Abington     10000  ...    2010-11                     8      100%\n",
            "2  2012     Acton     20000  ...    2012-13                    NR        NR\n",
            "3  2013     Acton     20000  ...    2012-13                    NR        NR\n",
            "4  2012  Acushnet     30000  ...    2011-12                                \n",
            "\n",
            "[5 rows x 23 columns]\n"
          ],
          "name": "stdout"
        }
      ]
    },
    {
      "cell_type": "markdown",
      "metadata": {
        "id": "eVonhQHZ3v_B"
      },
      "source": [
        "## 1.1 Merging Data\n"
      ]
    },
    {
      "cell_type": "markdown",
      "metadata": {
        "id": "t-EayHUZQwfE"
      },
      "source": [
        "Missing data can also result from the merging of datasets. This we will see when we create a merged table from the two datasets below. \n",
        "\n",
        "Having missing values in the merged table can be as a result of either or neither of the datasets having any missing values i.e. if the datasets have unique columns.\n",
        "\n"
      ]
    },
    {
      "cell_type": "code",
      "metadata": {
        "id": "uUmd0YtoUOXN"
      },
      "source": [
        "apple_orange_dataset = 'http://bit.ly/AppleOrangeDataSet'\n",
        "stability_dataset    = 'http://bit.ly/StabilityDataset'\n",
        "\n",
        "apple_orange_dataset = pd.read_csv(apple_orange_dataset, encoding ='latin1')\n",
        "stability_dataset    = pd.read_csv(stability_dataset, encoding ='latin1')"
      ],
      "execution_count": 7,
      "outputs": []
    },
    {
      "cell_type": "markdown",
      "metadata": {
        "id": "3KMGTOEgdnme"
      },
      "source": [
        "The appleorange dataset  contains production volumes of apples and oranges while the stability dataset contains country stability indicators. "
      ]
    },
    {
      "cell_type": "code",
      "metadata": {
        "id": "Zfry7pMHZh0I",
        "colab": {
          "base_uri": "https://localhost:8080/",
          "height": 511
        },
        "outputId": "3a06f8f6-37e5-499d-98a7-14dc21c16d2d"
      },
      "source": [
        "# Displaying our the first dataset\n",
        "#\n",
        "apple_orange_dataset.head(10)"
      ],
      "execution_count": 8,
      "outputs": [
        {
          "output_type": "execute_result",
          "data": {
            "text/html": [
              "<div>\n",
              "<style scoped>\n",
              "    .dataframe tbody tr th:only-of-type {\n",
              "        vertical-align: middle;\n",
              "    }\n",
              "\n",
              "    .dataframe tbody tr th {\n",
              "        vertical-align: top;\n",
              "    }\n",
              "\n",
              "    .dataframe thead th {\n",
              "        text-align: right;\n",
              "    }\n",
              "</style>\n",
              "<table border=\"1\" class=\"dataframe\">\n",
              "  <thead>\n",
              "    <tr style=\"text-align: right;\">\n",
              "      <th></th>\n",
              "      <th>FAOSTAT 2013</th>\n",
              "      <th>Unnamed: 1</th>\n",
              "      <th>Unnamed: 2</th>\n",
              "      <th>Unnamed: 3</th>\n",
              "      <th>Unnamed: 4</th>\n",
              "      <th>Unnamed: 5</th>\n",
              "    </tr>\n",
              "  </thead>\n",
              "  <tbody>\n",
              "    <tr>\n",
              "      <th>0</th>\n",
              "      <td>Elements Ê</td>\n",
              "      <td>NaN</td>\n",
              "      <td>Areas Ê</td>\n",
              "      <td>NaN</td>\n",
              "      <td>Items Ê</td>\n",
              "      <td>2009.0</td>\n",
              "    </tr>\n",
              "    <tr>\n",
              "      <th>1</th>\n",
              "      <td>Food supply quantity (tonnes) (tonnes)</td>\n",
              "      <td>NaN</td>\n",
              "      <td>NaN</td>\n",
              "      <td>NaN</td>\n",
              "      <td>NaN</td>\n",
              "      <td>NaN</td>\n",
              "    </tr>\n",
              "    <tr>\n",
              "      <th>2</th>\n",
              "      <td>Food supply quantity (tonnes) (tonnes)</td>\n",
              "      <td>NaN</td>\n",
              "      <td>Food supply quantity (tonnes) (tonnes)</td>\n",
              "      <td>NaN</td>\n",
              "      <td>NaN</td>\n",
              "      <td>NaN</td>\n",
              "    </tr>\n",
              "    <tr>\n",
              "      <th>3</th>\n",
              "      <td>Food supply quantity (tonnes) (tonnes)</td>\n",
              "      <td>NaN</td>\n",
              "      <td>NaN</td>\n",
              "      <td>NaN</td>\n",
              "      <td>NaN</td>\n",
              "      <td>NaN</td>\n",
              "    </tr>\n",
              "    <tr>\n",
              "      <th>4</th>\n",
              "      <td>Albania</td>\n",
              "      <td>3</td>\n",
              "      <td>Apples and products</td>\n",
              "      <td>2617.0</td>\n",
              "      <td>57Ê459.00, tonnes ()</td>\n",
              "      <td>NaN</td>\n",
              "    </tr>\n",
              "    <tr>\n",
              "      <th>5</th>\n",
              "      <td>Food supply quantity (tonnes) (tonnes)</td>\n",
              "      <td>NaN</td>\n",
              "      <td>NaN</td>\n",
              "      <td>NaN</td>\n",
              "      <td>NaN</td>\n",
              "      <td>NaN</td>\n",
              "    </tr>\n",
              "    <tr>\n",
              "      <th>6</th>\n",
              "      <td>Albania</td>\n",
              "      <td>3</td>\n",
              "      <td>Oranges, Mandarines</td>\n",
              "      <td>2611.0</td>\n",
              "      <td>40Ê880.00, tonnes ()</td>\n",
              "      <td>NaN</td>\n",
              "    </tr>\n",
              "    <tr>\n",
              "      <th>7</th>\n",
              "      <td>Food supply quantity (tonnes) (tonnes)</td>\n",
              "      <td>NaN</td>\n",
              "      <td>NaN</td>\n",
              "      <td>NaN</td>\n",
              "      <td>NaN</td>\n",
              "      <td>NaN</td>\n",
              "    </tr>\n",
              "    <tr>\n",
              "      <th>8</th>\n",
              "      <td>Algeria</td>\n",
              "      <td>4</td>\n",
              "      <td>Apples and products</td>\n",
              "      <td>2617.0</td>\n",
              "      <td>370Ê008.00, tonnes ()</td>\n",
              "      <td>NaN</td>\n",
              "    </tr>\n",
              "    <tr>\n",
              "      <th>9</th>\n",
              "      <td>Food supply quantity (tonnes) (tonnes)</td>\n",
              "      <td>NaN</td>\n",
              "      <td>NaN</td>\n",
              "      <td>NaN</td>\n",
              "      <td>NaN</td>\n",
              "      <td>NaN</td>\n",
              "    </tr>\n",
              "  </tbody>\n",
              "</table>\n",
              "</div>"
            ],
            "text/plain": [
              "                             FAOSTAT 2013  ... Unnamed: 5\n",
              "0                              Elements Ê  ...     2009.0\n",
              "1  Food supply quantity (tonnes) (tonnes)  ...        NaN\n",
              "2  Food supply quantity (tonnes) (tonnes)  ...        NaN\n",
              "3  Food supply quantity (tonnes) (tonnes)  ...        NaN\n",
              "4                                 Albania  ...        NaN\n",
              "5  Food supply quantity (tonnes) (tonnes)  ...        NaN\n",
              "6                                 Albania  ...        NaN\n",
              "7  Food supply quantity (tonnes) (tonnes)  ...        NaN\n",
              "8                                 Algeria  ...        NaN\n",
              "9  Food supply quantity (tonnes) (tonnes)  ...        NaN\n",
              "\n",
              "[10 rows x 6 columns]"
            ]
          },
          "metadata": {
            "tags": []
          },
          "execution_count": 8
        }
      ]
    },
    {
      "cell_type": "code",
      "metadata": {
        "id": "eX8ebJEVZobi",
        "colab": {
          "base_uri": "https://localhost:8080/",
          "height": 343
        },
        "outputId": "f3a5b91a-3c67-467d-970e-8c7ec689a939"
      },
      "source": [
        "# Displaying our second dataset\n",
        "# \n",
        "stability_dataset.head(10)"
      ],
      "execution_count": 9,
      "outputs": [
        {
          "output_type": "execute_result",
          "data": {
            "text/html": [
              "<div>\n",
              "<style scoped>\n",
              "    .dataframe tbody tr th:only-of-type {\n",
              "        vertical-align: middle;\n",
              "    }\n",
              "\n",
              "    .dataframe tbody tr th {\n",
              "        vertical-align: top;\n",
              "    }\n",
              "\n",
              "    .dataframe thead th {\n",
              "        text-align: right;\n",
              "    }\n",
              "</style>\n",
              "<table border=\"1\" class=\"dataframe\">\n",
              "  <thead>\n",
              "    <tr style=\"text-align: right;\">\n",
              "      <th></th>\n",
              "      <th>FAOSTAT 2013</th>\n",
              "      <th>Unnamed: 1</th>\n",
              "      <th>Unnamed: 2</th>\n",
              "      <th>Unnamed: 3</th>\n",
              "      <th>Unnamed: 4</th>\n",
              "      <th>Unnamed: 5</th>\n",
              "    </tr>\n",
              "  </thead>\n",
              "  <tbody>\n",
              "    <tr>\n",
              "      <th>0</th>\n",
              "      <td>Elements Ê</td>\n",
              "      <td>NaN</td>\n",
              "      <td>Areas Ê</td>\n",
              "      <td>NaN</td>\n",
              "      <td>Items Ê</td>\n",
              "      <td>2009.0</td>\n",
              "    </tr>\n",
              "    <tr>\n",
              "      <th>1</th>\n",
              "      <td>Value (index)</td>\n",
              "      <td>NaN</td>\n",
              "      <td>NaN</td>\n",
              "      <td>NaN</td>\n",
              "      <td>NaN</td>\n",
              "      <td>NaN</td>\n",
              "    </tr>\n",
              "    <tr>\n",
              "      <th>2</th>\n",
              "      <td>Value (index)</td>\n",
              "      <td>NaN</td>\n",
              "      <td>Value (index)</td>\n",
              "      <td>NaN</td>\n",
              "      <td>NaN</td>\n",
              "      <td>NaN</td>\n",
              "    </tr>\n",
              "    <tr>\n",
              "      <th>3</th>\n",
              "      <td>Value (index)</td>\n",
              "      <td>NaN</td>\n",
              "      <td>NaN</td>\n",
              "      <td>NaN</td>\n",
              "      <td>NaN</td>\n",
              "      <td>NaN</td>\n",
              "    </tr>\n",
              "    <tr>\n",
              "      <th>4</th>\n",
              "      <td>Afghanistan</td>\n",
              "      <td>2</td>\n",
              "      <td>Political stability and absence of violence/te...</td>\n",
              "      <td>21032.0</td>\n",
              "      <td>-2.70, index ()</td>\n",
              "      <td>NaN</td>\n",
              "    </tr>\n",
              "    <tr>\n",
              "      <th>5</th>\n",
              "      <td>Value (index)</td>\n",
              "      <td>NaN</td>\n",
              "      <td>NaN</td>\n",
              "      <td>NaN</td>\n",
              "      <td>NaN</td>\n",
              "      <td>NaN</td>\n",
              "    </tr>\n",
              "    <tr>\n",
              "      <th>6</th>\n",
              "      <td>Albania</td>\n",
              "      <td>3</td>\n",
              "      <td>Political stability and absence of violence/te...</td>\n",
              "      <td>21032.0</td>\n",
              "      <td>-0.05, index ()</td>\n",
              "      <td>NaN</td>\n",
              "    </tr>\n",
              "    <tr>\n",
              "      <th>7</th>\n",
              "      <td>Value (index)</td>\n",
              "      <td>NaN</td>\n",
              "      <td>NaN</td>\n",
              "      <td>NaN</td>\n",
              "      <td>NaN</td>\n",
              "      <td>NaN</td>\n",
              "    </tr>\n",
              "    <tr>\n",
              "      <th>8</th>\n",
              "      <td>Algeria</td>\n",
              "      <td>4</td>\n",
              "      <td>Political stability and absence of violence/te...</td>\n",
              "      <td>21032.0</td>\n",
              "      <td>-1.23, index ()</td>\n",
              "      <td>NaN</td>\n",
              "    </tr>\n",
              "    <tr>\n",
              "      <th>9</th>\n",
              "      <td>Value (index)</td>\n",
              "      <td>NaN</td>\n",
              "      <td>NaN</td>\n",
              "      <td>NaN</td>\n",
              "      <td>NaN</td>\n",
              "      <td>NaN</td>\n",
              "    </tr>\n",
              "  </tbody>\n",
              "</table>\n",
              "</div>"
            ],
            "text/plain": [
              "    FAOSTAT 2013 Unnamed: 1  ...       Unnamed: 4  Unnamed: 5\n",
              "0     Elements Ê        NaN  ...          Items Ê      2009.0\n",
              "1  Value (index)        NaN  ...              NaN         NaN\n",
              "2  Value (index)        NaN  ...              NaN         NaN\n",
              "3  Value (index)        NaN  ...              NaN         NaN\n",
              "4    Afghanistan          2  ...  -2.70, index ()         NaN\n",
              "5  Value (index)        NaN  ...              NaN         NaN\n",
              "6        Albania          3  ...  -0.05, index ()         NaN\n",
              "7  Value (index)        NaN  ...              NaN         NaN\n",
              "8        Algeria          4  ...  -1.23, index ()         NaN\n",
              "9  Value (index)        NaN  ...              NaN         NaN\n",
              "\n",
              "[10 rows x 6 columns]"
            ]
          },
          "metadata": {
            "tags": []
          },
          "execution_count": 9
        }
      ]
    },
    {
      "cell_type": "code",
      "metadata": {
        "id": "5HiE_oQ0aJkr",
        "colab": {
          "base_uri": "https://localhost:8080/",
          "height": 1000
        },
        "outputId": "63b1e8ca-aaa7-4821-f896-9ddf57e03ae7"
      },
      "source": [
        "# Now merging the two dataframes and analysing the output\n",
        "merged_dataset = apple_orange_dataset.merge(stability_dataset, left_on='FAOSTAT 2013', right_on='FAOSTAT 2013')\n",
        "\n",
        "# Displayig our dataset\n",
        "merged_dataset.head(20)"
      ],
      "execution_count": 12,
      "outputs": [
        {
          "output_type": "execute_result",
          "data": {
            "text/html": [
              "<div>\n",
              "<style scoped>\n",
              "    .dataframe tbody tr th:only-of-type {\n",
              "        vertical-align: middle;\n",
              "    }\n",
              "\n",
              "    .dataframe tbody tr th {\n",
              "        vertical-align: top;\n",
              "    }\n",
              "\n",
              "    .dataframe thead th {\n",
              "        text-align: right;\n",
              "    }\n",
              "</style>\n",
              "<table border=\"1\" class=\"dataframe\">\n",
              "  <thead>\n",
              "    <tr style=\"text-align: right;\">\n",
              "      <th></th>\n",
              "      <th>FAOSTAT 2013</th>\n",
              "      <th>Unnamed: 1_x</th>\n",
              "      <th>Unnamed: 2_x</th>\n",
              "      <th>Unnamed: 3_x</th>\n",
              "      <th>Unnamed: 4_x</th>\n",
              "      <th>Unnamed: 5_x</th>\n",
              "      <th>Unnamed: 1_y</th>\n",
              "      <th>Unnamed: 2_y</th>\n",
              "      <th>Unnamed: 3_y</th>\n",
              "      <th>Unnamed: 4_y</th>\n",
              "      <th>Unnamed: 5_y</th>\n",
              "    </tr>\n",
              "  </thead>\n",
              "  <tbody>\n",
              "    <tr>\n",
              "      <th>0</th>\n",
              "      <td>Elements Ê</td>\n",
              "      <td>NaN</td>\n",
              "      <td>Areas Ê</td>\n",
              "      <td>NaN</td>\n",
              "      <td>Items Ê</td>\n",
              "      <td>2009.0</td>\n",
              "      <td>NaN</td>\n",
              "      <td>Areas Ê</td>\n",
              "      <td>NaN</td>\n",
              "      <td>Items Ê</td>\n",
              "      <td>2009.0</td>\n",
              "    </tr>\n",
              "    <tr>\n",
              "      <th>1</th>\n",
              "      <td>Albania</td>\n",
              "      <td>3</td>\n",
              "      <td>Apples and products</td>\n",
              "      <td>2617.0</td>\n",
              "      <td>57Ê459.00, tonnes ()</td>\n",
              "      <td>NaN</td>\n",
              "      <td>3</td>\n",
              "      <td>Political stability and absence of violence/te...</td>\n",
              "      <td>21032.0</td>\n",
              "      <td>-0.05, index ()</td>\n",
              "      <td>NaN</td>\n",
              "    </tr>\n",
              "    <tr>\n",
              "      <th>2</th>\n",
              "      <td>Albania</td>\n",
              "      <td>3</td>\n",
              "      <td>Apples and products</td>\n",
              "      <td>2617.0</td>\n",
              "      <td>57Ê459.00, tonnes ()</td>\n",
              "      <td>NaN</td>\n",
              "      <td>3</td>\n",
              "      <td>Per capita food supply variability (kcal/capit...</td>\n",
              "      <td>21031.0</td>\n",
              "      <td>40.29, kcal/capita/day ()</td>\n",
              "      <td>NaN</td>\n",
              "    </tr>\n",
              "    <tr>\n",
              "      <th>3</th>\n",
              "      <td>Albania</td>\n",
              "      <td>3</td>\n",
              "      <td>Apples and products</td>\n",
              "      <td>2617.0</td>\n",
              "      <td>57Ê459.00, tonnes ()</td>\n",
              "      <td>NaN</td>\n",
              "      <td>3</td>\n",
              "      <td>Rail-lines density (per 100 square km of land ...</td>\n",
              "      <td>21016.0</td>\n",
              "      <td>1.47, per 100 square km of land area ()</td>\n",
              "      <td>NaN</td>\n",
              "    </tr>\n",
              "    <tr>\n",
              "      <th>4</th>\n",
              "      <td>Albania</td>\n",
              "      <td>3</td>\n",
              "      <td>Oranges, Mandarines</td>\n",
              "      <td>2611.0</td>\n",
              "      <td>40Ê880.00, tonnes ()</td>\n",
              "      <td>NaN</td>\n",
              "      <td>3</td>\n",
              "      <td>Political stability and absence of violence/te...</td>\n",
              "      <td>21032.0</td>\n",
              "      <td>-0.05, index ()</td>\n",
              "      <td>NaN</td>\n",
              "    </tr>\n",
              "    <tr>\n",
              "      <th>5</th>\n",
              "      <td>Albania</td>\n",
              "      <td>3</td>\n",
              "      <td>Oranges, Mandarines</td>\n",
              "      <td>2611.0</td>\n",
              "      <td>40Ê880.00, tonnes ()</td>\n",
              "      <td>NaN</td>\n",
              "      <td>3</td>\n",
              "      <td>Per capita food supply variability (kcal/capit...</td>\n",
              "      <td>21031.0</td>\n",
              "      <td>40.29, kcal/capita/day ()</td>\n",
              "      <td>NaN</td>\n",
              "    </tr>\n",
              "    <tr>\n",
              "      <th>6</th>\n",
              "      <td>Albania</td>\n",
              "      <td>3</td>\n",
              "      <td>Oranges, Mandarines</td>\n",
              "      <td>2611.0</td>\n",
              "      <td>40Ê880.00, tonnes ()</td>\n",
              "      <td>NaN</td>\n",
              "      <td>3</td>\n",
              "      <td>Rail-lines density (per 100 square km of land ...</td>\n",
              "      <td>21016.0</td>\n",
              "      <td>1.47, per 100 square km of land area ()</td>\n",
              "      <td>NaN</td>\n",
              "    </tr>\n",
              "    <tr>\n",
              "      <th>7</th>\n",
              "      <td>Algeria</td>\n",
              "      <td>4</td>\n",
              "      <td>Apples and products</td>\n",
              "      <td>2617.0</td>\n",
              "      <td>370Ê008.00, tonnes ()</td>\n",
              "      <td>NaN</td>\n",
              "      <td>4</td>\n",
              "      <td>Political stability and absence of violence/te...</td>\n",
              "      <td>21032.0</td>\n",
              "      <td>-1.23, index ()</td>\n",
              "      <td>NaN</td>\n",
              "    </tr>\n",
              "    <tr>\n",
              "      <th>8</th>\n",
              "      <td>Algeria</td>\n",
              "      <td>4</td>\n",
              "      <td>Apples and products</td>\n",
              "      <td>2617.0</td>\n",
              "      <td>370Ê008.00, tonnes ()</td>\n",
              "      <td>NaN</td>\n",
              "      <td>4</td>\n",
              "      <td>Per capita food supply variability (kcal/capit...</td>\n",
              "      <td>21031.0</td>\n",
              "      <td>27.94, kcal/capita/day ()</td>\n",
              "      <td>NaN</td>\n",
              "    </tr>\n",
              "    <tr>\n",
              "      <th>9</th>\n",
              "      <td>Algeria</td>\n",
              "      <td>4</td>\n",
              "      <td>Apples and products</td>\n",
              "      <td>2617.0</td>\n",
              "      <td>370Ê008.00, tonnes ()</td>\n",
              "      <td>NaN</td>\n",
              "      <td>4</td>\n",
              "      <td>Rail-lines density (per 100 square km of land ...</td>\n",
              "      <td>21016.0</td>\n",
              "      <td>0.20, per 100 square km of land area ()</td>\n",
              "      <td>NaN</td>\n",
              "    </tr>\n",
              "    <tr>\n",
              "      <th>10</th>\n",
              "      <td>Algeria</td>\n",
              "      <td>4</td>\n",
              "      <td>Oranges, Mandarines</td>\n",
              "      <td>2611.0</td>\n",
              "      <td>762Ê365.00, tonnes ()</td>\n",
              "      <td>NaN</td>\n",
              "      <td>4</td>\n",
              "      <td>Political stability and absence of violence/te...</td>\n",
              "      <td>21032.0</td>\n",
              "      <td>-1.23, index ()</td>\n",
              "      <td>NaN</td>\n",
              "    </tr>\n",
              "    <tr>\n",
              "      <th>11</th>\n",
              "      <td>Algeria</td>\n",
              "      <td>4</td>\n",
              "      <td>Oranges, Mandarines</td>\n",
              "      <td>2611.0</td>\n",
              "      <td>762Ê365.00, tonnes ()</td>\n",
              "      <td>NaN</td>\n",
              "      <td>4</td>\n",
              "      <td>Per capita food supply variability (kcal/capit...</td>\n",
              "      <td>21031.0</td>\n",
              "      <td>27.94, kcal/capita/day ()</td>\n",
              "      <td>NaN</td>\n",
              "    </tr>\n",
              "    <tr>\n",
              "      <th>12</th>\n",
              "      <td>Algeria</td>\n",
              "      <td>4</td>\n",
              "      <td>Oranges, Mandarines</td>\n",
              "      <td>2611.0</td>\n",
              "      <td>762Ê365.00, tonnes ()</td>\n",
              "      <td>NaN</td>\n",
              "      <td>4</td>\n",
              "      <td>Rail-lines density (per 100 square km of land ...</td>\n",
              "      <td>21016.0</td>\n",
              "      <td>0.20, per 100 square km of land area ()</td>\n",
              "      <td>NaN</td>\n",
              "    </tr>\n",
              "    <tr>\n",
              "      <th>13</th>\n",
              "      <td>Angola</td>\n",
              "      <td>7</td>\n",
              "      <td>Apples and products</td>\n",
              "      <td>2617.0</td>\n",
              "      <td>4Ê481.00, tonnes ()</td>\n",
              "      <td>NaN</td>\n",
              "      <td>7</td>\n",
              "      <td>Political stability and absence of violence/te...</td>\n",
              "      <td>21032.0</td>\n",
              "      <td>-0.32, index ()</td>\n",
              "      <td>NaN</td>\n",
              "    </tr>\n",
              "    <tr>\n",
              "      <th>14</th>\n",
              "      <td>Angola</td>\n",
              "      <td>7</td>\n",
              "      <td>Apples and products</td>\n",
              "      <td>2617.0</td>\n",
              "      <td>4Ê481.00, tonnes ()</td>\n",
              "      <td>NaN</td>\n",
              "      <td>7</td>\n",
              "      <td>Per capita food supply variability (kcal/capit...</td>\n",
              "      <td>21031.0</td>\n",
              "      <td>26.81, kcal/capita/day ()</td>\n",
              "      <td>NaN</td>\n",
              "    </tr>\n",
              "    <tr>\n",
              "      <th>15</th>\n",
              "      <td>Angola</td>\n",
              "      <td>7</td>\n",
              "      <td>Oranges, Mandarines</td>\n",
              "      <td>2611.0</td>\n",
              "      <td>978.00, tonnes ()</td>\n",
              "      <td>NaN</td>\n",
              "      <td>7</td>\n",
              "      <td>Political stability and absence of violence/te...</td>\n",
              "      <td>21032.0</td>\n",
              "      <td>-0.32, index ()</td>\n",
              "      <td>NaN</td>\n",
              "    </tr>\n",
              "    <tr>\n",
              "      <th>16</th>\n",
              "      <td>Angola</td>\n",
              "      <td>7</td>\n",
              "      <td>Oranges, Mandarines</td>\n",
              "      <td>2611.0</td>\n",
              "      <td>978.00, tonnes ()</td>\n",
              "      <td>NaN</td>\n",
              "      <td>7</td>\n",
              "      <td>Per capita food supply variability (kcal/capit...</td>\n",
              "      <td>21031.0</td>\n",
              "      <td>26.81, kcal/capita/day ()</td>\n",
              "      <td>NaN</td>\n",
              "    </tr>\n",
              "    <tr>\n",
              "      <th>17</th>\n",
              "      <td>Antigua and Barbuda</td>\n",
              "      <td>8</td>\n",
              "      <td>Apples and products</td>\n",
              "      <td>2617.0</td>\n",
              "      <td>722.00, tonnes ()</td>\n",
              "      <td>NaN</td>\n",
              "      <td>8</td>\n",
              "      <td>Political stability and absence of violence/te...</td>\n",
              "      <td>21032.0</td>\n",
              "      <td>0.75, index ()</td>\n",
              "      <td>NaN</td>\n",
              "    </tr>\n",
              "    <tr>\n",
              "      <th>18</th>\n",
              "      <td>Antigua and Barbuda</td>\n",
              "      <td>8</td>\n",
              "      <td>Apples and products</td>\n",
              "      <td>2617.0</td>\n",
              "      <td>722.00, tonnes ()</td>\n",
              "      <td>NaN</td>\n",
              "      <td>8</td>\n",
              "      <td>Per capita food supply variability (kcal/capit...</td>\n",
              "      <td>21031.0</td>\n",
              "      <td>52.10, kcal/capita/day ()</td>\n",
              "      <td>NaN</td>\n",
              "    </tr>\n",
              "    <tr>\n",
              "      <th>19</th>\n",
              "      <td>Antigua and Barbuda</td>\n",
              "      <td>8</td>\n",
              "      <td>Oranges, Mandarines</td>\n",
              "      <td>2611.0</td>\n",
              "      <td>3Ê521.00, tonnes ()</td>\n",
              "      <td>NaN</td>\n",
              "      <td>8</td>\n",
              "      <td>Political stability and absence of violence/te...</td>\n",
              "      <td>21032.0</td>\n",
              "      <td>0.75, index ()</td>\n",
              "      <td>NaN</td>\n",
              "    </tr>\n",
              "  </tbody>\n",
              "</table>\n",
              "</div>"
            ],
            "text/plain": [
              "           FAOSTAT 2013  ... Unnamed: 5_y\n",
              "0            Elements Ê  ...       2009.0\n",
              "1               Albania  ...          NaN\n",
              "2               Albania  ...          NaN\n",
              "3               Albania  ...          NaN\n",
              "4               Albania  ...          NaN\n",
              "5               Albania  ...          NaN\n",
              "6               Albania  ...          NaN\n",
              "7               Algeria  ...          NaN\n",
              "8               Algeria  ...          NaN\n",
              "9               Algeria  ...          NaN\n",
              "10              Algeria  ...          NaN\n",
              "11              Algeria  ...          NaN\n",
              "12              Algeria  ...          NaN\n",
              "13               Angola  ...          NaN\n",
              "14               Angola  ...          NaN\n",
              "15               Angola  ...          NaN\n",
              "16               Angola  ...          NaN\n",
              "17  Antigua and Barbuda  ...          NaN\n",
              "18  Antigua and Barbuda  ...          NaN\n",
              "19  Antigua and Barbuda  ...          NaN\n",
              "\n",
              "[20 rows x 11 columns]"
            ]
          },
          "metadata": {
            "tags": []
          },
          "execution_count": 12
        }
      ]
    },
    {
      "cell_type": "code",
      "metadata": {
        "id": "A7fwUU3ceR0O"
      },
      "source": [
        "# Challenge 4:\n",
        "# Merge the following two manifesto project datasets and \n",
        "# discuss with your peer on origin of the missing values in the merged dataset\n",
        "#\n",
        "party_names_dataset  = 'http://bit.ly/PartyNamesMarporDataSet'\n",
        "party_names_dataset2 = 'http://bit.ly/PartyNamesPledges'\n",
        "\n",
        "party_names_dataset = pd.read_csv(party_names_dataset, encoding ='latin1')\n",
        "party_names_dataset2    = pd.read_csv(party_names_dataset2, encoding ='latin1')"
      ],
      "execution_count": 13,
      "outputs": []
    },
    {
      "cell_type": "code",
      "metadata": {
        "colab": {
          "base_uri": "https://localhost:8080/",
          "height": 343
        },
        "id": "o1MZYxRlqH2X",
        "outputId": "a2bc8fed-5ba0-4cbc-88a9-e35bf89e48c7"
      },
      "source": [
        "party_names_dataset.head(10)"
      ],
      "execution_count": 14,
      "outputs": [
        {
          "output_type": "execute_result",
          "data": {
            "text/html": [
              "<div>\n",
              "<style scoped>\n",
              "    .dataframe tbody tr th:only-of-type {\n",
              "        vertical-align: middle;\n",
              "    }\n",
              "\n",
              "    .dataframe tbody tr th {\n",
              "        vertical-align: top;\n",
              "    }\n",
              "\n",
              "    .dataframe thead th {\n",
              "        text-align: right;\n",
              "    }\n",
              "</style>\n",
              "<table border=\"1\" class=\"dataframe\">\n",
              "  <thead>\n",
              "    <tr style=\"text-align: right;\">\n",
              "      <th></th>\n",
              "      <th>name</th>\n",
              "      <th>c_p</th>\n",
              "    </tr>\n",
              "  </thead>\n",
              "  <tbody>\n",
              "    <tr>\n",
              "      <th>0</th>\n",
              "      <td>US_R</td>\n",
              "      <td>US_Democrats</td>\n",
              "    </tr>\n",
              "    <tr>\n",
              "      <th>1</th>\n",
              "      <td>US_D</td>\n",
              "      <td>US_Republicans</td>\n",
              "    </tr>\n",
              "    <tr>\n",
              "      <th>2</th>\n",
              "      <td>NL_PvdA</td>\n",
              "      <td>NL_PvdA</td>\n",
              "    </tr>\n",
              "    <tr>\n",
              "      <th>3</th>\n",
              "      <td>NL_D66</td>\n",
              "      <td>NL_D66</td>\n",
              "    </tr>\n",
              "    <tr>\n",
              "      <th>4</th>\n",
              "      <td>NL_CDA</td>\n",
              "      <td>NL_CDA</td>\n",
              "    </tr>\n",
              "    <tr>\n",
              "      <th>5</th>\n",
              "      <td>NL_VVD</td>\n",
              "      <td>NL_VVD</td>\n",
              "    </tr>\n",
              "    <tr>\n",
              "      <th>6</th>\n",
              "      <td>IE_FF</td>\n",
              "      <td>IE_FF</td>\n",
              "    </tr>\n",
              "    <tr>\n",
              "      <th>7</th>\n",
              "      <td>IE_FG</td>\n",
              "      <td>IE_FG</td>\n",
              "    </tr>\n",
              "    <tr>\n",
              "      <th>8</th>\n",
              "      <td>IE_Lab</td>\n",
              "      <td>IE_Labour</td>\n",
              "    </tr>\n",
              "    <tr>\n",
              "      <th>9</th>\n",
              "      <td>IE_PD</td>\n",
              "      <td>IE_PD</td>\n",
              "    </tr>\n",
              "  </tbody>\n",
              "</table>\n",
              "</div>"
            ],
            "text/plain": [
              "      name             c_p\n",
              "0     US_R    US_Democrats\n",
              "1     US_D  US_Republicans\n",
              "2  NL_PvdA         NL_PvdA\n",
              "3   NL_D66          NL_D66\n",
              "4   NL_CDA          NL_CDA\n",
              "5   NL_VVD          NL_VVD\n",
              "6    IE_FF           IE_FF\n",
              "7    IE_FG           IE_FG\n",
              "8   IE_Lab       IE_Labour\n",
              "9    IE_PD           IE_PD"
            ]
          },
          "metadata": {
            "tags": []
          },
          "execution_count": 14
        }
      ]
    },
    {
      "cell_type": "code",
      "metadata": {
        "colab": {
          "base_uri": "https://localhost:8080/",
          "height": 343
        },
        "id": "25hyZ3dDqUJD",
        "outputId": "126244bb-a201-4e52-b7aa-3a5e363eadcd"
      },
      "source": [
        "party_names_dataset2.head(10)"
      ],
      "execution_count": 15,
      "outputs": [
        {
          "output_type": "execute_result",
          "data": {
            "text/html": [
              "<div>\n",
              "<style scoped>\n",
              "    .dataframe tbody tr th:only-of-type {\n",
              "        vertical-align: middle;\n",
              "    }\n",
              "\n",
              "    .dataframe tbody tr th {\n",
              "        vertical-align: top;\n",
              "    }\n",
              "\n",
              "    .dataframe thead th {\n",
              "        text-align: right;\n",
              "    }\n",
              "</style>\n",
              "<table border=\"1\" class=\"dataframe\">\n",
              "  <thead>\n",
              "    <tr style=\"text-align: right;\">\n",
              "      <th></th>\n",
              "      <th>partyid</th>\n",
              "      <th>name</th>\n",
              "    </tr>\n",
              "  </thead>\n",
              "  <tbody>\n",
              "    <tr>\n",
              "      <th>0</th>\n",
              "      <td>101</td>\n",
              "      <td>US_R</td>\n",
              "    </tr>\n",
              "    <tr>\n",
              "      <th>1</th>\n",
              "      <td>102</td>\n",
              "      <td>US_D</td>\n",
              "    </tr>\n",
              "    <tr>\n",
              "      <th>2</th>\n",
              "      <td>5</td>\n",
              "      <td>NL_PvdA</td>\n",
              "    </tr>\n",
              "    <tr>\n",
              "      <th>3</th>\n",
              "      <td>6</td>\n",
              "      <td>NL_D66</td>\n",
              "    </tr>\n",
              "    <tr>\n",
              "      <th>4</th>\n",
              "      <td>7</td>\n",
              "      <td>NL_CDA</td>\n",
              "    </tr>\n",
              "    <tr>\n",
              "      <th>5</th>\n",
              "      <td>8</td>\n",
              "      <td>NL_VVD</td>\n",
              "    </tr>\n",
              "    <tr>\n",
              "      <th>6</th>\n",
              "      <td>9</td>\n",
              "      <td>IE_FF</td>\n",
              "    </tr>\n",
              "    <tr>\n",
              "      <th>7</th>\n",
              "      <td>10</td>\n",
              "      <td>IE_FG</td>\n",
              "    </tr>\n",
              "    <tr>\n",
              "      <th>8</th>\n",
              "      <td>11</td>\n",
              "      <td>IE_Lab</td>\n",
              "    </tr>\n",
              "    <tr>\n",
              "      <th>9</th>\n",
              "      <td>12</td>\n",
              "      <td>IE_PD</td>\n",
              "    </tr>\n",
              "  </tbody>\n",
              "</table>\n",
              "</div>"
            ],
            "text/plain": [
              "   partyid     name\n",
              "0      101     US_R\n",
              "1      102     US_D\n",
              "2        5  NL_PvdA\n",
              "3        6   NL_D66\n",
              "4        7   NL_CDA\n",
              "5        8   NL_VVD\n",
              "6        9    IE_FF\n",
              "7       10    IE_FG\n",
              "8       11   IE_Lab\n",
              "9       12    IE_PD"
            ]
          },
          "metadata": {
            "tags": []
          },
          "execution_count": 15
        }
      ]
    },
    {
      "cell_type": "code",
      "metadata": {
        "colab": {
          "base_uri": "https://localhost:8080/",
          "height": 337
        },
        "id": "sbtGnQu1qbxr",
        "outputId": "505325bb-eae0-426c-b90d-b5571d575a29"
      },
      "source": [
        "merged_party = party_names_dataset.merge(party_names_dataset2, left_on='name', right_on='name')\n",
        "\n",
        "merged_party.head(10)"
      ],
      "execution_count": 21,
      "outputs": [
        {
          "output_type": "error",
          "ename": "KeyError",
          "evalue": "ignored",
          "traceback": [
            "\u001b[0;31m---------------------------------------------------------------------------\u001b[0m",
            "\u001b[0;31mKeyError\u001b[0m                                  Traceback (most recent call last)",
            "\u001b[0;32m<ipython-input-21-c8b527a5ce7b>\u001b[0m in \u001b[0;36m<module>\u001b[0;34m()\u001b[0m\n\u001b[0;32m----> 1\u001b[0;31m \u001b[0mmerged_party\u001b[0m \u001b[0;34m=\u001b[0m \u001b[0mparty_names_dataset\u001b[0m\u001b[0;34m.\u001b[0m\u001b[0mmerge\u001b[0m\u001b[0;34m(\u001b[0m\u001b[0mparty_names_dataset2\u001b[0m\u001b[0;34m,\u001b[0m \u001b[0mleft_on\u001b[0m\u001b[0;34m=\u001b[0m\u001b[0;34m'name'\u001b[0m\u001b[0;34m,\u001b[0m \u001b[0mright_on\u001b[0m\u001b[0;34m=\u001b[0m\u001b[0;34m'name'\u001b[0m\u001b[0;34m)\u001b[0m\u001b[0;34m\u001b[0m\u001b[0;34m\u001b[0m\u001b[0m\n\u001b[0m\u001b[1;32m      2\u001b[0m \u001b[0;34m\u001b[0m\u001b[0m\n\u001b[1;32m      3\u001b[0m \u001b[0mmerged_party\u001b[0m\u001b[0;34m.\u001b[0m\u001b[0mhead\u001b[0m\u001b[0;34m(\u001b[0m\u001b[0;36m10\u001b[0m\u001b[0;34m)\u001b[0m\u001b[0;34m\u001b[0m\u001b[0;34m\u001b[0m\u001b[0m\n",
            "\u001b[0;32m/usr/local/lib/python3.7/dist-packages/pandas/core/frame.py\u001b[0m in \u001b[0;36mmerge\u001b[0;34m(self, right, how, on, left_on, right_on, left_index, right_index, sort, suffixes, copy, indicator, validate)\u001b[0m\n\u001b[1;32m   7961\u001b[0m             \u001b[0mcopy\u001b[0m\u001b[0;34m=\u001b[0m\u001b[0mcopy\u001b[0m\u001b[0;34m,\u001b[0m\u001b[0;34m\u001b[0m\u001b[0;34m\u001b[0m\u001b[0m\n\u001b[1;32m   7962\u001b[0m             \u001b[0mindicator\u001b[0m\u001b[0;34m=\u001b[0m\u001b[0mindicator\u001b[0m\u001b[0;34m,\u001b[0m\u001b[0;34m\u001b[0m\u001b[0;34m\u001b[0m\u001b[0m\n\u001b[0;32m-> 7963\u001b[0;31m             \u001b[0mvalidate\u001b[0m\u001b[0;34m=\u001b[0m\u001b[0mvalidate\u001b[0m\u001b[0;34m,\u001b[0m\u001b[0;34m\u001b[0m\u001b[0;34m\u001b[0m\u001b[0m\n\u001b[0m\u001b[1;32m   7964\u001b[0m         )\n\u001b[1;32m   7965\u001b[0m \u001b[0;34m\u001b[0m\u001b[0m\n",
            "\u001b[0;32m/usr/local/lib/python3.7/dist-packages/pandas/core/reshape/merge.py\u001b[0m in \u001b[0;36mmerge\u001b[0;34m(left, right, how, on, left_on, right_on, left_index, right_index, sort, suffixes, copy, indicator, validate)\u001b[0m\n\u001b[1;32m     85\u001b[0m         \u001b[0mcopy\u001b[0m\u001b[0;34m=\u001b[0m\u001b[0mcopy\u001b[0m\u001b[0;34m,\u001b[0m\u001b[0;34m\u001b[0m\u001b[0;34m\u001b[0m\u001b[0m\n\u001b[1;32m     86\u001b[0m         \u001b[0mindicator\u001b[0m\u001b[0;34m=\u001b[0m\u001b[0mindicator\u001b[0m\u001b[0;34m,\u001b[0m\u001b[0;34m\u001b[0m\u001b[0;34m\u001b[0m\u001b[0m\n\u001b[0;32m---> 87\u001b[0;31m         \u001b[0mvalidate\u001b[0m\u001b[0;34m=\u001b[0m\u001b[0mvalidate\u001b[0m\u001b[0;34m,\u001b[0m\u001b[0;34m\u001b[0m\u001b[0;34m\u001b[0m\u001b[0m\n\u001b[0m\u001b[1;32m     88\u001b[0m     )\n\u001b[1;32m     89\u001b[0m     \u001b[0;32mreturn\u001b[0m \u001b[0mop\u001b[0m\u001b[0;34m.\u001b[0m\u001b[0mget_result\u001b[0m\u001b[0;34m(\u001b[0m\u001b[0;34m)\u001b[0m\u001b[0;34m\u001b[0m\u001b[0;34m\u001b[0m\u001b[0m\n",
            "\u001b[0;32m/usr/local/lib/python3.7/dist-packages/pandas/core/reshape/merge.py\u001b[0m in \u001b[0;36m__init__\u001b[0;34m(self, left, right, how, on, left_on, right_on, axis, left_index, right_index, sort, suffixes, copy, indicator, validate)\u001b[0m\n\u001b[1;32m    650\u001b[0m             \u001b[0mself\u001b[0m\u001b[0;34m.\u001b[0m\u001b[0mright_join_keys\u001b[0m\u001b[0;34m,\u001b[0m\u001b[0;34m\u001b[0m\u001b[0;34m\u001b[0m\u001b[0m\n\u001b[1;32m    651\u001b[0m             \u001b[0mself\u001b[0m\u001b[0;34m.\u001b[0m\u001b[0mjoin_names\u001b[0m\u001b[0;34m,\u001b[0m\u001b[0;34m\u001b[0m\u001b[0;34m\u001b[0m\u001b[0m\n\u001b[0;32m--> 652\u001b[0;31m         ) = self._get_merge_keys()\n\u001b[0m\u001b[1;32m    653\u001b[0m \u001b[0;34m\u001b[0m\u001b[0m\n\u001b[1;32m    654\u001b[0m         \u001b[0;31m# validate the merge keys dtypes. We may need to coerce\u001b[0m\u001b[0;34m\u001b[0m\u001b[0;34m\u001b[0m\u001b[0;34m\u001b[0m\u001b[0m\n",
            "\u001b[0;32m/usr/local/lib/python3.7/dist-packages/pandas/core/reshape/merge.py\u001b[0m in \u001b[0;36m_get_merge_keys\u001b[0;34m(self)\u001b[0m\n\u001b[1;32m   1003\u001b[0m                     \u001b[0;32mif\u001b[0m \u001b[0;32mnot\u001b[0m \u001b[0mis_rkey\u001b[0m\u001b[0;34m(\u001b[0m\u001b[0mrk\u001b[0m\u001b[0;34m)\u001b[0m\u001b[0;34m:\u001b[0m\u001b[0;34m\u001b[0m\u001b[0;34m\u001b[0m\u001b[0m\n\u001b[1;32m   1004\u001b[0m                         \u001b[0;32mif\u001b[0m \u001b[0mrk\u001b[0m \u001b[0;32mis\u001b[0m \u001b[0;32mnot\u001b[0m \u001b[0;32mNone\u001b[0m\u001b[0;34m:\u001b[0m\u001b[0;34m\u001b[0m\u001b[0;34m\u001b[0m\u001b[0m\n\u001b[0;32m-> 1005\u001b[0;31m                             \u001b[0mright_keys\u001b[0m\u001b[0;34m.\u001b[0m\u001b[0mappend\u001b[0m\u001b[0;34m(\u001b[0m\u001b[0mright\u001b[0m\u001b[0;34m.\u001b[0m\u001b[0m_get_label_or_level_values\u001b[0m\u001b[0;34m(\u001b[0m\u001b[0mrk\u001b[0m\u001b[0;34m)\u001b[0m\u001b[0;34m)\u001b[0m\u001b[0;34m\u001b[0m\u001b[0;34m\u001b[0m\u001b[0m\n\u001b[0m\u001b[1;32m   1006\u001b[0m                         \u001b[0;32melse\u001b[0m\u001b[0;34m:\u001b[0m\u001b[0;34m\u001b[0m\u001b[0;34m\u001b[0m\u001b[0m\n\u001b[1;32m   1007\u001b[0m                             \u001b[0;31m# work-around for merge_asof(right_index=True)\u001b[0m\u001b[0;34m\u001b[0m\u001b[0;34m\u001b[0m\u001b[0;34m\u001b[0m\u001b[0m\n",
            "\u001b[0;32m/usr/local/lib/python3.7/dist-packages/pandas/core/generic.py\u001b[0m in \u001b[0;36m_get_label_or_level_values\u001b[0;34m(self, key, axis)\u001b[0m\n\u001b[1;32m   1561\u001b[0m             \u001b[0mvalues\u001b[0m \u001b[0;34m=\u001b[0m \u001b[0mself\u001b[0m\u001b[0;34m.\u001b[0m\u001b[0maxes\u001b[0m\u001b[0;34m[\u001b[0m\u001b[0maxis\u001b[0m\u001b[0;34m]\u001b[0m\u001b[0;34m.\u001b[0m\u001b[0mget_level_values\u001b[0m\u001b[0;34m(\u001b[0m\u001b[0mkey\u001b[0m\u001b[0;34m)\u001b[0m\u001b[0;34m.\u001b[0m\u001b[0m_values\u001b[0m\u001b[0;34m\u001b[0m\u001b[0;34m\u001b[0m\u001b[0m\n\u001b[1;32m   1562\u001b[0m         \u001b[0;32melse\u001b[0m\u001b[0;34m:\u001b[0m\u001b[0;34m\u001b[0m\u001b[0;34m\u001b[0m\u001b[0m\n\u001b[0;32m-> 1563\u001b[0;31m             \u001b[0;32mraise\u001b[0m \u001b[0mKeyError\u001b[0m\u001b[0;34m(\u001b[0m\u001b[0mkey\u001b[0m\u001b[0;34m)\u001b[0m\u001b[0;34m\u001b[0m\u001b[0;34m\u001b[0m\u001b[0m\n\u001b[0m\u001b[1;32m   1564\u001b[0m \u001b[0;34m\u001b[0m\u001b[0m\n\u001b[1;32m   1565\u001b[0m         \u001b[0;31m# Check for duplicates\u001b[0m\u001b[0;34m\u001b[0m\u001b[0;34m\u001b[0m\u001b[0;34m\u001b[0m\u001b[0m\n",
            "\u001b[0;31mKeyError\u001b[0m: 'name'"
          ]
        }
      ]
    },
    {
      "cell_type": "markdown",
      "metadata": {
        "id": "vc56PH0F3yQk"
      },
      "source": [
        "## 1.2 User Input Values\n"
      ]
    },
    {
      "cell_type": "markdown",
      "metadata": {
        "id": "dcsdceT3kZ9T"
      },
      "source": [
        "Missing values within a dataset can also result from mistakes from the user during the data entry/collection phase. This could also result from creating a vector of values from a calculation or from manually curating a vector as shown in the examples below."
      ]
    },
    {
      "cell_type": "code",
      "metadata": {
        "id": "Ovv2uESk97lV"
      },
      "source": [
        "# Importing nan from numpy so as to represent missing values\n",
        "#\n",
        "from numpy import nan"
      ],
      "execution_count": 22,
      "outputs": []
    },
    {
      "cell_type": "code",
      "metadata": {
        "id": "NjxZX0bMlcDP",
        "colab": {
          "base_uri": "https://localhost:8080/"
        },
        "outputId": "498173c4-c161-4f40-b6c8-b01a6d8f2f66"
      },
      "source": [
        "# Creating a missing value in a series\n",
        "# NB: Series is the datastructure for a single column of a DataFrame. \n",
        "# \n",
        "population = pd.Series({'Kenya': 47, 'Tanzania': nan, 'Uganda': 30})\n",
        "\n",
        "# Lets now print. Note that NaNs are also valid values for both Series and DataFrames\n",
        "#\n",
        "print(population)"
      ],
      "execution_count": 28,
      "outputs": [
        {
          "output_type": "stream",
          "text": [
            "Kenya       47.0\n",
            "Tanzania     NaN\n",
            "Uganda      30.0\n",
            "dtype: float64\n"
          ],
          "name": "stdout"
        }
      ]
    },
    {
      "cell_type": "code",
      "metadata": {
        "id": "YpglYiRboZf8",
        "colab": {
          "base_uri": "https://localhost:8080/"
        },
        "outputId": "36a643e7-78cd-4932-c244-f861c371e5ad"
      },
      "source": [
        "# Challenge 5:\n",
        "# Create a series with the names and ages of your peers. Note nan for the ages of peers who you don't know.\n",
        "# \n",
        "from numpy import nan\n",
        "\n",
        "peers = pd.Series({'Melody': 30, 'Sam': 28, 'Zia': 31, 'Mercy': 32, 'Ron': nan, 'Ruri': 33})\n",
        "print(peers)"
      ],
      "execution_count": 32,
      "outputs": [
        {
          "output_type": "stream",
          "text": [
            "Melody    30.0\n",
            "Sam       28.0\n",
            "Zia       31.0\n",
            "Mercy     32.0\n",
            "Ron        NaN\n",
            "Ruri      33.0\n",
            "dtype: float64\n"
          ],
          "name": "stdout"
        }
      ]
    },
    {
      "cell_type": "code",
      "metadata": {
        "id": "8srkAWH-rRtr",
        "colab": {
          "base_uri": "https://localhost:8080/",
          "height": 136
        },
        "outputId": "9c67d40e-3240-41d5-8259-f339b5b3512d"
      },
      "source": [
        "# Now creating a missing value in a dataframe\n",
        "list_data = [['Steve', 56, 'Nairobi', 'no'],['Bill', 57, 'Machackos', 'yes'],['Richard', nan, nan, 'yes']]\n",
        "\n",
        "# Defining our columns\n",
        "age_df = pd.DataFrame(list_data, columns=['Name', 'Age', 'Hometown', 'Public Commute'])\n",
        "\n",
        "# Printing age_df\n",
        "age_df"
      ],
      "execution_count": 33,
      "outputs": [
        {
          "output_type": "execute_result",
          "data": {
            "text/html": [
              "<div>\n",
              "<style scoped>\n",
              "    .dataframe tbody tr th:only-of-type {\n",
              "        vertical-align: middle;\n",
              "    }\n",
              "\n",
              "    .dataframe tbody tr th {\n",
              "        vertical-align: top;\n",
              "    }\n",
              "\n",
              "    .dataframe thead th {\n",
              "        text-align: right;\n",
              "    }\n",
              "</style>\n",
              "<table border=\"1\" class=\"dataframe\">\n",
              "  <thead>\n",
              "    <tr style=\"text-align: right;\">\n",
              "      <th></th>\n",
              "      <th>Name</th>\n",
              "      <th>Age</th>\n",
              "      <th>Hometown</th>\n",
              "      <th>Public Commute</th>\n",
              "    </tr>\n",
              "  </thead>\n",
              "  <tbody>\n",
              "    <tr>\n",
              "      <th>0</th>\n",
              "      <td>Steve</td>\n",
              "      <td>56.0</td>\n",
              "      <td>Nairobi</td>\n",
              "      <td>no</td>\n",
              "    </tr>\n",
              "    <tr>\n",
              "      <th>1</th>\n",
              "      <td>Bill</td>\n",
              "      <td>57.0</td>\n",
              "      <td>Machackos</td>\n",
              "      <td>yes</td>\n",
              "    </tr>\n",
              "    <tr>\n",
              "      <th>2</th>\n",
              "      <td>Richard</td>\n",
              "      <td>NaN</td>\n",
              "      <td>NaN</td>\n",
              "      <td>yes</td>\n",
              "    </tr>\n",
              "  </tbody>\n",
              "</table>\n",
              "</div>"
            ],
            "text/plain": [
              "      Name   Age   Hometown Public Commute\n",
              "0    Steve  56.0    Nairobi             no\n",
              "1     Bill  57.0  Machackos            yes\n",
              "2  Richard   NaN        NaN            yes"
            ]
          },
          "metadata": {
            "tags": []
          },
          "execution_count": 33
        }
      ]
    },
    {
      "cell_type": "code",
      "metadata": {
        "id": "PUJgSHm-stTx",
        "colab": {
          "base_uri": "https://localhost:8080/",
          "height": 136
        },
        "outputId": "7fddd7a5-ae68-4e02-c603-b5a7258c890d"
      },
      "source": [
        "# We can also assign a column of missing values to a dataframe directly\n",
        "#\n",
        "age_df['Public Commute'] = 'Yes';\n",
        "\n",
        "# print age_df\n",
        "#\n",
        "age_df"
      ],
      "execution_count": 36,
      "outputs": [
        {
          "output_type": "execute_result",
          "data": {
            "text/html": [
              "<div>\n",
              "<style scoped>\n",
              "    .dataframe tbody tr th:only-of-type {\n",
              "        vertical-align: middle;\n",
              "    }\n",
              "\n",
              "    .dataframe tbody tr th {\n",
              "        vertical-align: top;\n",
              "    }\n",
              "\n",
              "    .dataframe thead th {\n",
              "        text-align: right;\n",
              "    }\n",
              "</style>\n",
              "<table border=\"1\" class=\"dataframe\">\n",
              "  <thead>\n",
              "    <tr style=\"text-align: right;\">\n",
              "      <th></th>\n",
              "      <th>Name</th>\n",
              "      <th>Age</th>\n",
              "      <th>Hometown</th>\n",
              "      <th>Public Commute</th>\n",
              "    </tr>\n",
              "  </thead>\n",
              "  <tbody>\n",
              "    <tr>\n",
              "      <th>0</th>\n",
              "      <td>Steve</td>\n",
              "      <td>56.0</td>\n",
              "      <td>Nairobi</td>\n",
              "      <td>Yes</td>\n",
              "    </tr>\n",
              "    <tr>\n",
              "      <th>1</th>\n",
              "      <td>Bill</td>\n",
              "      <td>57.0</td>\n",
              "      <td>Machackos</td>\n",
              "      <td>Yes</td>\n",
              "    </tr>\n",
              "    <tr>\n",
              "      <th>2</th>\n",
              "      <td>Richard</td>\n",
              "      <td>NaN</td>\n",
              "      <td>NaN</td>\n",
              "      <td>Yes</td>\n",
              "    </tr>\n",
              "  </tbody>\n",
              "</table>\n",
              "</div>"
            ],
            "text/plain": [
              "      Name   Age   Hometown Public Commute\n",
              "0    Steve  56.0    Nairobi            Yes\n",
              "1     Bill  57.0  Machackos            Yes\n",
              "2  Richard   NaN        NaN            Yes"
            ]
          },
          "metadata": {
            "tags": []
          },
          "execution_count": 36
        }
      ]
    },
    {
      "cell_type": "code",
      "metadata": {
        "id": "vhMyz-00uCgC",
        "colab": {
          "base_uri": "https://localhost:8080/",
          "height": 166
        },
        "outputId": "af76922e-b74d-4982-99a7-4b9753a19d1f"
      },
      "source": [
        "# Challenge 6\n",
        "# Create a dataframe with a list of your country's presidents \n",
        "# with their no. of years in office and their last year in office. \n",
        "# NB: You do not know the last year of office for the current president. \n",
        "#\n",
        "sample_data = [['jomo kenyatta', 13, 1978],['daniel moi', 24, 2002 ],['mwai kibaki', 10, 2013], ['uhuru kenyatta', 8, nan ]]\n",
        "\n",
        "# Defining our columns\n",
        "prezo_df = pd.DataFrame(sample_data, columns=['Name', 'no_of_office_year', 'last_year_in_office'])\n",
        "\n",
        "prezo_df\n"
      ],
      "execution_count": 37,
      "outputs": [
        {
          "output_type": "execute_result",
          "data": {
            "text/html": [
              "<div>\n",
              "<style scoped>\n",
              "    .dataframe tbody tr th:only-of-type {\n",
              "        vertical-align: middle;\n",
              "    }\n",
              "\n",
              "    .dataframe tbody tr th {\n",
              "        vertical-align: top;\n",
              "    }\n",
              "\n",
              "    .dataframe thead th {\n",
              "        text-align: right;\n",
              "    }\n",
              "</style>\n",
              "<table border=\"1\" class=\"dataframe\">\n",
              "  <thead>\n",
              "    <tr style=\"text-align: right;\">\n",
              "      <th></th>\n",
              "      <th>Name</th>\n",
              "      <th>no_of_office_year</th>\n",
              "      <th>last_year_in_office</th>\n",
              "    </tr>\n",
              "  </thead>\n",
              "  <tbody>\n",
              "    <tr>\n",
              "      <th>0</th>\n",
              "      <td>jomo kenyatta</td>\n",
              "      <td>13</td>\n",
              "      <td>1978.0</td>\n",
              "    </tr>\n",
              "    <tr>\n",
              "      <th>1</th>\n",
              "      <td>daniel moi</td>\n",
              "      <td>24</td>\n",
              "      <td>2002.0</td>\n",
              "    </tr>\n",
              "    <tr>\n",
              "      <th>2</th>\n",
              "      <td>mwai kibaki</td>\n",
              "      <td>10</td>\n",
              "      <td>2013.0</td>\n",
              "    </tr>\n",
              "    <tr>\n",
              "      <th>3</th>\n",
              "      <td>uhuru kenyatta</td>\n",
              "      <td>8</td>\n",
              "      <td>NaN</td>\n",
              "    </tr>\n",
              "  </tbody>\n",
              "</table>\n",
              "</div>"
            ],
            "text/plain": [
              "             Name  no_of_office_year  last_year_in_office\n",
              "0   jomo kenyatta                 13               1978.0\n",
              "1      daniel moi                 24               2002.0\n",
              "2     mwai kibaki                 10               2013.0\n",
              "3  uhuru kenyatta                  8                  NaN"
            ]
          },
          "metadata": {
            "tags": []
          },
          "execution_count": 37
        }
      ]
    },
    {
      "cell_type": "markdown",
      "metadata": {
        "id": "ck7WHi5q30vR"
      },
      "source": [
        "## 1.3 Re-indexing\n"
      ]
    },
    {
      "cell_type": "markdown",
      "metadata": {
        "id": "hQUEsqgqzgJi"
      },
      "source": [
        "Missing values in data can also be introduced when we reindex our dataframe. We will show this through  a dataset from Gapminder."
      ]
    },
    {
      "cell_type": "code",
      "metadata": {
        "id": "LLwszhn_0D1_",
        "colab": {
          "base_uri": "https://localhost:8080/"
        },
        "outputId": "c26e744e-fda5-4e7e-9455-3442fd7e12d3"
      },
      "source": [
        "# Getting our dataset\n",
        "gapminder_dataset    = 'http://bit.ly/GapMinderKenyaDataSet'\n",
        "gapminder_dataset_df = pd.read_csv(gapminder_dataset, encoding ='latin1')\n",
        "\n",
        "# printing the dataframe\n",
        "print(gapminder_dataset_df)"
      ],
      "execution_count": 38,
      "outputs": [
        {
          "output_type": "stream",
          "text": [
            "   country continent  year  lifeExp       pop    gdpPercap\n",
            "0    Kenya    Africa  1952   42.270   6464046   853.540919\n",
            "1    Kenya    Africa  1957   44.686   7454779   944.438315\n",
            "2    Kenya    Africa  1962   47.949   8678557   896.966373\n",
            "3    Kenya    Africa  1967   50.654  10191512  1056.736457\n",
            "4    Kenya    Africa  1972   53.559  12044785  1222.359968\n",
            "5    Kenya    Africa  1977   56.155  14500404  1267.613204\n",
            "6    Kenya    Africa  1982   58.766  17661452  1348.225791\n",
            "7    Kenya    Africa  1987   59.339  21198082  1361.936856\n",
            "8    Kenya    Africa  1992   59.285  25020539  1341.921721\n",
            "9    Kenya    Africa  1997   54.407  28263827  1360.485021\n",
            "10   Kenya    Africa  2002   50.992  31386842  1287.514732\n",
            "11   Kenya    Africa  2007   54.110  35610177  1463.249282\n"
          ],
          "name": "stdout"
        }
      ]
    },
    {
      "cell_type": "code",
      "metadata": {
        "id": "Qk6CFqnP3VyD",
        "colab": {
          "base_uri": "https://localhost:8080/"
        },
        "outputId": "5d62ba03-8307-4ca7-cbb4-50274e30f848"
      },
      "source": [
        "# now performing a groupby operation so as to subset the data\n",
        "life_exp = gapminder_dataset_df.groupby(['year'])['lifeExp'].mean()\n",
        "print(life_exp)"
      ],
      "execution_count": 39,
      "outputs": [
        {
          "output_type": "stream",
          "text": [
            "year\n",
            "1952    42.270\n",
            "1957    44.686\n",
            "1962    47.949\n",
            "1967    50.654\n",
            "1972    53.559\n",
            "1977    56.155\n",
            "1982    58.766\n",
            "1987    59.339\n",
            "1992    59.285\n",
            "1997    54.407\n",
            "2002    50.992\n",
            "2007    54.110\n",
            "Name: lifeExp, dtype: float64\n"
          ],
          "name": "stdout"
        }
      ]
    },
    {
      "cell_type": "code",
      "metadata": {
        "id": "dreKsIPC33IN",
        "colab": {
          "base_uri": "https://localhost:8080/",
          "height": 370
        },
        "outputId": "9670576f-ac36-45f3-ebc1-cc1a7ab6c85d"
      },
      "source": [
        "# We then reindexing by slicing the data. We continue to chain the 'loc' from the code above\n",
        "print(life_exp.loc[range(2000, 2007)])"
      ],
      "execution_count": 41,
      "outputs": [
        {
          "output_type": "error",
          "ename": "KeyError",
          "evalue": "ignored",
          "traceback": [
            "\u001b[0;31m---------------------------------------------------------------------------\u001b[0m",
            "\u001b[0;31mKeyError\u001b[0m                                  Traceback (most recent call last)",
            "\u001b[0;32m<ipython-input-41-33025898ccdb>\u001b[0m in \u001b[0;36m<module>\u001b[0;34m()\u001b[0m\n\u001b[1;32m      1\u001b[0m \u001b[0;31m# We then reindexing by slicing the data. We continue to chain the 'loc' from the code above\u001b[0m\u001b[0;34m\u001b[0m\u001b[0;34m\u001b[0m\u001b[0;34m\u001b[0m\u001b[0m\n\u001b[0;32m----> 2\u001b[0;31m \u001b[0mprint\u001b[0m\u001b[0;34m(\u001b[0m\u001b[0mlife_exp\u001b[0m\u001b[0;34m.\u001b[0m\u001b[0mloc\u001b[0m\u001b[0;34m[\u001b[0m\u001b[0mrange\u001b[0m\u001b[0;34m(\u001b[0m\u001b[0;36m2000\u001b[0m\u001b[0;34m,\u001b[0m \u001b[0;36m2007\u001b[0m\u001b[0;34m)\u001b[0m\u001b[0;34m]\u001b[0m\u001b[0;34m)\u001b[0m\u001b[0;34m\u001b[0m\u001b[0;34m\u001b[0m\u001b[0m\n\u001b[0m",
            "\u001b[0;32m/usr/local/lib/python3.7/dist-packages/pandas/core/indexing.py\u001b[0m in \u001b[0;36m__getitem__\u001b[0;34m(self, key)\u001b[0m\n\u001b[1;32m    877\u001b[0m \u001b[0;34m\u001b[0m\u001b[0m\n\u001b[1;32m    878\u001b[0m             \u001b[0mmaybe_callable\u001b[0m \u001b[0;34m=\u001b[0m \u001b[0mcom\u001b[0m\u001b[0;34m.\u001b[0m\u001b[0mapply_if_callable\u001b[0m\u001b[0;34m(\u001b[0m\u001b[0mkey\u001b[0m\u001b[0;34m,\u001b[0m \u001b[0mself\u001b[0m\u001b[0;34m.\u001b[0m\u001b[0mobj\u001b[0m\u001b[0;34m)\u001b[0m\u001b[0;34m\u001b[0m\u001b[0;34m\u001b[0m\u001b[0m\n\u001b[0;32m--> 879\u001b[0;31m             \u001b[0;32mreturn\u001b[0m \u001b[0mself\u001b[0m\u001b[0;34m.\u001b[0m\u001b[0m_getitem_axis\u001b[0m\u001b[0;34m(\u001b[0m\u001b[0mmaybe_callable\u001b[0m\u001b[0;34m,\u001b[0m \u001b[0maxis\u001b[0m\u001b[0;34m=\u001b[0m\u001b[0maxis\u001b[0m\u001b[0;34m)\u001b[0m\u001b[0;34m\u001b[0m\u001b[0;34m\u001b[0m\u001b[0m\n\u001b[0m\u001b[1;32m    880\u001b[0m \u001b[0;34m\u001b[0m\u001b[0m\n\u001b[1;32m    881\u001b[0m     \u001b[0;32mdef\u001b[0m \u001b[0m_is_scalar_access\u001b[0m\u001b[0;34m(\u001b[0m\u001b[0mself\u001b[0m\u001b[0;34m,\u001b[0m \u001b[0mkey\u001b[0m\u001b[0;34m:\u001b[0m \u001b[0mTuple\u001b[0m\u001b[0;34m)\u001b[0m\u001b[0;34m:\u001b[0m\u001b[0;34m\u001b[0m\u001b[0;34m\u001b[0m\u001b[0m\n",
            "\u001b[0;32m/usr/local/lib/python3.7/dist-packages/pandas/core/indexing.py\u001b[0m in \u001b[0;36m_getitem_axis\u001b[0;34m(self, key, axis)\u001b[0m\n\u001b[1;32m   1097\u001b[0m                     \u001b[0;32mraise\u001b[0m \u001b[0mValueError\u001b[0m\u001b[0;34m(\u001b[0m\u001b[0;34m\"Cannot index with multidimensional key\"\u001b[0m\u001b[0;34m)\u001b[0m\u001b[0;34m\u001b[0m\u001b[0;34m\u001b[0m\u001b[0m\n\u001b[1;32m   1098\u001b[0m \u001b[0;34m\u001b[0m\u001b[0m\n\u001b[0;32m-> 1099\u001b[0;31m                 \u001b[0;32mreturn\u001b[0m \u001b[0mself\u001b[0m\u001b[0;34m.\u001b[0m\u001b[0m_getitem_iterable\u001b[0m\u001b[0;34m(\u001b[0m\u001b[0mkey\u001b[0m\u001b[0;34m,\u001b[0m \u001b[0maxis\u001b[0m\u001b[0;34m=\u001b[0m\u001b[0maxis\u001b[0m\u001b[0;34m)\u001b[0m\u001b[0;34m\u001b[0m\u001b[0;34m\u001b[0m\u001b[0m\n\u001b[0m\u001b[1;32m   1100\u001b[0m \u001b[0;34m\u001b[0m\u001b[0m\n\u001b[1;32m   1101\u001b[0m             \u001b[0;31m# nested tuple slicing\u001b[0m\u001b[0;34m\u001b[0m\u001b[0;34m\u001b[0m\u001b[0;34m\u001b[0m\u001b[0m\n",
            "\u001b[0;32m/usr/local/lib/python3.7/dist-packages/pandas/core/indexing.py\u001b[0m in \u001b[0;36m_getitem_iterable\u001b[0;34m(self, key, axis)\u001b[0m\n\u001b[1;32m   1035\u001b[0m \u001b[0;34m\u001b[0m\u001b[0m\n\u001b[1;32m   1036\u001b[0m         \u001b[0;31m# A collection of keys\u001b[0m\u001b[0;34m\u001b[0m\u001b[0;34m\u001b[0m\u001b[0;34m\u001b[0m\u001b[0m\n\u001b[0;32m-> 1037\u001b[0;31m         \u001b[0mkeyarr\u001b[0m\u001b[0;34m,\u001b[0m \u001b[0mindexer\u001b[0m \u001b[0;34m=\u001b[0m \u001b[0mself\u001b[0m\u001b[0;34m.\u001b[0m\u001b[0m_get_listlike_indexer\u001b[0m\u001b[0;34m(\u001b[0m\u001b[0mkey\u001b[0m\u001b[0;34m,\u001b[0m \u001b[0maxis\u001b[0m\u001b[0;34m,\u001b[0m \u001b[0mraise_missing\u001b[0m\u001b[0;34m=\u001b[0m\u001b[0;32mFalse\u001b[0m\u001b[0;34m)\u001b[0m\u001b[0;34m\u001b[0m\u001b[0;34m\u001b[0m\u001b[0m\n\u001b[0m\u001b[1;32m   1038\u001b[0m         return self.obj._reindex_with_indexers(\n\u001b[1;32m   1039\u001b[0m             \u001b[0;34m{\u001b[0m\u001b[0maxis\u001b[0m\u001b[0;34m:\u001b[0m \u001b[0;34m[\u001b[0m\u001b[0mkeyarr\u001b[0m\u001b[0;34m,\u001b[0m \u001b[0mindexer\u001b[0m\u001b[0;34m]\u001b[0m\u001b[0;34m}\u001b[0m\u001b[0;34m,\u001b[0m \u001b[0mcopy\u001b[0m\u001b[0;34m=\u001b[0m\u001b[0;32mTrue\u001b[0m\u001b[0;34m,\u001b[0m \u001b[0mallow_dups\u001b[0m\u001b[0;34m=\u001b[0m\u001b[0;32mTrue\u001b[0m\u001b[0;34m\u001b[0m\u001b[0;34m\u001b[0m\u001b[0m\n",
            "\u001b[0;32m/usr/local/lib/python3.7/dist-packages/pandas/core/indexing.py\u001b[0m in \u001b[0;36m_get_listlike_indexer\u001b[0;34m(self, key, axis, raise_missing)\u001b[0m\n\u001b[1;32m   1252\u001b[0m             \u001b[0mkeyarr\u001b[0m\u001b[0;34m,\u001b[0m \u001b[0mindexer\u001b[0m\u001b[0;34m,\u001b[0m \u001b[0mnew_indexer\u001b[0m \u001b[0;34m=\u001b[0m \u001b[0max\u001b[0m\u001b[0;34m.\u001b[0m\u001b[0m_reindex_non_unique\u001b[0m\u001b[0;34m(\u001b[0m\u001b[0mkeyarr\u001b[0m\u001b[0;34m)\u001b[0m\u001b[0;34m\u001b[0m\u001b[0;34m\u001b[0m\u001b[0m\n\u001b[1;32m   1253\u001b[0m \u001b[0;34m\u001b[0m\u001b[0m\n\u001b[0;32m-> 1254\u001b[0;31m         \u001b[0mself\u001b[0m\u001b[0;34m.\u001b[0m\u001b[0m_validate_read_indexer\u001b[0m\u001b[0;34m(\u001b[0m\u001b[0mkeyarr\u001b[0m\u001b[0;34m,\u001b[0m \u001b[0mindexer\u001b[0m\u001b[0;34m,\u001b[0m \u001b[0maxis\u001b[0m\u001b[0;34m,\u001b[0m \u001b[0mraise_missing\u001b[0m\u001b[0;34m=\u001b[0m\u001b[0mraise_missing\u001b[0m\u001b[0;34m)\u001b[0m\u001b[0;34m\u001b[0m\u001b[0;34m\u001b[0m\u001b[0m\n\u001b[0m\u001b[1;32m   1255\u001b[0m         \u001b[0;32mreturn\u001b[0m \u001b[0mkeyarr\u001b[0m\u001b[0;34m,\u001b[0m \u001b[0mindexer\u001b[0m\u001b[0;34m\u001b[0m\u001b[0;34m\u001b[0m\u001b[0m\n\u001b[1;32m   1256\u001b[0m \u001b[0;34m\u001b[0m\u001b[0m\n",
            "\u001b[0;32m/usr/local/lib/python3.7/dist-packages/pandas/core/indexing.py\u001b[0m in \u001b[0;36m_validate_read_indexer\u001b[0;34m(self, key, indexer, axis, raise_missing)\u001b[0m\n\u001b[1;32m   1314\u001b[0m                 \u001b[0;32mwith\u001b[0m \u001b[0moption_context\u001b[0m\u001b[0;34m(\u001b[0m\u001b[0;34m\"display.max_seq_items\"\u001b[0m\u001b[0;34m,\u001b[0m \u001b[0;36m10\u001b[0m\u001b[0;34m,\u001b[0m \u001b[0;34m\"display.width\"\u001b[0m\u001b[0;34m,\u001b[0m \u001b[0;36m80\u001b[0m\u001b[0;34m)\u001b[0m\u001b[0;34m:\u001b[0m\u001b[0;34m\u001b[0m\u001b[0;34m\u001b[0m\u001b[0m\n\u001b[1;32m   1315\u001b[0m                     raise KeyError(\n\u001b[0;32m-> 1316\u001b[0;31m                         \u001b[0;34m\"Passing list-likes to .loc or [] with any missing labels \"\u001b[0m\u001b[0;34m\u001b[0m\u001b[0;34m\u001b[0m\u001b[0m\n\u001b[0m\u001b[1;32m   1317\u001b[0m                         \u001b[0;34m\"is no longer supported. \"\u001b[0m\u001b[0;34m\u001b[0m\u001b[0;34m\u001b[0m\u001b[0m\n\u001b[1;32m   1318\u001b[0m                         \u001b[0;34mf\"The following labels were missing: {not_found}. \"\u001b[0m\u001b[0;34m\u001b[0m\u001b[0;34m\u001b[0m\u001b[0m\n",
            "\u001b[0;31mKeyError\u001b[0m: \"Passing list-likes to .loc or [] with any missing labels is no longer supported. The following labels were missing: Int64Index([2000, 2001, 2003, 2004, 2005, 2006], dtype='int64', name='year'). See https://pandas.pydata.org/pandas-docs/stable/user_guide/indexing.html#deprecate-loc-reindex-listlike\""
          ]
        }
      ]
    },
    {
      "cell_type": "markdown",
      "metadata": {
        "id": "z3D_BL4Y6Wc-"
      },
      "source": [
        "Now, it seems we have been provided a suggestion to use the reindex() method. We will do this below as we choose to subset the data separately and then use the reindex() method."
      ]
    },
    {
      "cell_type": "code",
      "metadata": {
        "id": "QHf1dxsB6Zgj",
        "colab": {
          "base_uri": "https://localhost:8080/"
        },
        "outputId": "47ccd9e4-86cd-42d8-86c4-16d94e9b2589"
      },
      "source": [
        "# subsetting the dataframe\n",
        "y_2000_df = life_exp[life_exp.index > 2000] \n",
        "print(y_2000_df)"
      ],
      "execution_count": 42,
      "outputs": [
        {
          "output_type": "stream",
          "text": [
            "year\n",
            "2002    50.992\n",
            "2007    54.110\n",
            "Name: lifeExp, dtype: float64\n"
          ],
          "name": "stdout"
        }
      ]
    },
    {
      "cell_type": "code",
      "metadata": {
        "id": "zw134j3963KS",
        "colab": {
          "base_uri": "https://localhost:8080/"
        },
        "outputId": "07dd3eb9-dad2-4b3e-b7d8-5311d54cf28a"
      },
      "source": [
        "# then reindexing\n",
        "print(y_2000_df.reindex(range(2000, 2010)))"
      ],
      "execution_count": 43,
      "outputs": [
        {
          "output_type": "stream",
          "text": [
            "year\n",
            "2000       NaN\n",
            "2001       NaN\n",
            "2002    50.992\n",
            "2003       NaN\n",
            "2004       NaN\n",
            "2005       NaN\n",
            "2006       NaN\n",
            "2007    54.110\n",
            "2008       NaN\n",
            "2009       NaN\n",
            "Name: lifeExp, dtype: float64\n"
          ],
          "name": "stdout"
        }
      ]
    },
    {
      "cell_type": "code",
      "metadata": {
        "id": "cGkhGcDr9CHB",
        "colab": {
          "base_uri": "https://localhost:8080/"
        },
        "outputId": "f886136e-8fe5-4fa3-af24-67c14295e361"
      },
      "source": [
        "# Challenge 7\n",
        "# We would want to look at only the years from 2000 to 2010 from the gapminder dataset below. \n",
        "# Perform grouped operations, subseting the data and then re-indexing it. \n",
        "# Show how this process might result to getting missing values.\n",
        "\n",
        "# Assinging data the url for our dataset\n",
        "data = 'http://bit.ly/GapMinderUgandaDataSet'\n",
        "\n",
        "gapminder_df = pd.read_csv(data, encoding ='latin1')\n",
        "\n",
        "# printing the dataframe\n",
        "print(gapminder_df)"
      ],
      "execution_count": 44,
      "outputs": [
        {
          "output_type": "stream",
          "text": [
            "   country continent  year  lifeExp       pop    gdpPercap\n",
            "0   Uganda    Africa  1952   39.978   5824797   734.753484\n",
            "1   Uganda    Africa  1957   42.571   6675501   774.371069\n",
            "2   Uganda    Africa  1962   45.344   7688797   767.271740\n",
            "3   Uganda    Africa  1967   48.051   8900294   908.918522\n",
            "4   Uganda    Africa  1972   51.016  10190285   950.735869\n",
            "5   Uganda    Africa  1977   50.350  11457758   843.733137\n",
            "6   Uganda    Africa  1982   49.849  12939400   682.266227\n",
            "7   Uganda    Africa  1987   51.509  15283050   617.724406\n",
            "8   Uganda    Africa  1992   48.825  18252190   644.170797\n",
            "9   Uganda    Africa  1997   44.578  21210254   816.559081\n",
            "10  Uganda    Africa  2002   47.813  24739869   927.721002\n",
            "11  Uganda    Africa  2007   51.542  29170398  1056.380121\n"
          ],
          "name": "stdout"
        }
      ]
    },
    {
      "cell_type": "code",
      "metadata": {
        "colab": {
          "base_uri": "https://localhost:8080/"
        },
        "id": "Dsf_ud7py9hP",
        "outputId": "21046241-fae2-4c90-d751-c1af4ea191bc"
      },
      "source": [
        "#group-by operation\n",
        "life_exp2 = gapminder_df.groupby(['year'])['lifeExp'].mean()\n",
        "print(life_exp2)"
      ],
      "execution_count": 47,
      "outputs": [
        {
          "output_type": "stream",
          "text": [
            "year\n",
            "1952    39.978\n",
            "1957    42.571\n",
            "1962    45.344\n",
            "1967    48.051\n",
            "1972    51.016\n",
            "1977    50.350\n",
            "1982    49.849\n",
            "1987    51.509\n",
            "1992    48.825\n",
            "1997    44.578\n",
            "2002    47.813\n",
            "2007    51.542\n",
            "Name: lifeExp, dtype: float64\n"
          ],
          "name": "stdout"
        }
      ]
    },
    {
      "cell_type": "code",
      "metadata": {
        "colab": {
          "base_uri": "https://localhost:8080/"
        },
        "id": "XkEWQFgVzM7Z",
        "outputId": "238a3f3d-3264-47a7-ea5e-681556e925a7"
      },
      "source": [
        "#sub-setting the dataframe\n",
        "year_2000_df = life_exp2[life_exp2.index > 2000] \n",
        "print(year_2000_df)"
      ],
      "execution_count": 49,
      "outputs": [
        {
          "output_type": "stream",
          "text": [
            "year\n",
            "2002    47.813\n",
            "2007    51.542\n",
            "Name: lifeExp, dtype: float64\n"
          ],
          "name": "stdout"
        }
      ]
    },
    {
      "cell_type": "code",
      "metadata": {
        "colab": {
          "base_uri": "https://localhost:8080/"
        },
        "id": "3FukZCSGzg1Q",
        "outputId": "7a22059d-7216-4692-bf66-4fc44d7fb9b4"
      },
      "source": [
        "#re-indexing it\n",
        "print(year_2000_df.reindex(range(2000, 2010)))"
      ],
      "execution_count": 50,
      "outputs": [
        {
          "output_type": "stream",
          "text": [
            "year\n",
            "2000       NaN\n",
            "2001       NaN\n",
            "2002    47.813\n",
            "2003       NaN\n",
            "2004       NaN\n",
            "2005       NaN\n",
            "2006       NaN\n",
            "2007    51.542\n",
            "2008       NaN\n",
            "2009       NaN\n",
            "Name: lifeExp, dtype: float64\n"
          ],
          "name": "stdout"
        }
      ]
    }
  ]
}