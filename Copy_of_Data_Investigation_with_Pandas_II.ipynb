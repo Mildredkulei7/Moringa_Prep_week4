{
  "nbformat": 4,
  "nbformat_minor": 0,
  "metadata": {
    "colab": {
      "name": "Copy of Data Investigation with Pandas II",
      "provenance": [],
      "collapsed_sections": [
        "VSnOCZ5-IPCi",
        "HToJZ2gBPawZ",
        "IICLGbvBRYHq",
        "RAVzK5O6IR8v",
        "NicC8P9LMjvO"
      ],
      "include_colab_link": true
    },
    "kernelspec": {
      "name": "python3",
      "display_name": "Python 3"
    }
  },
  "cells": [
    {
      "cell_type": "markdown",
      "metadata": {
        "id": "view-in-github",
        "colab_type": "text"
      },
      "source": [
        "<a href=\"https://colab.research.google.com/github/Mildredkulei7/Moringa_Prep_week4/blob/main/Copy_of_Data_Investigation_with_Pandas_II.ipynb\" target=\"_parent\"><img src=\"https://colab.research.google.com/assets/colab-badge.svg\" alt=\"Open In Colab\"/></a>"
      ]
    },
    {
      "cell_type": "markdown",
      "metadata": {
        "id": "y5qL7fbUWJrX"
      },
      "source": [
        "<font color=\"green\">*To start working on this notebook, or any other notebook that we will use in the Moringa Data Science Course, we will need to save our own copy of it. We can do this by clicking File > Save a Copy in Drive. We will then be able to make edits to our own copy of this notebook.*</font>"
      ]
    },
    {
      "cell_type": "markdown",
      "metadata": {
        "id": "m0tgCkvzPLEa"
      },
      "source": [
        "# Data Investigation with Pandas II"
      ]
    },
    {
      "cell_type": "markdown",
      "metadata": {
        "id": "VSnOCZ5-IPCi"
      },
      "source": [
        "## 1.0 Importing our Libraries"
      ]
    },
    {
      "cell_type": "code",
      "metadata": {
        "id": "3r-KDLvrO44a"
      },
      "source": [
        "# Importing the libraries we will need \n",
        "\n",
        "# Importing the pandas library\n",
        "# \n",
        "import pandas as pd\n",
        "\n",
        "# Importing the numpy library\n",
        "#\n",
        "import numpy as np"
      ],
      "execution_count": null,
      "outputs": []
    },
    {
      "cell_type": "markdown",
      "metadata": {
        "id": "HToJZ2gBPawZ"
      },
      "source": [
        "## 1.1 Reading the Dataset from our CSV file\n",
        "\n"
      ]
    },
    {
      "cell_type": "markdown",
      "metadata": {
        "id": "LBUr8VUXQX-K"
      },
      "source": [
        "This dataset contains trips taken by thousands of kenyans to and from Nairobi during the year 2018.\n",
        "\n",
        "*   Dataset link for download or access: [Link](https://drive.google.com/a/moringaschool.com/file/d/1xe2sHapdeGo7bIaiG7UV0rjgQZ5U6OXv/view?usp=sharing)\n",
        "\n",
        "\n",
        "\n"
      ]
    },
    {
      "cell_type": "code",
      "metadata": {
        "id": "1acwmZanRNHs",
        "colab": {
          "base_uri": "https://localhost:8080/",
          "height": 402
        },
        "outputId": "6a37ff19-057f-46ee-cd98-d46a3e44bb36"
      },
      "source": [
        "# Let's read the data from the CSV file and create the dataframe to be used\n",
        "# \n",
        "bus_df = pd.read_csv(\"bus_travels.csv\")\n",
        "bus_df"
      ],
      "execution_count": null,
      "outputs": [
        {
          "output_type": "execute_result",
          "data": {
            "text/html": [
              "<div>\n",
              "<style scoped>\n",
              "    .dataframe tbody tr th:only-of-type {\n",
              "        vertical-align: middle;\n",
              "    }\n",
              "\n",
              "    .dataframe tbody tr th {\n",
              "        vertical-align: top;\n",
              "    }\n",
              "\n",
              "    .dataframe thead th {\n",
              "        text-align: right;\n",
              "    }\n",
              "</style>\n",
              "<table border=\"1\" class=\"dataframe\">\n",
              "  <thead>\n",
              "    <tr style=\"text-align: right;\">\n",
              "      <th></th>\n",
              "      <th>ride_id</th>\n",
              "      <th>travel_date</th>\n",
              "      <th>travel_time</th>\n",
              "      <th>travel_from</th>\n",
              "      <th>travel_to</th>\n",
              "      <th>car_type</th>\n",
              "      <th>max_capacity</th>\n",
              "    </tr>\n",
              "  </thead>\n",
              "  <tbody>\n",
              "    <tr>\n",
              "      <th>0</th>\n",
              "      <td>247</td>\n",
              "      <td>2018-05-07</td>\n",
              "      <td>07:06</td>\n",
              "      <td>Kisii</td>\n",
              "      <td>Nairobi</td>\n",
              "      <td>Bus</td>\n",
              "      <td>49</td>\n",
              "    </tr>\n",
              "    <tr>\n",
              "      <th>1</th>\n",
              "      <td>256</td>\n",
              "      <td>2018-05-06</td>\n",
              "      <td>11:08</td>\n",
              "      <td>Kisii</td>\n",
              "      <td>Nairobi</td>\n",
              "      <td>shuttle</td>\n",
              "      <td>11</td>\n",
              "    </tr>\n",
              "    <tr>\n",
              "      <th>2</th>\n",
              "      <td>275</td>\n",
              "      <td>2018-05-04</td>\n",
              "      <td>05:00</td>\n",
              "      <td>Kisii</td>\n",
              "      <td>Nairobi</td>\n",
              "      <td>shuttle</td>\n",
              "      <td>11</td>\n",
              "    </tr>\n",
              "    <tr>\n",
              "      <th>3</th>\n",
              "      <td>285</td>\n",
              "      <td>2018-05-04</td>\n",
              "      <td>09:10</td>\n",
              "      <td>Kisii</td>\n",
              "      <td>Nairobi</td>\n",
              "      <td>shuttle</td>\n",
              "      <td>11</td>\n",
              "    </tr>\n",
              "    <tr>\n",
              "      <th>4</th>\n",
              "      <td>286</td>\n",
              "      <td>2018-05-04</td>\n",
              "      <td>09:20</td>\n",
              "      <td>Kisii</td>\n",
              "      <td>Nairobi</td>\n",
              "      <td>shuttle</td>\n",
              "      <td>11</td>\n",
              "    </tr>\n",
              "    <tr>\n",
              "      <th>...</th>\n",
              "      <td>...</td>\n",
              "      <td>...</td>\n",
              "      <td>...</td>\n",
              "      <td>...</td>\n",
              "      <td>...</td>\n",
              "      <td>...</td>\n",
              "      <td>...</td>\n",
              "    </tr>\n",
              "    <tr>\n",
              "      <th>1106</th>\n",
              "      <td>15336</td>\n",
              "      <td>2018-05-07</td>\n",
              "      <td>07:01</td>\n",
              "      <td>Oyugis</td>\n",
              "      <td>Nairobi</td>\n",
              "      <td>Bus</td>\n",
              "      <td>49</td>\n",
              "    </tr>\n",
              "    <tr>\n",
              "      <th>1107</th>\n",
              "      <td>15337</td>\n",
              "      <td>2018-05-07</td>\n",
              "      <td>07:08</td>\n",
              "      <td>Kehancha</td>\n",
              "      <td>Nairobi</td>\n",
              "      <td>Bus</td>\n",
              "      <td>49</td>\n",
              "    </tr>\n",
              "    <tr>\n",
              "      <th>1108</th>\n",
              "      <td>15338</td>\n",
              "      <td>2018-05-07</td>\n",
              "      <td>07:04</td>\n",
              "      <td>Rongo</td>\n",
              "      <td>Nairobi</td>\n",
              "      <td>Bus</td>\n",
              "      <td>49</td>\n",
              "    </tr>\n",
              "    <tr>\n",
              "      <th>1109</th>\n",
              "      <td>15339</td>\n",
              "      <td>2018-05-07</td>\n",
              "      <td>07:05</td>\n",
              "      <td>Ndhiwa</td>\n",
              "      <td>Nairobi</td>\n",
              "      <td>Bus</td>\n",
              "      <td>49</td>\n",
              "    </tr>\n",
              "    <tr>\n",
              "      <th>1110</th>\n",
              "      <td>15344</td>\n",
              "      <td>2018-05-09</td>\n",
              "      <td>08:00</td>\n",
              "      <td>Migori</td>\n",
              "      <td>Nairobi</td>\n",
              "      <td>Bus</td>\n",
              "      <td>49</td>\n",
              "    </tr>\n",
              "  </tbody>\n",
              "</table>\n",
              "<p>1111 rows × 7 columns</p>\n",
              "</div>"
            ],
            "text/plain": [
              "      ride_id travel_date travel_time  ... travel_to car_type max_capacity\n",
              "0         247  2018-05-07       07:06  ...   Nairobi      Bus           49\n",
              "1         256  2018-05-06       11:08  ...   Nairobi  shuttle           11\n",
              "2         275  2018-05-04       05:00  ...   Nairobi  shuttle           11\n",
              "3         285  2018-05-04       09:10  ...   Nairobi  shuttle           11\n",
              "4         286  2018-05-04       09:20  ...   Nairobi  shuttle           11\n",
              "...       ...         ...         ...  ...       ...      ...          ...\n",
              "1106    15336  2018-05-07       07:01  ...   Nairobi      Bus           49\n",
              "1107    15337  2018-05-07       07:08  ...   Nairobi      Bus           49\n",
              "1108    15338  2018-05-07       07:04  ...   Nairobi      Bus           49\n",
              "1109    15339  2018-05-07       07:05  ...   Nairobi      Bus           49\n",
              "1110    15344  2018-05-09       08:00  ...   Nairobi      Bus           49\n",
              "\n",
              "[1111 rows x 7 columns]"
            ]
          },
          "metadata": {
            "tags": []
          },
          "execution_count": 2
        }
      ]
    },
    {
      "cell_type": "markdown",
      "metadata": {
        "id": "IICLGbvBRYHq"
      },
      "source": [
        "## 1.2 Previewing our Dataset\n"
      ]
    },
    {
      "cell_type": "code",
      "metadata": {
        "id": "WrwHg-hzR5BY",
        "colab": {
          "base_uri": "https://localhost:8080/",
          "height": 343
        },
        "outputId": "64f060e3-7a24-4b70-8126-f37add83c132"
      },
      "source": [
        "# Let's preview the first 10 rows of our data\n",
        "# \n",
        "bus_df.head(10)"
      ],
      "execution_count": null,
      "outputs": [
        {
          "output_type": "execute_result",
          "data": {
            "text/html": [
              "<div>\n",
              "<style scoped>\n",
              "    .dataframe tbody tr th:only-of-type {\n",
              "        vertical-align: middle;\n",
              "    }\n",
              "\n",
              "    .dataframe tbody tr th {\n",
              "        vertical-align: top;\n",
              "    }\n",
              "\n",
              "    .dataframe thead th {\n",
              "        text-align: right;\n",
              "    }\n",
              "</style>\n",
              "<table border=\"1\" class=\"dataframe\">\n",
              "  <thead>\n",
              "    <tr style=\"text-align: right;\">\n",
              "      <th></th>\n",
              "      <th>ride_id</th>\n",
              "      <th>travel_date</th>\n",
              "      <th>travel_time</th>\n",
              "      <th>travel_from</th>\n",
              "      <th>travel_to</th>\n",
              "      <th>car_type</th>\n",
              "      <th>max_capacity</th>\n",
              "    </tr>\n",
              "  </thead>\n",
              "  <tbody>\n",
              "    <tr>\n",
              "      <th>0</th>\n",
              "      <td>247</td>\n",
              "      <td>2018-05-07</td>\n",
              "      <td>07:06</td>\n",
              "      <td>Kisii</td>\n",
              "      <td>Nairobi</td>\n",
              "      <td>Bus</td>\n",
              "      <td>49</td>\n",
              "    </tr>\n",
              "    <tr>\n",
              "      <th>1</th>\n",
              "      <td>256</td>\n",
              "      <td>2018-05-06</td>\n",
              "      <td>11:08</td>\n",
              "      <td>Kisii</td>\n",
              "      <td>Nairobi</td>\n",
              "      <td>shuttle</td>\n",
              "      <td>11</td>\n",
              "    </tr>\n",
              "    <tr>\n",
              "      <th>2</th>\n",
              "      <td>275</td>\n",
              "      <td>2018-05-04</td>\n",
              "      <td>05:00</td>\n",
              "      <td>Kisii</td>\n",
              "      <td>Nairobi</td>\n",
              "      <td>shuttle</td>\n",
              "      <td>11</td>\n",
              "    </tr>\n",
              "    <tr>\n",
              "      <th>3</th>\n",
              "      <td>285</td>\n",
              "      <td>2018-05-04</td>\n",
              "      <td>09:10</td>\n",
              "      <td>Kisii</td>\n",
              "      <td>Nairobi</td>\n",
              "      <td>shuttle</td>\n",
              "      <td>11</td>\n",
              "    </tr>\n",
              "    <tr>\n",
              "      <th>4</th>\n",
              "      <td>286</td>\n",
              "      <td>2018-05-04</td>\n",
              "      <td>09:20</td>\n",
              "      <td>Kisii</td>\n",
              "      <td>Nairobi</td>\n",
              "      <td>shuttle</td>\n",
              "      <td>11</td>\n",
              "    </tr>\n",
              "    <tr>\n",
              "      <th>5</th>\n",
              "      <td>287</td>\n",
              "      <td>2018-05-04</td>\n",
              "      <td>07:02</td>\n",
              "      <td>Kisii</td>\n",
              "      <td>Nairobi</td>\n",
              "      <td>Bus</td>\n",
              "      <td>49</td>\n",
              "    </tr>\n",
              "    <tr>\n",
              "      <th>6</th>\n",
              "      <td>288</td>\n",
              "      <td>2018-05-04</td>\n",
              "      <td>09:30</td>\n",
              "      <td>Kisii</td>\n",
              "      <td>Nairobi</td>\n",
              "      <td>shuttle</td>\n",
              "      <td>11</td>\n",
              "    </tr>\n",
              "    <tr>\n",
              "      <th>7</th>\n",
              "      <td>292</td>\n",
              "      <td>2018-05-04</td>\n",
              "      <td>19:03</td>\n",
              "      <td>Kisii</td>\n",
              "      <td>Nairobi</td>\n",
              "      <td>Bus</td>\n",
              "      <td>49</td>\n",
              "    </tr>\n",
              "    <tr>\n",
              "      <th>8</th>\n",
              "      <td>298</td>\n",
              "      <td>2018-05-04</td>\n",
              "      <td>09:00</td>\n",
              "      <td>Kisii</td>\n",
              "      <td>Nairobi</td>\n",
              "      <td>shuttle</td>\n",
              "      <td>11</td>\n",
              "    </tr>\n",
              "    <tr>\n",
              "      <th>9</th>\n",
              "      <td>302</td>\n",
              "      <td>2018-05-04</td>\n",
              "      <td>08:40</td>\n",
              "      <td>Kisii</td>\n",
              "      <td>Nairobi</td>\n",
              "      <td>shuttle</td>\n",
              "      <td>11</td>\n",
              "    </tr>\n",
              "  </tbody>\n",
              "</table>\n",
              "</div>"
            ],
            "text/plain": [
              "   ride_id travel_date travel_time travel_from travel_to car_type  max_capacity\n",
              "0      247  2018-05-07       07:06       Kisii   Nairobi      Bus            49\n",
              "1      256  2018-05-06       11:08       Kisii   Nairobi  shuttle            11\n",
              "2      275  2018-05-04       05:00       Kisii   Nairobi  shuttle            11\n",
              "3      285  2018-05-04       09:10       Kisii   Nairobi  shuttle            11\n",
              "4      286  2018-05-04       09:20       Kisii   Nairobi  shuttle            11\n",
              "5      287  2018-05-04       07:02       Kisii   Nairobi      Bus            49\n",
              "6      288  2018-05-04       09:30       Kisii   Nairobi  shuttle            11\n",
              "7      292  2018-05-04       19:03       Kisii   Nairobi      Bus            49\n",
              "8      298  2018-05-04       09:00       Kisii   Nairobi  shuttle            11\n",
              "9      302  2018-05-04       08:40       Kisii   Nairobi  shuttle            11"
            ]
          },
          "metadata": {
            "tags": []
          },
          "execution_count": 4
        }
      ]
    },
    {
      "cell_type": "markdown",
      "metadata": {
        "id": "RAVzK5O6IR8v"
      },
      "source": [
        "## 1.3 Accessing Information about our Dataset"
      ]
    },
    {
      "cell_type": "code",
      "metadata": {
        "id": "0d2kfemDIYWI",
        "colab": {
          "base_uri": "https://localhost:8080/"
        },
        "outputId": "28adb41f-2d3a-41f1-e08e-1f4d86dffc14"
      },
      "source": [
        "# Getting to know more about the dataset by accessing its information\n",
        "#\n",
        "bus_df.info()"
      ],
      "execution_count": null,
      "outputs": [
        {
          "output_type": "stream",
          "text": [
            "<class 'pandas.core.frame.DataFrame'>\n",
            "RangeIndex: 1111 entries, 0 to 1110\n",
            "Data columns (total 7 columns):\n",
            " #   Column        Non-Null Count  Dtype \n",
            "---  ------        --------------  ----- \n",
            " 0   ride_id       1111 non-null   int64 \n",
            " 1   travel_date   1111 non-null   object\n",
            " 2   travel_time   1111 non-null   object\n",
            " 3   travel_from   1111 non-null   object\n",
            " 4   travel_to     1111 non-null   object\n",
            " 5   car_type      1111 non-null   object\n",
            " 6   max_capacity  1111 non-null   int64 \n",
            "dtypes: int64(2), object(5)\n",
            "memory usage: 60.9+ KB\n"
          ],
          "name": "stdout"
        }
      ]
    },
    {
      "cell_type": "markdown",
      "metadata": {
        "id": "NicC8P9LMjvO"
      },
      "source": [
        "## 1.4 Answering Questions"
      ]
    },
    {
      "cell_type": "markdown",
      "metadata": {
        "id": "8izhaW7UNYGJ"
      },
      "source": [
        "Let's answer the following questions with our dataset"
      ]
    },
    {
      "cell_type": "code",
      "metadata": {
        "id": "tTOgnXvuMxcn",
        "colab": {
          "base_uri": "https://localhost:8080/"
        },
        "outputId": "e16ee2ce-7a35-40d3-d1b5-55589845c494"
      },
      "source": [
        "# Challenge 1\n",
        "# How many trips were taken on the 22/04/18?\n",
        "# \n",
        "df=bus_df[bus_df['travel_date'] == '2018-04-22']\n",
        "df['travel_date'].value_counts()"
      ],
      "execution_count": null,
      "outputs": [
        {
          "output_type": "execute_result",
          "data": {
            "text/plain": [
              "2018-04-22    66\n",
              "Name: travel_date, dtype: int64"
            ]
          },
          "metadata": {
            "tags": []
          },
          "execution_count": 18
        }
      ]
    },
    {
      "cell_type": "code",
      "metadata": {
        "id": "BNegesaWNvQs",
        "colab": {
          "base_uri": "https://localhost:8080/",
          "height": 77
        },
        "outputId": "451f93e1-d48c-4b00-c613-232831eb88ea"
      },
      "source": [
        "# Challenge 2\n",
        "# Which type of vehicle travelled on 23/04/18 from Kisii to Nairobi at 7.15am?\n",
        "#\n",
        "car_df = bus_df[(bus_df['travel_date'] == '2018-04-23') & (bus_df['travel_from'] == 'Kisii') & (bus_df['travel_to'] == 'Nairobi') & (bus_df['travel_time'] == '07:15')] \n",
        "car_df\n",
        "\n"
      ],
      "execution_count": null,
      "outputs": [
        {
          "output_type": "execute_result",
          "data": {
            "text/html": [
              "<div>\n",
              "<style scoped>\n",
              "    .dataframe tbody tr th:only-of-type {\n",
              "        vertical-align: middle;\n",
              "    }\n",
              "\n",
              "    .dataframe tbody tr th {\n",
              "        vertical-align: top;\n",
              "    }\n",
              "\n",
              "    .dataframe thead th {\n",
              "        text-align: right;\n",
              "    }\n",
              "</style>\n",
              "<table border=\"1\" class=\"dataframe\">\n",
              "  <thead>\n",
              "    <tr style=\"text-align: right;\">\n",
              "      <th></th>\n",
              "      <th>ride_id</th>\n",
              "      <th>travel_date</th>\n",
              "      <th>travel_time</th>\n",
              "      <th>travel_from</th>\n",
              "      <th>travel_to</th>\n",
              "      <th>car_type</th>\n",
              "      <th>max_capacity</th>\n",
              "    </tr>\n",
              "  </thead>\n",
              "  <tbody>\n",
              "    <tr>\n",
              "      <th>497</th>\n",
              "      <td>5676</td>\n",
              "      <td>2018-04-23</td>\n",
              "      <td>07:15</td>\n",
              "      <td>Kisii</td>\n",
              "      <td>Nairobi</td>\n",
              "      <td>shuttle</td>\n",
              "      <td>11</td>\n",
              "    </tr>\n",
              "  </tbody>\n",
              "</table>\n",
              "</div>"
            ],
            "text/plain": [
              "     ride_id travel_date travel_time  ... travel_to car_type max_capacity\n",
              "497     5676  2018-04-23       07:15  ...   Nairobi  shuttle           11\n",
              "\n",
              "[1 rows x 7 columns]"
            ]
          },
          "metadata": {
            "tags": []
          },
          "execution_count": 12
        }
      ]
    },
    {
      "cell_type": "code",
      "metadata": {
        "id": "7tilTerhNyiP",
        "colab": {
          "base_uri": "https://localhost:8080/"
        },
        "outputId": "9d784d32-1be8-41ed-a55f-1505f3f9998c"
      },
      "source": [
        "# Challenge 3\n",
        "# How many trips were made from Kisii to Nairobi?\n",
        "# \n",
        "df=bus_df[(bus_df['travel_from'] == 'Kisii') & (bus_df['travel_to'] == 'Nairobi')]\n",
        "df.value_counts()"
      ],
      "execution_count": null,
      "outputs": [
        {
          "output_type": "execute_result",
          "data": {
            "text/plain": [
              "ride_id  travel_date  travel_time  travel_from  travel_to  car_type  max_capacity\n",
              "5782     2018-04-21   05:30        Kisii        Nairobi    shuttle   11              1\n",
              "2363     2018-04-30   07:06        Kisii        Nairobi    Bus       49              1\n",
              "2406     2018-04-30   11:08        Kisii        Nairobi    shuttle   11              1\n",
              "2404     2018-04-30   11:04        Kisii        Nairobi    shuttle   11              1\n",
              "2394     2018-04-30   07:09        Kisii        Nairobi    Bus       49              1\n",
              "                                                                                    ..\n",
              "5302     2018-04-26   06:40        Kisii        Nairobi    shuttle   11              1\n",
              "5303     2018-04-26   06:30        Kisii        Nairobi    shuttle   11              1\n",
              "5305     2018-04-26   06:20        Kisii        Nairobi    shuttle   11              1\n",
              "5307     2018-04-26   07:03        Kisii        Nairobi    Bus       49              1\n",
              "247      2018-05-07   07:06        Kisii        Nairobi    Bus       49              1\n",
              "Length: 545, dtype: int64"
            ]
          },
          "metadata": {
            "tags": []
          },
          "execution_count": 28
        }
      ]
    },
    {
      "cell_type": "markdown",
      "metadata": {
        "id": "go96muO7q8Hh"
      },
      "source": [
        "545 trips where made from Kisii to Nairobi"
      ]
    },
    {
      "cell_type": "code",
      "metadata": {
        "id": "rhXeHa6IOBsq",
        "colab": {
          "base_uri": "https://localhost:8080/"
        },
        "outputId": "13f963ab-8f5c-4460-b82a-cf1c7e559e3f"
      },
      "source": [
        "# Challenge 4\n",
        "# How many trips were made by shuttle from Nairobi?\n",
        "# \n",
        "df=bus_df[(bus_df['travel_from'] == 'Nairobi') & (bus_df['car_type'] == 'shuttle')]\n",
        "df.value_counts()"
      ],
      "execution_count": null,
      "outputs": [
        {
          "output_type": "execute_result",
          "data": {
            "text/plain": [
              "Series([], dtype: int64)"
            ]
          },
          "metadata": {
            "tags": []
          },
          "execution_count": 16
        }
      ]
    },
    {
      "cell_type": "markdown",
      "metadata": {
        "id": "KQfqYdGeOeh4"
      },
      "source": [
        "There are no trips from Nairobi by shuttle.\n",
        "All trips are made to nairobi and not from it."
      ]
    },
    {
      "cell_type": "code",
      "metadata": {
        "id": "wddDP6yCOD_F",
        "colab": {
          "base_uri": "https://localhost:8080/"
        },
        "outputId": "a5d98d74-9c9e-4de1-beb8-74ae46df8af0"
      },
      "source": [
        "# Challenge 5\n",
        "# How many trips were made by bus from Nairobi to Awendo?\n",
        "# \n",
        "df=bus_df[(bus_df['travel_from'] == 'Nairobi') & (bus_df['travel_to'] == 'Awendo')]\n",
        "df.value_counts()"
      ],
      "execution_count": null,
      "outputs": [
        {
          "output_type": "execute_result",
          "data": {
            "text/plain": [
              "Series([], dtype: int64)"
            ]
          },
          "metadata": {
            "tags": []
          },
          "execution_count": 17
        }
      ]
    },
    {
      "cell_type": "markdown",
      "metadata": {
        "id": "PdTwq1I9QCpy"
      },
      "source": [
        "There were no trips made from Nairobi to Awendo"
      ]
    },
    {
      "cell_type": "code",
      "metadata": {
        "id": "OemJ0HDYOHCq",
        "colab": {
          "base_uri": "https://localhost:8080/"
        },
        "outputId": "fd35425e-48da-4773-9e10-b9b1ff28528b"
      },
      "source": [
        "# Challenge 6\n",
        "# Which was the most travelled from destination by bus?\n",
        "# \n",
        "df=bus_df[bus_df['car_type'] == 'Bus']\n",
        "df['travel_from'].value_counts()"
      ],
      "execution_count": null,
      "outputs": [
        {
          "output_type": "execute_result",
          "data": {
            "text/plain": [
              "Rongo        115\n",
              "Kisii        110\n",
              "Homa Bay      53\n",
              "Awendo        44\n",
              "Rodi          43\n",
              "Migori        41\n",
              "Nyachenge     34\n",
              "Kehancha      32\n",
              "Ndhiwa        29\n",
              "Sirare        28\n",
              "Mbita         25\n",
              "Kijauri       17\n",
              "Oyugis        12\n",
              "Sori          10\n",
              "Keroka         6\n",
              "Name: travel_from, dtype: int64"
            ]
          },
          "metadata": {
            "tags": []
          },
          "execution_count": 5
        }
      ]
    },
    {
      "cell_type": "markdown",
      "metadata": {
        "id": "nbNbpODVzYJ2"
      },
      "source": [
        "Kisii was the most travelled from destination by Bus"
      ]
    },
    {
      "cell_type": "code",
      "metadata": {
        "id": "CIxC5arSOLak",
        "colab": {
          "base_uri": "https://localhost:8080/"
        },
        "outputId": "c15c3f30-63a2-46da-89b6-f7c93bb59ae9"
      },
      "source": [
        "# Challenge 7\n",
        "# Which was the most travelled to destination?\n",
        "# \n",
        "bus_df.travel_to.value_counts()"
      ],
      "execution_count": null,
      "outputs": [
        {
          "output_type": "execute_result",
          "data": {
            "text/plain": [
              "Nairobi    1111\n",
              "Name: travel_to, dtype: int64"
            ]
          },
          "metadata": {
            "tags": []
          },
          "execution_count": 44
        }
      ]
    },
    {
      "cell_type": "code",
      "metadata": {
        "id": "gSjjnw56OP8O",
        "colab": {
          "base_uri": "https://localhost:8080/"
        },
        "outputId": "91673d3e-77b2-482f-b615-15d0a682ecd1"
      },
      "source": [
        "# Challenge 8\n",
        "# Which was the most travelled destination by bus?\n",
        "# \n",
        "\n",
        "df=bus_df[bus_df['car_type'] == 'Bus']\n",
        "df.travel_to.value_counts()"
      ],
      "execution_count": null,
      "outputs": [
        {
          "output_type": "execute_result",
          "data": {
            "text/plain": [
              "Nairobi    599\n",
              "Name: travel_to, dtype: int64"
            ]
          },
          "metadata": {
            "tags": []
          },
          "execution_count": 31
        }
      ]
    },
    {
      "cell_type": "code",
      "metadata": {
        "id": "UZLYqF7UOTtu",
        "colab": {
          "base_uri": "https://localhost:8080/"
        },
        "outputId": "7985a11c-1f7c-428d-d18c-308d0dde3d7c"
      },
      "source": [
        "# Challenge 9\n",
        "# Which town did not have a departure by shuttle?\n",
        "# \n",
        "trav_df=bus_df[bus_df['car_type'] != 'shuttle']\n",
        "trav_df.travel_from.value_counts()"
      ],
      "execution_count": null,
      "outputs": [
        {
          "output_type": "execute_result",
          "data": {
            "text/plain": [
              "Rongo        115\n",
              "Kisii        110\n",
              "Homa Bay      53\n",
              "Awendo        44\n",
              "Rodi          43\n",
              "Migori        41\n",
              "Nyachenge     34\n",
              "Kehancha      32\n",
              "Ndhiwa        29\n",
              "Sirare        28\n",
              "Mbita         25\n",
              "Kijauri       17\n",
              "Oyugis        12\n",
              "Sori          10\n",
              "Keroka         6\n",
              "Name: travel_from, dtype: int64"
            ]
          },
          "metadata": {
            "tags": []
          },
          "execution_count": 46
        }
      ]
    },
    {
      "cell_type": "code",
      "metadata": {
        "id": "1qk8wF3MOXDu",
        "colab": {
          "base_uri": "https://localhost:8080/"
        },
        "outputId": "2389c545-a9f5-4f4b-ed58-0c9be0a58ab3"
      },
      "source": [
        "# Challenge 10\n",
        "# Which were the most 5 travelled to destinations?\n",
        "# \n",
        "bus_df.travel_to.value_counts()"
      ],
      "execution_count": null,
      "outputs": [
        {
          "output_type": "execute_result",
          "data": {
            "text/plain": [
              "Nairobi    1111\n",
              "Name: travel_to, dtype: int64"
            ]
          },
          "metadata": {
            "tags": []
          },
          "execution_count": 49
        }
      ]
    },
    {
      "cell_type": "code",
      "metadata": {
        "id": "8xkStdjdXS3w",
        "colab": {
          "base_uri": "https://localhost:8080/"
        },
        "outputId": "f838618c-55ec-4352-f5b5-017d9a31e02b"
      },
      "source": [
        "# Challenge 11\n",
        "# Which were the least 5 travelled to destinations?\n",
        "bus_df.travel_to.value_counts()\n",
        "#The destination was only Nairobi"
      ],
      "execution_count": null,
      "outputs": [
        {
          "output_type": "execute_result",
          "data": {
            "text/plain": [
              "Nairobi    1111\n",
              "Name: travel_to, dtype: int64"
            ]
          },
          "metadata": {
            "tags": []
          },
          "execution_count": 6
        }
      ]
    },
    {
      "cell_type": "code",
      "metadata": {
        "id": "rgVsXH_5XVCh",
        "colab": {
          "base_uri": "https://localhost:8080/"
        },
        "outputId": "4c2e620c-8d18-493b-e8f0-537f2ca0bc19"
      },
      "source": [
        "# Challenge 12\n",
        "# If all shuttles travelled with full capacity, how many people travelled in shuttles from Kisii to Nairobi in the month of May?\n",
        "#\n",
        "df=bus_df[(bus_df['travel_from'] == 'Kisii') & (bus_df['travel_to'] == 'Nairobi') & (bus_df['travel_date'] < '2018-05-31') & (bus_df['travel_date'] >'2018-05-01')]\n",
        "df['max_capacity'].sum()"
      ],
      "execution_count": null,
      "outputs": [
        {
          "output_type": "execute_result",
          "data": {
            "text/plain": [
              "2421"
            ]
          },
          "metadata": {
            "tags": []
          },
          "execution_count": 12
        }
      ]
    },
    {
      "cell_type": "code",
      "metadata": {
        "colab": {
          "base_uri": "https://localhost:8080/"
        },
        "id": "lM_jkiKu4jGr",
        "outputId": "fe1bc185-ab6c-494b-d0f2-2a36bd340949"
      },
      "source": [
        "bus_df.travel_date.value_counts()"
      ],
      "execution_count": null,
      "outputs": [
        {
          "output_type": "execute_result",
          "data": {
            "text/plain": [
              "2018-04-27    108\n",
              "2018-05-01    108\n",
              "2018-04-30     95\n",
              "2018-04-25     94\n",
              "2018-04-26     91\n",
              "2018-05-03     89\n",
              "2018-04-23     78\n",
              "2018-05-02     75\n",
              "2018-04-24     73\n",
              "2018-04-22     66\n",
              "2018-04-29     64\n",
              "2018-05-04     59\n",
              "2018-04-21     40\n",
              "2018-04-28     39\n",
              "2018-05-05     13\n",
              "2018-05-06     12\n",
              "2018-05-07      6\n",
              "2018-05-09      1\n",
              "Name: travel_date, dtype: int64"
            ]
          },
          "metadata": {
            "tags": []
          },
          "execution_count": 62
        }
      ]
    },
    {
      "cell_type": "code",
      "metadata": {
        "id": "XvvFWhuDXXeP",
        "colab": {
          "base_uri": "https://localhost:8080/"
        },
        "outputId": "fc5e0952-ca53-448a-d0a4-ea88baafe1b5"
      },
      "source": [
        "# Challenge 13\n",
        "# Which date had the highest no. of trips in June?\n",
        "#\n",
        "h_trip = bus_df[(bus_df['travel_date'] < '2018-06-31') & (bus_df['travel_date'] >'2018-06-01')]\n",
        "h_trip.max()"
      ],
      "execution_count": null,
      "outputs": [
        {
          "output_type": "execute_result",
          "data": {
            "text/plain": [
              "ride_id        NaN\n",
              "travel_date    NaN\n",
              "travel_time    NaN\n",
              "travel_from    NaN\n",
              "travel_to      NaN\n",
              "car_type       NaN\n",
              "max_capacity   NaN\n",
              "dtype: float64"
            ]
          },
          "metadata": {
            "tags": []
          },
          "execution_count": 23
        }
      ]
    },
    {
      "cell_type": "code",
      "metadata": {
        "id": "q1iq02FuXc2R",
        "colab": {
          "base_uri": "https://localhost:8080/"
        },
        "outputId": "0ba469b4-5dc2-4fa4-a192-85b17b5c2179"
      },
      "source": [
        "# Challenge 14\n",
        "# On average, how many trips were made by all vehicles in a day?\n",
        "#\n",
        "date = bus_df['travel_date'].value_counts()\n",
        "trips = date.sum()/date.count() \n",
        "trips"
      ],
      "execution_count": null,
      "outputs": [
        {
          "output_type": "execute_result",
          "data": {
            "text/plain": [
              "61.72222222222222"
            ]
          },
          "metadata": {
            "tags": []
          },
          "execution_count": 16
        }
      ]
    },
    {
      "cell_type": "code",
      "metadata": {
        "id": "drAWpxBZXhcF",
        "colab": {
          "base_uri": "https://localhost:8080/"
        },
        "outputId": "365ea2f8-7d6f-4365-cdc6-b6c557083822"
      },
      "source": [
        "# Challenge 15 \n",
        "# On average, how many buses and shuttles travelled in a day?\n",
        "# \n",
        "c_type = bus_df[(bus_df['car_type'] == 'Bus')] \n",
        "day = c_type['travel_date'].value_counts()\n",
        "bus_trav_avg = day.sum()/day.count()\n",
        "bus_trav_avg"
      ],
      "execution_count": null,
      "outputs": [
        {
          "output_type": "execute_result",
          "data": {
            "text/plain": [
              "33.27777777777778"
            ]
          },
          "metadata": {
            "tags": []
          },
          "execution_count": 8
        }
      ]
    },
    {
      "cell_type": "code",
      "metadata": {
        "colab": {
          "base_uri": "https://localhost:8080/"
        },
        "id": "Za-esxL3IwP-",
        "outputId": "8a625a26-d705-45a0-d662-97292eae3542"
      },
      "source": [
        "c_type = bus_df[(bus_df['car_type'] == 'shuttle')] \n",
        "day = c_type['travel_date'].value_counts()\n",
        "bus_trav_avg = day.sum()/day.count()\n",
        "bus_trav_avg"
      ],
      "execution_count": null,
      "outputs": [
        {
          "output_type": "execute_result",
          "data": {
            "text/plain": [
              "34.13333333333333"
            ]
          },
          "metadata": {
            "tags": []
          },
          "execution_count": 6
        }
      ]
    },
    {
      "cell_type": "markdown",
      "metadata": {
        "id": "lpmrdcmRJGKJ"
      },
      "source": [
        "33.278 + 34.133 = 67.411\n",
        "\n",
        "67.411/2 = 33.7055\n"
      ]
    }
  ]
}